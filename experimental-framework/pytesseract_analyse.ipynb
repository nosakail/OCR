{
 "cells": [
  {
   "cell_type": "code",
   "execution_count": 3,
   "id": "aeead1a1-571e-4dfa-aeb1-5f75ea0a28df",
   "metadata": {},
   "outputs": [],
   "source": [
    "import pytesseract\n",
    "from PIL import Image\n",
    "\n",
    "pytesseract.pytesseract.tesseract_cmd=r'C:\\Users\\yassi\\AppData\\Local\\Tesseract-OCR\\tesseract.exe'"
   ]
  },
  {
   "cell_type": "code",
   "execution_count": 4,
   "id": "55f31b1b-2841-4dd6-9fa7-3805ac4de34b",
   "metadata": {},
   "outputs": [
    {
     "name": "stdout",
     "output_type": "stream",
     "text": [
      "‘Adobe Acrobat POF Files\n",
      "\n",
      "‘Adobe Potable Deca! Foonat(PDF) is univers Frmat ht reserves all\n",
      "‘ofthe Fons, formating, colours an raps of any source dame, eas oF\n",
      "he aplieton al platform wed eae\n",
      "\n",
      "‘Adobe PDF ian ids fom for eceoic doa isbn a it veroms the\n",
      "\n",
      "+ Anyone egbee ei open «PDF fe. All you ned iste ue Adobe Acrobat\n",
      "Render Recipe of er Se eae meinen canton ee Bes he\n",
      "oa have the apltions odo cette docu,\n",
      "\n",
      "1 PDP is lay print comet 0 any pining devi.\n",
      "PDF Sles says igay exact sero, repens of Fn sts and\n",
      "‘operating systems. Fos, nd graphics ae bt ast do later sotwae and\n",
      "\n",
      "4+ The foe Acobr Reader easy to donload a ean be fely dsb by\n",
      "\n",
      "+ Compact PDF fles ate sma th thee souce fies and download «\n",
      "ge time fora ily the Web,\n",
      "\f",
      "\n"
     ]
    }
   ],
   "source": [
    "img_file = \"test//ok.jpg\"\n",
    "img = Image.open(img_file)\n",
    "text = pytesseract.image_to_string(img)\n",
    "print(text)"
   ]
  },
  {
   "cell_type": "code",
   "execution_count": null,
   "id": "c27e22c0-9aa9-4c12-90d6-fd7abc069b64",
   "metadata": {},
   "outputs": [],
   "source": []
  }
 ],
 "metadata": {
  "kernelspec": {
   "display_name": "expfram",
   "language": "python",
   "name": "expfram"
  },
  "language_info": {
   "codemirror_mode": {
    "name": "ipython",
    "version": 3
   },
   "file_extension": ".py",
   "mimetype": "text/x-python",
   "name": "python",
   "nbconvert_exporter": "python",
   "pygments_lexer": "ipython3",
   "version": "3.11.3"
  }
 },
 "nbformat": 4,
 "nbformat_minor": 5
}
