import imutils
import easyocr
import cv2
import numpy as np
import matplotlib.pyplot as plt 




#have list of images path
from glob import glob 
data_dir = 'test'
img_fns = glob(data_dir + '/*')
#print(img_fns)





img = cv2.imread(data_dir + '/image002.jpg')
gray = cv2.cvtColor(img, cv2.COLOR_BGR2GRAY)
plt.imshow(cv2.cvtColor(gray, cv2.COLOR_BGR2RGB))
plt.axis('off')


bfilter = cv2.bilateralFilter(gray, 11, 17, 17) #Noise reduction
#edged = cv2.Canny(bfilter, 30, 200) #Edge detection
#ok = cv2.cvtColor(gray, cv2.COLOR_BGR2RGB)
#plt.imshow(cv2.cvtColor(edged, cv2.COLOR_BGR2RGB))
#plt.imshow(ok)


reader = easyocr.Reader(['en'], gpu = False)#create reader with english langage
result_1 = reader.readtext(bfilter, decoder='beamsearch') #img de base avec bfilter et beamsearch
result_2 = reader.readtext(bfilter, decoder='wordbeamsearch')# img de base avec bfilter et wordbeamsearch
result_3 = reader.readtext(img) # img de base
print(result_1)
print('----------------------------------------------------')
print('----------------------------------------------------')
print(result_2)
print('----------------------------------------------------')
print('----------------------------------------------------')
print(result_3)





from colorthief import ColorThief
#img = cv2.imread('test/image002.jpg')

ct = ColorThief("test/image002.jpg")
dominent_color = ct.get_color(quality=1)

plt.imshow([dominent_color])
plt.show()

# Convertir la couleur en niveaux de gris
#gray = np.dot(background_color[0:3], [0.299, 0.587, 0.114])

# Déterminer si la couleur du background est claire ou foncée
#if gray > 128:
    #print("La couleur du background est claire.")
#else:
    #print("La couleur du background est foncée.")



