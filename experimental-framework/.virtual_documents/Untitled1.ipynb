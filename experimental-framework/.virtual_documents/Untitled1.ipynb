import easyocr
import cv2
import os
import imghdr

import matplotlib.pyplot as plt
from PIL import Image

import pandas as pd
import numpy
from glob import glob
from tqdm.notebook import tqdm 




#Remove dodgy images



import easyocr

reader = easyocr.Reader(['en'], gpu=False)
result = reader.readtext('de.png')

#for (bbox, text, prob) in result:
  #print(text)

print(result)




# Charger l'image
image = cv2.imread('de.png')



# Obtenir les résultats de la détection de texte
result = reader.readtext('de.png')

# Dessiner les rectangles verts autour des zones de texte détectées
for detection in result:
    bbox = detection[0]
    cv2.rectangle(image, (bbox[0][0], bbox[0][1]), (bbox[2][0], bbox[2][1]), (0, 255, 0), 2)

# Enregistrer l'image avec les rectangles dessinés
cv2.imwrite('text_detection_output.png', image)



