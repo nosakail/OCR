import pytesseract
from PIL import Image

pytesseract.pytesseract.tesseract_cmd=r'C:\Users\yassi\AppData\Local\Tesseract-OCR\tesseract.exe'


img_file = "img_to_process/de2_result.png"
img = Image.open(img_file)
text = pytesseract.image_to_string(img)
print(text)



