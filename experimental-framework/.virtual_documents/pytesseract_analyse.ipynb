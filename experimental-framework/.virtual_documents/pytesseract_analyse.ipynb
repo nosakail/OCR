import pytesseract
from PIL import Image

pytesseract.pytesseract.tesseract_cmd=r'C:\Users\yassi\AppData\Local\Tesseract-OCR\tesseract.exe'


img_file = "test//ok.jpg"
img = Image.open(img_file)
text = pytesseract.image_to_string(img)
print(text)



