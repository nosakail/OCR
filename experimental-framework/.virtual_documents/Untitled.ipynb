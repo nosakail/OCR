import cv2
import pytesseract

# Charger l'image en niveaux de gris
img = cv2.imread('img_to_process/de2_result.png', cv2.IMREAD_GRAYSCALE)

# Appliquer un seuil binaire pour obtenir une image binaire
_, img_binary = cv2.threshold(img, 128, 255, cv2.THRESH_BINARY)

# Trouver les contours dans l'image binaire
contours, _ = cv2.findContours(img_binary, cv2.RETR_EXTERNAL, cv2.CHAIN_APPROX_SIMPLE)

# Parcourir les contours et effectuer un remplissage de région sur chaque contour
for contour in contours:
    # Calculer la boîte englobante du contour
    x, y, w, h = cv2.boundingRect(contour)

    # Vérifier si la hauteur de la boîte englobante est supérieure à un certain seuil (par exemple, 10 pixels)
    if h > 10:
        # Effectuer un remplissage de région sur la région délimitée par la boîte englobante
        cv2.floodFill(img_binary, None, (x, y), 0)

# Inverser les couleurs de l'image binaire pour obtenir du texte noir sur fond blanc
img_binary_inv = cv2.bitwise_not(img_binary)

# Utiliser Tesseract pour reconnaître le texte dans l'image binaire inversée
text = pytesseract.image_to_string(img_binary_inv)
print(text)



import matplotlib.pyplot as plt

import keras_ocr
pipeline = keras_ocr.pipeline.Pipeline()



