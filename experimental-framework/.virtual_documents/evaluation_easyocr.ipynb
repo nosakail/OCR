import pandas as pd
import csv


with open('data.csv', newline='') as csvfile:
    spamreader = csv.reader(csvfile, delimiter=',', quotechar='|')
    for row in spamreader:
        print(','.join(row))



'''
import os

# Spécifiez le chemin du dossier contenant les images
data_dir = 'data'

# Ouvrez le fichier CSV en mode écriture
with open('data.csv', 'w', newline='') as csvfile:
    writer = csv.writer(csvfile, delimiter=';')

    # Écrivez l'en-tête du fichier CSV
    writer.writerow(['name', 'words'])

    # Liste tous les fichiers dans le dossier data
    for filename in os.listdir(data_dir):
        # Vérifiez si le fichier est une image
        if filename.endswith(('.png', '.jpg', '.jpeg')):
            # Ajoutez le nom de fichier à la colonne "name"
            writer.writerow([filename, ''])
'''            


#pour chaque image, pour chaque mot trouvé, on verifie si le mot et present dans la liste des mots de l'image, 
#si le mot est present dans la liste des mots de l'image, on le supprime de la liste des mots de l'image et
#on le deplace dans un liste safe_words_found.  
#Si un mots trouvé n'est pas present dans la liste des mots de l'image, on le met dans une liste words_found
#a la fin : nombre de mot dans liste mot_trouvé = nb_mot_trouve
#nombre mot dansliste mots_image = nb_mot_non_trouve.


import os
import csv
import cv2
import easyocr

data_dir = 'data'
safe_words_found = []
img_words = []
words_found = []

# Créer une liste de dictionnaires pour stocker les résultats
results = []

safe_words_total_number = 0
safe_words_found_total_number = 0

# Lire le fichier CSV
with open('data.csv', newline='') as csvfile:
    spamreader = csv.DictReader(csvfile, delimiter=';')
    for row in spamreader:
        img_words = row['words'].split(',')
        
        safe_words_total_number = safe_words_total_number + len(img_words)
        
        safe_words_found = []
        words_found = []
        # Lire l'image
        image_path = os.path.join(data_dir, row['name'])
        img = cv2.imread(image_path)
        # Utiliser EasyOCR pour trouver les mots dans l'image
        reader = easyocr.Reader(['en', 'ja'], gpu=False)
        result = reader.readtext(img)
        # Vérifier si les mots trouvés sont dans la liste des mots de l'image
        for word in result:
            if word[1] in img_words:
                safe_words_found.append(word[1])
                img_words.remove(word[1])
            else:
                words_found.append(word[1])

        safe_words_found_total_number = safe_words_found_total_number + len(safe_words_found)
        
        
        # Stocker les résultats dans la liste de dictionnaires
        results.append({
            'name': row['name'],
            'safe_words_found': safe_words_found,
            'img_words': img_words,
            'words_found': words_found
        })

# Afficher les résultats
for result in results:
    nb_safe_words_found = len(result['safe_words_found'])
    nb_words_not_found = len(result['img_words'])
    if nb_words_not_found == 0 and len(result['words_found']) == 0:
        print(f"Image {result['name']} : perfect")
    else:
        print(f"Image {result['name']} : {nb_safe_words_found} safe words found, {nb_words_not_found} words not found, {len(result['words_found'])} words found in add")

print(str((safe_words_found_total_number * 100 / safe_words_total_number)) + "% of safe words found")



