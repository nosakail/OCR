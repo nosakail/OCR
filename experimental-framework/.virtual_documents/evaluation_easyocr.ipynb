import pandas as pd
import csv


with open('dat.csv', newline='') as csvfile:
    spamreader = csv.reader(csvfile, delimiter=' ', quotechar='|')
    for row in spamreader:
        print(', '.join(row))



import os

# Spécifiez le chemin du dossier contenant les images
data_dir = 'data'

# Ouvrez le fichier CSV en mode écriture
with open('data.csv', 'w', newline='') as csvfile:
    writer = csv.writer(csvfile, delimiter=';')

    # Écrivez l'en-tête du fichier CSV
    writer.writerow(['name', 'words'])

    # Liste tous les fichiers dans le dossier data
    for filename in os.listdir(data_dir):
        # Vérifiez si le fichier est une image
        if filename.endswith(('.png', '.jpg', '.jpeg')):
            # Ajoutez le nom de fichier à la colonne "name"
            writer.writerow([filename, ''])



