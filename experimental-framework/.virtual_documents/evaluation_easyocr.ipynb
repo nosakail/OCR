import pandas as pd
import csv


with open('data.csv', newline='') as csvfile:
    spamreader = csv.reader(csvfile, delimiter=',', quotechar='|')
    for row in spamreader:
        print(','.join(row))



'''
import os

# Spécifiez le chemin du dossier contenant les images
data_dir = 'data'

# Ouvrez le fichier CSV en mode écriture
with open('data.csv', 'w', newline='') as csvfile:
    writer = csv.writer(csvfile, delimiter=';')

    # Écrivez l'en-tête du fichier CSV
    writer.writerow(['name', 'words'])

    # Liste tous les fichiers dans le dossier data
    for filename in os.listdir(data_dir):
        # Vérifiez si le fichier est une image
        if filename.endswith(('.png', '.jpg', '.jpeg')):
            # Ajoutez le nom de fichier à la colonne "name"
            writer.writerow([filename, ''])
'''            


#pour chaque image, pour chaque mot trouvé, on verifie si le mot et present dans la liste des mots de l'image, 
#si le mot est present dans la liste des mots de l'image, on le supprime de la liste des mots de l'image et
#on le deplace dans un liste safe_words_found.  
#Si un mots trouvé n'est pas present dans la liste des mots de l'image, on le met dans une liste words_found
#a la fin : nombre de mot dans liste mot_trouvé = nb_mot_trouve
#nombre mot dansliste mots_image = nb_mot_non_trouve.

import cv2
import easyocr



print(result)


mots_detectes = []

# Parcourir la liste result et extraire les mots détectés
for detection in result:
    mots_detectes.append(detection[1])

# Afficher la liste des mots détectés
print(mots_detectes)


import os 

data_dir = 'data'

safe_words_found  = []
img_words = []
words_found = []

for image in os.listdir(data_dir):
    image_path = os.path.join(data_dir, image)
    img = cv2.imread(image_path)
    reader = easyocr.Reader(['en','ja'], gpu = False)#create reader with english langage
    result = reader.readtext(img)
      



