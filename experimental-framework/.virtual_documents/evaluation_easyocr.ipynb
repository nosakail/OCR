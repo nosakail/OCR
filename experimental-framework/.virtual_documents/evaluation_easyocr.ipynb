import pandas as pd
import csv


import os
import csv
import cv2
import easyocr
import time


with open('data_img_imp.csv', newline='') as csvfile:
    spamreader = csv.reader(csvfile, delimiter=',', quotechar='|')
    for row in spamreader:
        print(','.join(row))



'''
import os


data_dir = 'img_to_process'

# Ouvrez le fichier CSV en mode écriture
with open('data_img_imp.csv', 'w', newline='') as csvfile:
    writer = csv.writer(csvfile, delimiter=';')

    # Écrivez l'en-tête du fichier CSV
    writer.writerow(['name', 'words'])

    # Liste tous les fichiers dans le dossier data
    for filename in os.listdir(data_dir):
        # Vérifiez si le fichier est une image
        if filename.endswith(('.png', '.jpg', '.jpeg')):
            # Ajoutez le nom de fichier à la colonne "name"
            writer.writerow([filename, ''])
'''      


#pour chaque image, pour chaque mot trouvé, on verifie si le mot et present dans la liste des mots de l'image, 
#si le mot est present dans la liste des mots de l'image, on le supprime de la liste des mots de l'image et
#on le deplace dans un liste safe_words_found.  
#Si un mots trouvé n'est pas present dans la liste des mots de l'image, on le met dans une liste words_found
#a la fin : nombre de mot dans liste mot_trouvé = nb_mot_trouve
#nombre mot dansliste mots_image = nb_mot_non_trouve.


data_dir = 'data'
safe_words_found = []
img_words = []
words_found = []

reader = easyocr.Reader(['en', 'ja'], gpu=False)

# Créer une liste de dictionnaires pour stocker les résultats
results = []

safe_words_total_number = 0
safe_words_found_total_number = 0

# Lire le fichier CSV
with open('data.csv', newline='') as csvfile:
    spamreader = csv.DictReader(csvfile, delimiter=';')
    for row in spamreader:
        img_words = row['words'].split(',')
        
        safe_words_total_number = safe_words_total_number + len(img_words)
        
        safe_words_found = []
        words_found = []
        # Lire l'image
        image_path = os.path.join(data_dir, row['name'])
        img = cv2.imread(image_path)
        # Utiliser EasyOCR pour trouver les mots dans l'image
        #reader = easyocr.Reader(['en', 'ja'], gpu=False)
        result = reader.readtext(img)
        # Vérifier si les mots trouvés sont dans la liste des mots de l'image
        for word in result:
            if word[1] in img_words:
                safe_words_found.append(word[1])
                img_words.remove(word[1])
            else:
                words_found.append(word[1])

        safe_words_found_total_number = safe_words_found_total_number + len(safe_words_found)
        
        
        # Stocker les résultats dans la liste de dictionnaires
        results.append({
            'name': row['name'],
            'safe_words_found': safe_words_found,
            'img_words': img_words,
            'words_found': words_found
        })

# Afficher les résultats
for result in results:
    nb_safe_words_found = len(result['safe_words_found'])
    nb_words_not_found = len(result['img_words'])
    if nb_words_not_found == 0 and len(result['words_found']) == 0:
        print(f"Image {result['name']} : perfect")
    else:
        print(f"Image {result['name']} : {nb_safe_words_found} safe words found, {nb_words_not_found} words not found, {len(result['words_found'])} words found in add")

print(str((safe_words_found_total_number * 100 / safe_words_total_number)) + "% of safe words found")





'''
for each image, for each word found, we check if the word is present in the list of words in the image,
if the word is present in the list of words in the image, we delete it from the list of words in the image and
we replace it in a safe_words_found list.
If a word found is not present in the list of words in the image, we put it in a listwords_found
at the end: number of words in word_found list = nb_word_found
number of words in word_image list = nb_word_not_found.

Fonction take str in paramaters and return nothing
'''

def evaluation(data_dir, csv_file):   
    data_dir = data_dir
    safe_words_found = []
    img_words = []
    words_found = []
    results = []
    safe_words_total_number = 0
    safe_words_found_total_number = 0
    
    reader = easyocr.Reader(['en', 'ja'], gpu=False)

    with open(csv_file, newline='') as csvfile:
        spamreader = csv.DictReader(csvfile, delimiter=';')
        for row in spamreader:
            img_words = row['words'].split(',')
        
            safe_words_total_number = safe_words_total_number + len(img_words)
        
            safe_words_found = []
            words_found = []
            image_path = os.path.join(data_dir, row['name'])
            img = cv2.imread(image_path)
            result = reader.readtext(img)
            for word in result:
                if word[1] in img_words:
                    safe_words_found.append(word[1])
                    img_words.remove(word[1])
                else:
                    words_found.append(word[1])
            safe_words_found_total_number = safe_words_found_total_number + len(safe_words_found)
            results.append({
                'name': row['name'],
                'safe_words_found': safe_words_found,
                'img_words': img_words,
                'words_found': words_found
            })

    for result in results:
        nb_safe_words_found = len(result['safe_words_found'])
        nb_words_not_found = len(result['img_words'])
        if nb_words_not_found == 0 and len(result['words_found']) == 0:
            print(f"Image {result['name']} : perfect")
        else:
            print(f"Image {result['name']} : {nb_safe_words_found} safe words found, {nb_words_not_found} words not found, {len(result['words_found'])} words found in add")
    
    print(str((safe_words_found_total_number * 100 / safe_words_total_number)) + "% of safe words found")


data_dir = 'img_to_process'
csv_file = 'data_img_imp.csv'

evaluation(data_dir, csv_file)









def evaluation(data_dir, csv_file):

    data_dir = data_dir
    safe_words_found = []
    img_words = []
    words_found = []

    reader = easyocr.Reader(['en', 'ja'], gpu=False)

    # Créer une liste de dictionnaires pour stocker les résultats
    results = []

    safe_words_total_number = 0
    safe_words_found_total_number = 0
    words_found_in_add_total_number = 0  # New variable to sum up words found in addition

    # Lire le fichier CSV
    with open(csv_file, newline='') as csvfile:
        spamreader = csv.DictReader(csvfile, delimiter=';')
        for row in spamreader:
            img_words = row['words'].split(',')

            safe_words_total_number = safe_words_total_number + len(img_words)

            safe_words_found = []
            words_found = []

            # Lire l'image
            image_path = os.path.join(data_dir, row['name'])
            img = cv2.imread(image_path)
            # Utiliser EasyOCR pour trouver les mots dans l'image
            result = reader.readtext(img)
            # Vérifier si les mots trouvés sont dans la liste des mots de l'image
            for word in result:
                if word[1] in img_words:
                    safe_words_found.append(word[1])
                    img_words.remove(word[1])
                else:
                    words_found.append(word[1])
            safe_words_found_total_number = safe_words_found_total_number + len(safe_words_found)
            words_found_in_add_total_number = words_found_in_add_total_number + len(words_found)  # Sum up words found in addition

            # Stocker les résultats dans la liste de dictionnaires
            results.append({
                'name': row['name'],
                'safe_words_found': safe_words_found,
                'img_words': img_words,
                'words_found': words_found
            })

    # Afficher les résultats
    for result in results:
        nb_safe_words_found = len(result['safe_words_found'])
        nb_words_not_found = len(result['img_words'])
        if nb_words_not_found == 0 and len(result['words_found']) == 0:
            print(f"Image {result['name']} : perfect")
        else:
            print(f"Image {result['name']} : {nb_safe_words_found} safe words found, {nb_words_not_found} words not found, {len(result['words_found'])} words found in add")

    print(str((safe_words_found_total_number * 100 / safe_words_total_number)) + "% of safe words found")
    print("Total number of words found in addition: ", words_found_in_add_total_number)  # Print the total number of words found in addition



data_dir = 'img_to_process'
csv_file = 'data_img_imp.csv'

start_time = time.time()
evaluation(data_dir, csv_file)
end_time = time.time()

print(end_time-start_time)


data_dir = 'data'
csv_file = 'data.csv'

start_time = time.time()
evaluation(data_dir, csv_file)
end_time = time.time()

print(end_time-start_time)



