{
 "cells": [
  {
   "cell_type": "code",
   "execution_count": 1,
   "id": "2a05cd7b-c1ea-44db-935f-f834d0cf84a8",
   "metadata": {},
   "outputs": [],
   "source": [
    "import easyocr\n",
    "import cv2\n",
    "import os\n",
    "\n",
    "import matplotlib.pyplot as plt\n",
    "from PIL import Image\n",
    "\n",
    "import pandas as pd\n",
    "import numpy\n",
    "from glob import glob\n",
    "from tqdm.notebook import tqdm \n",
    "\n"
   ]
  },
  {
   "cell_type": "code",
   "execution_count": 2,
   "id": "4810462c-a3b0-4ef4-952d-f27688f7b277",
   "metadata": {},
   "outputs": [
    {
     "name": "stderr",
     "output_type": "stream",
     "text": [
      "Using CPU. Note: This module is much faster with a GPU.\n"
     ]
    },
    {
     "name": "stdout",
     "output_type": "stream",
     "text": [
      "[([[195, 89], [241, 89], [241, 103], [195, 103]], 'Bottom', 0.6518121899559562), ([[416, 170], [440, 170], [440, 178], [416, 178]], 'Fronm', 0.1755389816924028), ([[444, 170], [466, 170], [466, 178], [444, 178]], 'Ve', 0.3268958790007698), ([[521, 167], [573, 167], [573, 181], [521, 181]], 'Righi Vicv:', 0.33044623988181643), ([[201, 203], [233, 203], [233, 215], [201, 215]], 'Froni', 0.9858344609274438), ([[355, 267], [379, 267], [379, 281], [355, 281]], 'Left', 0.9991450905799866), ([[93, 273], [127, 273], [127, 289], [93, 289]], 'Right', 0.9982017014034448), ([[207, 305], [233, 305], [233, 319], [207, 319]], 'Top', 0.9979377220727855), ([[479, 357], [579, 357], [579, 375], [479, 375]], 'Angle Projection', 0.7612088820254337)]\n"
     ]
    }
   ],
   "source": [
    "import easyocr\n",
    "\n",
    "reader = easyocr.Reader(['en'], gpu=False)\n",
    "result = reader.readtext('de.png')\n",
    "\n",
    "#for (bbox, text, prob) in result:\n",
    "  #print(text)\n",
    "\n",
    "print(result)"
   ]
  },
  {
   "cell_type": "code",
   "execution_count": 3,
   "id": "96e6a526-d0dc-4076-83a9-c8396008fa58",
   "metadata": {},
   "outputs": [
    {
     "data": {
      "text/plain": [
       "True"
      ]
     },
     "execution_count": 3,
     "metadata": {},
     "output_type": "execute_result"
    }
   ],
   "source": [
    "\n",
    "\n",
    "# Charger l'image\n",
    "image = cv2.imread('de.png')\n",
    "\n",
    "\n",
    "\n",
    "# Obtenir les résultats de la détection de texte\n",
    "result = reader.readtext('de.png')\n",
    "\n",
    "# Dessiner les rectangles verts autour des zones de texte détectées\n",
    "for detection in result:\n",
    "    bbox = detection[0]\n",
    "    cv2.rectangle(image, (bbox[0][0], bbox[0][1]), (bbox[2][0], bbox[2][1]), (0, 255, 0), 2)\n",
    "\n",
    "# Enregistrer l'image avec les rectangles dessinés\n",
    "cv2.imwrite('text_detection_output.png', image)"
   ]
  },
  {
   "cell_type": "code",
   "execution_count": null,
   "id": "d5e4613a-d3b1-4e10-8fc0-35c12967a4bf",
   "metadata": {},
   "outputs": [],
   "source": []
  }
 ],
 "metadata": {
  "kernelspec": {
   "display_name": "expfram",
   "language": "python",
   "name": "expfram"
  },
  "language_info": {
   "codemirror_mode": {
    "name": "ipython",
    "version": 3
   },
   "file_extension": ".py",
   "mimetype": "text/x-python",
   "name": "python",
   "nbconvert_exporter": "python",
   "pygments_lexer": "ipython3",
   "version": "3.11.3"
  }
 },
 "nbformat": 4,
 "nbformat_minor": 5
}
