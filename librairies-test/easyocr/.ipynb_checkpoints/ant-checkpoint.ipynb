{
 "cells": [
  {
   "cell_type": "code",
   "execution_count": 6,
   "id": "71b82c00-cd9f-4c92-8101-77e2df94fa4b",
   "metadata": {},
   "outputs": [],
   "source": [
    "import easyocr\n",
    "from PIL import Image, ImageDraw\n",
    "import time"
   ]
  },
  {
   "cell_type": "code",
   "execution_count": 7,
   "id": "66b0ce04-5836-4102-a3ba-76472b7026e8",
   "metadata": {},
   "outputs": [
    {
     "name": "stderr",
     "output_type": "stream",
     "text": [
      "Using CPU. Note: This module is much faster with a GPU.\n"
     ]
    }
   ],
   "source": [
    "# download model\n",
    "reader = easyocr.Reader(['en'], gpu=False)\n",
    "\n",
    "im = Image.open(\"ant.png\")\n",
    "\n",
    "\n",
    "start_time = time.time()# Start of timing\n",
    "bounds = reader.readtext('ant.png')#analyse\n",
    "end_time = time.time()# end of timing\n",
    "processing_time = end_time - start_time\n"
   ]
  },
  {
   "cell_type": "code",
   "execution_count": 9,
   "id": "dc347db6-cbe5-4171-bc07-f2f98d3e9f47",
   "metadata": {},
   "outputs": [
    {
     "name": "stdout",
     "output_type": "stream",
     "text": [
      "Processing and analysis time : 14.35 seconds\n"
     ]
    }
   ],
   "source": [
    "# Dessiner les boîtes englobantes\n",
    "def draw_boxes(image, bounds, color=(0, 255, 0), width=2):\n",
    "    draw = ImageDraw.Draw(image)\n",
    "    for bound in bounds:\n",
    "        p0, p1, p2, p3 = bound[0]\n",
    "        draw.line([tuple(p0), tuple(p1), tuple(p2), tuple(p3), tuple(p0)], fill=color, width=width)\n",
    "    return image\n",
    "\n",
    "\n",
    "result_image = draw_boxes(im, bounds)\n",
    "result_image.save(\"result.png\")\n",
    "result_image.show()\n",
    "\n",
    "print(f\"Processing and analysis time : {processing_time:.2f} seconds\")"
   ]
  }
 ],
 "metadata": {
  "kernelspec": {
   "display_name": "librairiestest",
   "language": "python",
   "name": "librairiestest"
  },
  "language_info": {
   "codemirror_mode": {
    "name": "ipython",
    "version": 3
   },
   "file_extension": ".py",
   "mimetype": "text/x-python",
   "name": "python",
   "nbconvert_exporter": "python",
   "pygments_lexer": "ipython3",
   "version": "3.11.3"
  }
 },
 "nbformat": 4,
 "nbformat_minor": 5
}
