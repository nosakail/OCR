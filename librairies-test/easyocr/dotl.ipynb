{
 "cells": [
  {
   "cell_type": "code",
   "execution_count": 1,
   "id": "46111fce-eb38-4ac2-a0c5-cb95085913ee",
   "metadata": {},
   "outputs": [],
   "source": [
    "import easyocr\n",
    "import cv2\n",
    "import time"
   ]
  },
  {
   "cell_type": "code",
   "execution_count": 5,
   "id": "4452667d-df01-4c22-927c-f71cdd4ab2df",
   "metadata": {},
   "outputs": [
    {
     "name": "stderr",
     "output_type": "stream",
     "text": [
      "Using CPU. Note: This module is much faster with a GPU.\n"
     ]
    }
   ],
   "source": [
    "# Charger l'image\n",
    "image = cv2.imread('DOTL.jpg')\n",
    "\n",
    "# Initialiser EasyOCR avec la langue française\n",
    "reader = easyocr.Reader(['en'], gpu=False)\n",
    "start_time = time.time()# Start of timing\n",
    "result = reader.readtext('DOTL.jpg')\n",
    "end_time = time.time()# end of timing\n",
    "processing_time = end_time - start_time"
   ]
  },
  {
   "cell_type": "code",
   "execution_count": 6,
   "id": "f0aba589-a063-40e4-92bd-720cea1be8eb",
   "metadata": {},
   "outputs": [
    {
     "name": "stdout",
     "output_type": "stream",
     "text": [
      "Processing and analysis time : 1.74 seconds\n"
     ]
    }
   ],
   "source": [
    "\n",
    "for detection in result:\n",
    "    bbox = detection[0]\n",
    "    cv2.rectangle(image, (bbox[0][0], bbox[0][1]), (bbox[2][0], bbox[2][1]), (0, 255, 0), 2)\n",
    "\n",
    "# Enregistrer l'image avec les rectangles dessinés\n",
    "cv2.imwrite('text_detection_output.jpg', image)\n",
    "print(f\"Processing and analysis time : {processing_time:.2f} seconds\")"
   ]
  },
  {
   "cell_type": "code",
   "execution_count": 7,
   "id": "cc6c5be6-4358-4c5c-b614-b48b1ea70097",
   "metadata": {},
   "outputs": [
    {
     "name": "stdout",
     "output_type": "stream",
     "text": [
      "[([[479, 231], [614, 231], [614, 260], [479, 260]], 'Drive on left', 0.9875213058715957), ([[480, 278], [651, 278], [651, 308], [480, 308]], 'Tenez la gauche', 0.743229351247075), ([[476, 328], [608, 328], [608, 354], [476, 354]], 'Links fanren', 0.913349747429925)]\n"
     ]
    }
   ],
   "source": [
    "print(result)"
   ]
  },
  {
   "cell_type": "code",
   "execution_count": null,
   "id": "020f66ce-75f0-4c03-a37a-ca018c3b5e5a",
   "metadata": {},
   "outputs": [],
   "source": []
  }
 ],
 "metadata": {
  "kernelspec": {
   "display_name": "librairiestest",
   "language": "python",
   "name": "librairiestest"
  },
  "language_info": {
   "codemirror_mode": {
    "name": "ipython",
    "version": 3
   },
   "file_extension": ".py",
   "mimetype": "text/x-python",
   "name": "python",
   "nbconvert_exporter": "python",
   "pygments_lexer": "ipython3",
   "version": "3.11.3"
  }
 },
 "nbformat": 4,
 "nbformat_minor": 5
}
