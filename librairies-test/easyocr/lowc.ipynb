{
 "cells": [
  {
   "cell_type": "code",
   "execution_count": 2,
   "id": "71b82c00-cd9f-4c92-8101-77e2df94fa4b",
   "metadata": {},
   "outputs": [
    {
     "name": "stderr",
     "output_type": "stream",
     "text": [
      "C:\\Users\\yassi\\Desktop\\OCR\\librairies-test\\librairiestest\\Lib\\site-packages\\tqdm\\auto.py:21: TqdmWarning: IProgress not found. Please update jupyter and ipywidgets. See https://ipywidgets.readthedocs.io/en/stable/user_install.html\n",
      "  from .autonotebook import tqdm as notebook_tqdm\n"
     ]
    }
   ],
   "source": [
    "import easyocr\n",
    "from PIL import Image, ImageDraw\n",
    "import time"
   ]
  },
  {
   "cell_type": "code",
   "execution_count": 3,
   "id": "66b0ce04-5836-4102-a3ba-76472b7026e8",
   "metadata": {},
   "outputs": [
    {
     "name": "stderr",
     "output_type": "stream",
     "text": [
      "Using CPU. Note: This module is much faster with a GPU.\n"
     ]
    }
   ],
   "source": [
    "# download model\n",
    "reader = easyocr.Reader(['en'], gpu=False)\n",
    "\n",
    "im = Image.open(\"lowc.jpg\")\n",
    "\n",
    "\n",
    "start_time = time.time()# Start of timing\n",
    "bounds = reader.readtext('lowc.jpg')#analyse\n",
    "end_time = time.time()# end of timing\n",
    "processing_time = end_time - start_time\n"
   ]
  },
  {
   "cell_type": "code",
   "execution_count": 4,
   "id": "686ee531-5c02-4378-9468-d22cdd0ffed7",
   "metadata": {},
   "outputs": [
    {
     "name": "stdout",
     "output_type": "stream",
     "text": [
      "2.033540964126587\n"
     ]
    }
   ],
   "source": [
    "print(processing_time)"
   ]
  },
  {
   "cell_type": "code",
   "execution_count": 5,
   "id": "cf85bcd7-b0e4-4f1d-b80d-3c55642b2b54",
   "metadata": {},
   "outputs": [
    {
     "name": "stdout",
     "output_type": "stream",
     "text": [
      "[([[31, 43], [645, 43], [645, 135], [31, 135]], 'C D N 2 $', 0.5834150080099879), ([[30, 172], [648, 172], [648, 270], [30, 270]], 'I ChOD', 0.010937162226305915), ([[29, 307], [643, 307], [643, 399], [29, 399]], '', 0.0)]\n"
     ]
    }
   ],
   "source": [
    "print(bounds)"
   ]
  },
  {
   "cell_type": "code",
   "execution_count": 4,
   "id": "dc347db6-cbe5-4171-bc07-f2f98d3e9f47",
   "metadata": {},
   "outputs": [
    {
     "name": "stdout",
     "output_type": "stream",
     "text": [
      "Processing and analysis time : 4.85 seconds\n"
     ]
    }
   ],
   "source": [
    "# Dessiner les boîtes englobantes\n",
    "def draw_boxes(image, bounds, color=(0, 255, 0), width=2):\n",
    "    draw = ImageDraw.Draw(image)\n",
    "    for bound in bounds:\n",
    "        p0, p1, p2, p3 = bound[0]\n",
    "        draw.line([tuple(p0), tuple(p1), tuple(p2), tuple(p3), tuple(p0)], fill=color, width=width)\n",
    "    return image\n",
    "\n",
    "\n",
    "result_image = draw_boxes(im, bounds)\n",
    "result_image.save(\"result_lowc.png\")\n",
    "result_image.show()\n",
    "\n",
    "print(f\"Processing and analysis time : {processing_time:.2f} seconds\")"
   ]
  },
  {
   "cell_type": "code",
   "execution_count": 5,
   "id": "98ae8313-fc72-458a-9466-aeea4f4fbbc5",
   "metadata": {},
   "outputs": [
    {
     "name": "stdout",
     "output_type": "stream",
     "text": [
      "C D N 2 $\n",
      "I ChOD\n",
      "\n"
     ]
    }
   ],
   "source": [
    "for bound in bounds:\n",
    "    print(bound[1])"
   ]
  },
  {
   "cell_type": "code",
   "execution_count": 6,
   "id": "b9b5a149-ca1a-4809-b792-602e7f6f440e",
   "metadata": {},
   "outputs": [],
   "source": [
    "result_1 = reader.readtext(im, decoder='beamsearch')"
   ]
  },
  {
   "cell_type": "code",
   "execution_count": 7,
   "id": "ee56d22f-b4e3-4ce4-9425-9821a7ca41be",
   "metadata": {},
   "outputs": [
    {
     "name": "stdout",
     "output_type": "stream",
     "text": [
      "[([[33, 47], [544, 47], [544, 133], [33, 133]], 'C D N 2', 0.7918846784837801), ([[568, 50], [642, 50], [642, 130], [568, 130]], '8', 0.4039720176252217), ([[31, 177], [523, 177], [523, 267], [31, 267]], ' (', 0.06063243484133388), ([[564, 182], [642, 182], [642, 262], [564, 262]], '', 0.0), ([[31, 309], [273, 309], [273, 397], [31, 397]], '', 0.0), ([[295, 309], [511, 309], [511, 393], [295, 393]], '', 0.0), ([[562, 314], [634, 314], [634, 388], [562, 388]], '', 0.0)]\n"
     ]
    }
   ],
   "source": [
    "print(result_1)"
   ]
  },
  {
   "cell_type": "code",
   "execution_count": null,
   "id": "251237f2-216a-4b42-8b26-5fd3f56e23af",
   "metadata": {},
   "outputs": [],
   "source": []
  }
 ],
 "metadata": {
  "kernelspec": {
   "display_name": "librairiestest",
   "language": "python",
   "name": "librairiestest"
  },
  "language_info": {
   "codemirror_mode": {
    "name": "ipython",
    "version": 3
   },
   "file_extension": ".py",
   "mimetype": "text/x-python",
   "name": "python",
   "nbconvert_exporter": "python",
   "pygments_lexer": "ipython3",
   "version": "3.11.3"
  }
 },
 "nbformat": 4,
 "nbformat_minor": 5
}
