{
 "cells": [
  {
   "cell_type": "code",
   "execution_count": 1,
   "id": "59913f21-ae19-44bf-84be-2b290c67bbc3",
   "metadata": {},
   "outputs": [
    {
     "name": "stdout",
     "output_type": "stream",
     "text": [
      "Requirement already satisfied: pillow in c:\\users\\yassi\\appdata\\local\\programs\\python\\python311\\lib\\site-packages (10.3.0)\n"
     ]
    }
   ],
   "source": [
    "!pip install pillow "
   ]
  },
  {
   "cell_type": "code",
   "execution_count": 2,
   "id": "7b0715cf-60f1-4324-8290-0d39c4c2c37f",
   "metadata": {},
   "outputs": [
    {
     "name": "stdout",
     "output_type": "stream",
     "text": [
      "Requirement already satisfied: opencv-python in c:\\users\\yassi\\appdata\\local\\programs\\python\\python311\\lib\\site-packages (4.9.0.80)\n",
      "Requirement already satisfied: numpy>=1.21.2 in c:\\users\\yassi\\appdata\\local\\programs\\python\\python311\\lib\\site-packages (from opencv-python) (1.26.4)\n"
     ]
    }
   ],
   "source": [
    "!pip install opencv-python"
   ]
  },
  {
   "cell_type": "code",
   "execution_count": 3,
   "id": "ffb89493-8c77-4587-b117-0dce5106f1c2",
   "metadata": {
    "scrolled": true
   },
   "outputs": [
    {
     "name": "stdout",
     "output_type": "stream",
     "text": [
      "Requirement already satisfied: pytesseract in c:\\users\\yassi\\appdata\\local\\programs\\python\\python311\\lib\\site-packages (0.3.10)\n",
      "Requirement already satisfied: packaging>=21.3 in c:\\users\\yassi\\appdata\\local\\programs\\python\\python311\\lib\\site-packages (from pytesseract) (24.0)\n",
      "Requirement already satisfied: Pillow>=8.0.0 in c:\\users\\yassi\\appdata\\local\\programs\\python\\python311\\lib\\site-packages (from pytesseract) (10.3.0)\n"
     ]
    }
   ],
   "source": [
    "!pip install pytesseract"
   ]
  },
  {
   "cell_type": "code",
   "execution_count": 4,
   "id": "dfff6ce8-3326-475d-b0d7-0d4fca2f5311",
   "metadata": {},
   "outputs": [
    {
     "name": "stdout",
     "output_type": "stream",
     "text": [
      "Requirement already satisfied: pillow in c:\\users\\yassi\\appdata\\local\\programs\\python\\python311\\lib\\site-packages (10.3.0)\n"
     ]
    }
   ],
   "source": [
    "!pip install pillow"
   ]
  },
  {
   "cell_type": "code",
   "execution_count": 5,
   "id": "9db005db-681c-4130-a921-917c0dfca1a3",
   "metadata": {},
   "outputs": [
    {
     "name": "stdout",
     "output_type": "stream",
     "text": [
      "Requirement already satisfied: pytesseract in c:\\users\\yassi\\appdata\\local\\programs\\python\\python311\\lib\\site-packages (0.3.10)\n",
      "Requirement already satisfied: packaging>=21.3 in c:\\users\\yassi\\appdata\\local\\programs\\python\\python311\\lib\\site-packages (from pytesseract) (24.0)\n",
      "Requirement already satisfied: Pillow>=8.0.0 in c:\\users\\yassi\\appdata\\local\\programs\\python\\python311\\lib\\site-packages (from pytesseract) (10.3.0)\n"
     ]
    }
   ],
   "source": [
    "!python -m pip install pytesseract"
   ]
  },
  {
   "cell_type": "code",
   "execution_count": 10,
   "id": "9b444ccd-b482-419d-b404-7649d482eeb7",
   "metadata": {},
   "outputs": [],
   "source": [
    "import pytesseract\n",
    "from PIL import Image"
   ]
  },
  {
   "cell_type": "code",
   "execution_count": 11,
   "id": "56de77f3-72cb-4f47-9034-3be037a148f7",
   "metadata": {},
   "outputs": [],
   "source": [
    "pytesseract.pytesseract.tesseract_cmd=r'C:\\Users\\yassi\\AppData\\Local\\Tesseract-OCR\\tesseract.exe'"
   ]
  },
  {
   "cell_type": "code",
   "execution_count": 12,
   "id": "08536b34-aad7-4443-874d-bf4c78c4c458",
   "metadata": {},
   "outputs": [],
   "source": [
    "img_file = \"DOTL.jpg\""
   ]
  },
  {
   "cell_type": "code",
   "execution_count": 13,
   "id": "85710433-4322-4894-8c30-dc2cfd389f4e",
   "metadata": {},
   "outputs": [],
   "source": [
    "img = Image.open(img_file)"
   ]
  },
  {
   "cell_type": "code",
   "execution_count": 14,
   "id": "10facae2-6b13-4ef4-b7f0-4dc06f9bc835",
   "metadata": {},
   "outputs": [],
   "source": [
    "text = pytesseract.image_to_string(img)"
   ]
  },
  {
   "cell_type": "code",
   "execution_count": 15,
   "id": "cced8a14-6f23-42d6-b15f-b61514eb1ff2",
   "metadata": {},
   "outputs": [
    {
     "name": "stdout",
     "output_type": "stream",
     "text": [
      " \n",
      "\f",
      "\n"
     ]
    }
   ],
   "source": [
    "print(text)"
   ]
  },
  {
   "cell_type": "code",
   "execution_count": 12,
   "id": "dbb8a9dd-ba19-4883-a896-d019f928f7b3",
   "metadata": {},
   "outputs": [],
   "source": [
    "import cv2"
   ]
  },
  {
   "cell_type": "code",
   "execution_count": 13,
   "id": "f3c34ac6-962b-47ee-a543-48c3f2fa1b1d",
   "metadata": {},
   "outputs": [],
   "source": [
    "img_to_stuctured = cv2.imread(img_file)\n",
    "base_image = img_to_stuctured.copy()"
   ]
  },
  {
   "cell_type": "code",
   "execution_count": 14,
   "id": "f852228f-3839-4573-af10-75bacb9e99bc",
   "metadata": {},
   "outputs": [],
   "source": [
    "gray = cv2.cvtColor(img_to_stuctured, cv2.COLOR_BGR2GRAY)"
   ]
  },
  {
   "cell_type": "code",
   "execution_count": 15,
   "id": "2185055e-6de4-4847-ac8c-fa0bfe981798",
   "metadata": {},
   "outputs": [
    {
     "data": {
      "text/plain": [
       "True"
      ]
     },
     "execution_count": 15,
     "metadata": {},
     "output_type": "execute_result"
    }
   ],
   "source": [
    "#cv2.imwrite(\"DOTL_gray.png\", gray)"
   ]
  },
  {
   "cell_type": "code",
   "execution_count": 16,
   "id": "985c3761-39cf-483d-b9fb-088907acfc98",
   "metadata": {},
   "outputs": [],
   "source": [
    "blur = cv2.GaussianBlur(gray, (7,7), 0)"
   ]
  },
  {
   "cell_type": "code",
   "execution_count": 17,
   "id": "aea1d333-c028-4117-8293-4ef847ebb483",
   "metadata": {},
   "outputs": [
    {
     "data": {
      "text/plain": [
       "True"
      ]
     },
     "execution_count": 17,
     "metadata": {},
     "output_type": "execute_result"
    }
   ],
   "source": [
    "#cv2.imwrite(\"DOTL_blur.png\", blur)"
   ]
  },
  {
   "cell_type": "code",
   "execution_count": 18,
   "id": "203b1320-0c27-44b3-a81f-42d4a09790c8",
   "metadata": {},
   "outputs": [],
   "source": [
    "thresh = cv2.threshold(blur, 0, 255, cv2.THRESH_BINARY_INV + cv2.THRESH_OTSU)[1]"
   ]
  },
  {
   "cell_type": "code",
   "execution_count": 19,
   "id": "8e95281a-7b2f-4026-852f-8d3722173ead",
   "metadata": {},
   "outputs": [
    {
     "data": {
      "text/plain": [
       "True"
      ]
     },
     "execution_count": 19,
     "metadata": {},
     "output_type": "execute_result"
    }
   ],
   "source": [
    "#cv2.imwrite(\"DOTL_thresh.png\", thresh)"
   ]
  },
  {
   "cell_type": "code",
   "execution_count": 20,
   "id": "5f7ac92d-ca06-426f-b83a-ef58de3fbb02",
   "metadata": {},
   "outputs": [],
   "source": [
    "kernal = cv2.getStructuringElement(cv2.MORPH_RECT,(3,13))"
   ]
  },
  {
   "cell_type": "code",
   "execution_count": 21,
   "id": "9fa5164d-25a0-4996-84b7-fdc44dfbac32",
   "metadata": {},
   "outputs": [
    {
     "data": {
      "text/plain": [
       "True"
      ]
     },
     "execution_count": 21,
     "metadata": {},
     "output_type": "execute_result"
    }
   ],
   "source": [
    "cv2.imwrite(\"DOTL_kernal.png\", kernal)"
   ]
  },
  {
   "cell_type": "code",
   "execution_count": 22,
   "id": "cefd95d6-6abd-41d8-a3c2-e4bafe4c8f7a",
   "metadata": {},
   "outputs": [],
   "source": [
    "dilate = cv2.dilate(thresh, kernal, iterations = 1)"
   ]
  },
  {
   "cell_type": "code",
   "execution_count": 23,
   "id": "773e4a19-a7a8-44bd-a88e-2236c8333f29",
   "metadata": {},
   "outputs": [
    {
     "data": {
      "text/plain": [
       "True"
      ]
     },
     "execution_count": 23,
     "metadata": {},
     "output_type": "execute_result"
    }
   ],
   "source": [
    "cv2.imwrite(\"DOTL_dilate.png\", dilate)"
   ]
  },
  {
   "cell_type": "code",
   "execution_count": 24,
   "id": "90e59685-62dc-4ec5-95e0-be8b3eea75b7",
   "metadata": {},
   "outputs": [],
   "source": [
    "cnts = cv2.findContours(dilate, cv2.RETR_EXTERNAL, cv2.CHAIN_APPROX_SIMPLE)"
   ]
  },
  {
   "cell_type": "code",
   "execution_count": 25,
   "id": "2a29bb81-8d2a-4554-8a95-0ec1e1d27b94",
   "metadata": {},
   "outputs": [],
   "source": [
    "cnts = cnts[0] if len(cnts) == 2 else cnts[1]"
   ]
  },
  {
   "cell_type": "code",
   "execution_count": 26,
   "id": "fcac27f9-7ccf-4d19-a7b5-d264ccaaa5eb",
   "metadata": {},
   "outputs": [],
   "source": [
    "cnts = sorted(cnts, key=lambda x: cv2.boundingRect(x)[0])"
   ]
  },
  {
   "cell_type": "code",
   "execution_count": 27,
   "id": "be8afa84-bbe6-4120-8aca-b5d9116ae1bf",
   "metadata": {},
   "outputs": [
    {
     "data": {
      "text/plain": [
       "True"
      ]
     },
     "execution_count": 27,
     "metadata": {},
     "output_type": "execute_result"
    }
   ],
   "source": [
    "results = []\n",
    "for c in cnts: \n",
    "    x,y,w,h = cv2.boundingRect(c)\n",
    "    if h > 200 and w > 20:\n",
    "        roi = img_to_stuctured[y:y+h, x:x+h]\n",
    "        cv2.imwrite(\"DOTL_roi.png\", roi)\n",
    "        cv2.rectangle(img_to_stuctured, (x,y), (x+w, y+h), (36, 255, 12), 2)\n",
    "        ocr_result = pytesseract.image_to_string(roi)\n",
    "        ocr_result = ocr_result.split(\"\\n\")\n",
    "        #for item in ocr_rµesult : \n",
    "            #item = item.strip()\n",
    "            #item = item.split(\" \")[0]\n",
    "            #print(item)\n",
    "        for item in ocr_result:\n",
    "            results.append(item)\n",
    "cv2.imwrite(\"DOTL_bbox_new.png\", img_to_stuctured)"
   ]
  },
  {
   "cell_type": "code",
   "execution_count": 144,
   "id": "766a140f-77d8-4976-944b-61f9287292b5",
   "metadata": {},
   "outputs": [
    {
     "name": "stdout",
     "output_type": "stream",
     "text": [
      "['Boker’s Northamptonshire,', '9n, 13 n,, 38 n,', '', \"Baker's MSS. at Cambridge\", '146 n.', '', 'Banks’s Dormant and Ex.', 'tinct Baronage, 54 n.', '', 'Bardolph, co. Norf., 121 n.', '', 'Barkby, co. Leic., 147 n.', '', 'Barlinges, monastery, 39', '', 'Baynard Castle, London, 7', 'lin', '', \"Baxter's Saints’ Everlastin,\", 'Rest, 150', '', ' ', '', ' ', '\\x0c', ' ', '', 'Agnus of Gold, 6; with the', 'Trinitie, 6; with St. Eras-', 'mus, 6; Salutation of Our', 'Lady, 6; St. Barbara, 6', '', 'Allington, co, Leic., manor,', '', '  ', ' ', ' ', '  ', '  ', '   ', '    ', '   ', ' ', ' ', '  ', '  ', '', '39', 'All Souls’ College, Oxford,', '23', '', 'Alvescot, co, Oxon., 118 n.', 'America, South, 72', '', 'Amwell, co. Herts, 94-95', 'Ancastre, co. Linc., manor,', '', 'Appelby, co. Linc., manor,', '40', '', 'Arms, Gresham', 'Ferneley, 68', 'Arras of the Wheel of For-', '', 'tune, 2; St. John Baptist,', '2; Mary Maudeleyn, 2;', 'Passion of our Lord, 2;', 'St. George, 2', 'Ashington, co. Somt., 70 n.', 'Assherugge, House of, 7', 'Audley End, 133 n.', '', 'impalin;', '', ' ', '', ' ', '', '‘eadlam, Spittel at, 63', 'eckamsfield, co. Berks, 1', 'edford Level Fens, 121', 'edlam, 63', '', 'Beltcham, co. Linc., gran;', '3!', '', 'Berkhampstead, co. Her', '70 n.; castle, 3; church', 'Berry Barnes, manor, 114', 'Berry’s Sussex Genealogi', '1220.', 'Bevercotes, co. Notts. 152', 'Billingbere, co. Berks, 59', 'Billingley, co. Linc. p:', 'sonage, 36', 'Biographia Britannica, 81 |', 'Bishopsgate Street, 58 n. 6', 'Blackfriars, London, 9, 83', 'liburgh, co. Linc. manor,', 'Bollington, co. Linc. mon:', 'tery, 39', 'jonaventure', 'Book of, 3', '‘ooks called “Ledgers a', 'Grayles,’’ 23', 'wee', '', 'and Hilt', '', ' ', '', ' ', '\\x0c', ' ', '', 'Beadlam, Spittel at, 63', '', 'Beckamsfield, co. Berks, 100)', '', 'Bedford Level Fens, 121', '', 'Bedlam, 63', '', 'Belteham, co. Linc., grange,', '3!', '', 'Berkhampstead, co. Herts,', '70 n.; castle, 3; church, 7', 'Berry Barnes, manor, 114', 'Berry’s Sussex Genealogies,', '1220.', 'Bevercotes, co. Notts. 152', 'Billingbere, co, Berks, 59 n.', 'Billingley, co. Line, par-', 'sonage, 36', '‘Biographia Britannica, 81 n.', 'Bishopsgate Street, 58 n. 63', 'Blackfriars, London, 9, 83', 'Bliburgh, co. Linc. manor, 40', 'Bollington, co. Linc. monas-|', 'tery, 39', 'Bonaventure', 'Book of, 3', 'Books called “Ledgers and', 'Grayles,’? 23', 'Borough-Barnes, manor, 114', 'Boston, co. Linc. Blackfriars,', '3!', '', 'and Hilton,', '', 'Boughton, co. Northton, 9,|', '130,', '', 'Bradwell Grove, 112, 114', '', 'Bradwell, co. Oxon, 112', '', 'Braybroke’s (Lord), Audley]', 'End, 133 n.', '', 'Brayley’s History of Surrey,|', '121n.', '', 'Bread-street Hill, London,', '155, 157', '', 'Bridges’s Northampton, 13,|', '', '14n', '', ' ', '', '   ', '', ' ', '', ' ', ' ', '', 'romley’s (Sir George), Col', '', 'lection of Original Royal', '', 'Letters, 143 n.', '', 'russels, 128', '', 'ucklond, co. Devon, 72, 77)', '', 'juda, Siege of, 142 n.', '', 'jurford, co, Oxon, 111—116', '', 'manor, 114', '', 'Burgoyne’s Life of Gresham,', '57', '', '      ', '   ', '    ', '    ', '   ', '   ', '    ', ' ', '', '  ', '', '  ', '', '  ', '', 'Burnett (Bishop), 138', 'Burwell, co. Linc, manor, 35]', 'Burwood, 132', 'Bushills, 96', '', 'Calais, 81 n.', 'Calceby, co. Linc. manor, 33)', 'Cambridge, Trinity hall, 42', 'Canterbury Cathedral, 21, 23;', 'Chapel of St. Thomas, 21', '‘anwell, co. Line. grange,135', '‘arisbrook, 99', 'Carrywell, co. Staff. 160', 'Casauboni Epistole, 81 n.', \"Cattley’s edition of Foxre's\", 'Acts and Monuments, 43 n,', '44n,', '‘halgrove, co. Oxon, 99', 'harity Reports, 98 n.', 'Charing Cross, 35', 'Charlinch,co.Somt.parsonage', 'and manor, 141, 141 n.', 'Chaucer’s monument, 119', 'Christchurch, Grey Friars,', 'London, 63 ; London, 124', 'Civil War, the, 113', 'Clink, bailiwick, 45 n.', 'Cloth of St. John Baptist, 5', 'Collar of the Order of the', 'Garter, 29', '', ' ', ' ', '\\x0c', 'Calais, 81 n.', 'Calceby, co. Linc. manor, 33', 'Cambridge, Trinity hall, 42', 'Canterbury Cathedral, 21, 23;', 'Chapel of St. Thomas, 21', 'Canwell, co. Line. grange,135:', 'Carisbrook, 99', 'Carrywell, co. Staff. 160', 'Casauboni Epistole, 81 n.', \"Cattley’s edition of Foxe's\", 'Acts and Monuments, 43 n,', '44n,', '‘halgrove, co. Oxon, 99', 'harity Reports, 98 n.', 'Charing Cross, 35', 'Charlinch,co.Somt.parsonage', 'and manor, 141, 141 n.', 'Chaucer’s monument, 119', 'Christchurch, Grey Friars,', 'London, 63 ; London, 124', 'Civil War, the, 113', 'Clink, bailiwick, 45 n.', 'Cloth of St. John Baptist, 5', 'Collar of the Order of the', 'Garter, 29', '', ' ', '', ' ', '\\x0c', 'Bromley’s (Sir George), Col.', 'lection of Original Royal', 'Letters, 143 n.', '', 'Brussels, 128', '', 'Bucklond, co. Devon, 72, 77', '', 'Buda, Siege of, 142 n.', '', 'Burford, co, Oxon, 111—116', 'manor, 114', '', 'Burgoyne’s Life of Gresham,', '57', '', 'Burnett (Bishop), 138', 'Burwell, co. Linc, manor, 35)', 'Burwood, 132', '', 'Bushills, 96', '', ' ', '', ' ', '\\x0c']\n"
     ]
    }
   ],
   "source": [
    "print(results)"
   ]
  },
  {
   "cell_type": "code",
   "execution_count": 156,
   "id": "81f5961e-4cf5-4abb-b99a-51c6a8b4992b",
   "metadata": {},
   "outputs": [
    {
     "name": "stdout",
     "output_type": "stream",
     "text": [
      "Agnus\n",
      "Allington\n",
      "All\n",
      "Alvescot\n",
      "America\n",
      "Amwell\n",
      "Ancastre\n",
      "Appelby\n",
      "Arms\n",
      "Arras\n",
      "Ashington\n",
      "Assherugge\n",
      "Audley\n",
      "Acts\n",
      "Acts\n"
     ]
    }
   ],
   "source": [
    "entities = []\n",
    "for item in results:\n",
    "    item = item.strip().replace(\"\\n\",\"\")\n",
    "    item = item.split(\" \")[0]\n",
    "    if len(item) > 2:\n",
    "        #if item[0].isupper():\n",
    "        if item[0] == \"A\": #and \"-\" not in item:\n",
    "            item = item.split(\".\")[0].replace(\",\",\"\").replace(\";\",\"\")\n",
    "            print(item)\n",
    "            entities.append(item)"
   ]
  },
  {
   "cell_type": "code",
   "execution_count": 157,
   "id": "2ea0ed03-1e05-43ab-80d1-ffeba56ac847",
   "metadata": {},
   "outputs": [
    {
     "name": "stdout",
     "output_type": "stream",
     "text": [
      "['Agnus', 'Allington', 'All', 'Alvescot', 'America', 'Amwell', 'Ancastre', 'Appelby', 'Arms', 'Arras', 'Ashington', 'Assherugge', 'Audley', 'Acts', 'Acts']\n"
     ]
    }
   ],
   "source": [
    "print (entities)"
   ]
  },
  {
   "cell_type": "code",
   "execution_count": 158,
   "id": "736ec9f6-5706-4f2e-ac9e-861a89ffb2e5",
   "metadata": {},
   "outputs": [],
   "source": [
    "entities = list(set(entities))"
   ]
  },
  {
   "cell_type": "code",
   "execution_count": 159,
   "id": "ec81e490-f771-4fa9-b810-aa5362b133fb",
   "metadata": {},
   "outputs": [
    {
     "name": "stdout",
     "output_type": "stream",
     "text": [
      "['Arms', 'Acts', 'America', 'All', 'Ancastre', 'Audley', 'Appelby', 'Alvescot', 'Agnus', 'Arras', 'Assherugge', 'Ashington', 'Allington', 'Amwell']\n"
     ]
    }
   ],
   "source": [
    "print (entities)"
   ]
  },
  {
   "cell_type": "code",
   "execution_count": 160,
   "id": "9bb91cfd-8766-483c-b23c-13573ef7fce7",
   "metadata": {},
   "outputs": [],
   "source": [
    "entities.sort()"
   ]
  },
  {
   "cell_type": "code",
   "execution_count": 161,
   "id": "bf1261e7-5e96-4964-a0cb-16ecc30c4d41",
   "metadata": {},
   "outputs": [
    {
     "name": "stdout",
     "output_type": "stream",
     "text": [
      "['Acts', 'Agnus', 'All', 'Allington', 'Alvescot', 'America', 'Amwell', 'Ancastre', 'Appelby', 'Arms', 'Arras', 'Ashington', 'Assherugge', 'Audley']\n"
     ]
    }
   ],
   "source": [
    "print(entities)"
   ]
  },
  {
   "cell_type": "code",
   "execution_count": null,
   "id": "3089aa2e-b58f-4d01-b396-bec2467c2b1b",
   "metadata": {},
   "outputs": [],
   "source": []
  }
 ],
 "metadata": {
  "kernelspec": {
   "display_name": "librairiestest",
   "language": "python",
   "name": "librairiestest"
  },
  "language_info": {
   "codemirror_mode": {
    "name": "ipython",
    "version": 3
   },
   "file_extension": ".py",
   "mimetype": "text/x-python",
   "name": "python",
   "nbconvert_exporter": "python",
   "pygments_lexer": "ipython3",
   "version": "3.11.3"
  }
 },
 "nbformat": 4,
 "nbformat_minor": 5
}
