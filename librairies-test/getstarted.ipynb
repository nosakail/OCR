{
 "cells": [
  {
   "cell_type": "code",
   "execution_count": 72,
   "id": "59913f21-ae19-44bf-84be-2b290c67bbc3",
   "metadata": {},
   "outputs": [
    {
     "name": "stdout",
     "output_type": "stream",
     "text": [
      "Requirement already satisfied: pillow in c:\\users\\yassi\\appdata\\local\\programs\\python\\python311\\lib\\site-packages (10.0.1)\n"
     ]
    }
   ],
   "source": [
    "!pip install pillow "
   ]
  },
  {
   "cell_type": "code",
   "execution_count": 73,
   "id": "7b0715cf-60f1-4324-8290-0d39c4c2c37f",
   "metadata": {},
   "outputs": [
    {
     "name": "stdout",
     "output_type": "stream",
     "text": [
      "Requirement already satisfied: opencv-python in c:\\users\\yassi\\appdata\\local\\programs\\python\\python311\\lib\\site-packages (4.9.0.80)\n",
      "Requirement already satisfied: numpy>=1.21.2 in c:\\users\\yassi\\appdata\\local\\programs\\python\\python311\\lib\\site-packages (from opencv-python) (1.26.3)\n"
     ]
    }
   ],
   "source": [
    "!pip install opencv-python"
   ]
  },
  {
   "cell_type": "code",
   "execution_count": 74,
   "id": "ffb89493-8c77-4587-b117-0dce5106f1c2",
   "metadata": {
    "scrolled": true
   },
   "outputs": [
    {
     "name": "stdout",
     "output_type": "stream",
     "text": [
      "Requirement already satisfied: pytesseract in c:\\users\\yassi\\appdata\\local\\programs\\python\\python311\\lib\\site-packages (0.3.10)\n",
      "Requirement already satisfied: packaging>=21.3 in c:\\users\\yassi\\appdata\\local\\programs\\python\\python311\\lib\\site-packages (from pytesseract) (24.0)\n",
      "Requirement already satisfied: Pillow>=8.0.0 in c:\\users\\yassi\\appdata\\local\\programs\\python\\python311\\lib\\site-packages (from pytesseract) (10.0.1)\n"
     ]
    }
   ],
   "source": [
    "!pip install pytesseract"
   ]
  },
  {
   "cell_type": "code",
   "execution_count": 75,
   "id": "dfff6ce8-3326-475d-b0d7-0d4fca2f5311",
   "metadata": {},
   "outputs": [
    {
     "name": "stdout",
     "output_type": "stream",
     "text": [
      "Requirement already satisfied: pillow in c:\\users\\yassi\\appdata\\local\\programs\\python\\python311\\lib\\site-packages (10.0.1)\n"
     ]
    }
   ],
   "source": [
    "!pip install pillow"
   ]
  },
  {
   "cell_type": "code",
   "execution_count": 76,
   "id": "9db005db-681c-4130-a921-917c0dfca1a3",
   "metadata": {},
   "outputs": [
    {
     "name": "stdout",
     "output_type": "stream",
     "text": [
      "Requirement already satisfied: pytesseract in c:\\users\\yassi\\appdata\\local\\programs\\python\\python311\\lib\\site-packages (0.3.10)\n",
      "Requirement already satisfied: packaging>=21.3 in c:\\users\\yassi\\appdata\\local\\programs\\python\\python311\\lib\\site-packages (from pytesseract) (24.0)\n",
      "Requirement already satisfied: Pillow>=8.0.0 in c:\\users\\yassi\\appdata\\local\\programs\\python\\python311\\lib\\site-packages (from pytesseract) (10.0.1)\n"
     ]
    }
   ],
   "source": [
    "!python -m pip install pytesseract"
   ]
  },
  {
   "cell_type": "code",
   "execution_count": 77,
   "id": "9b444ccd-b482-419d-b404-7649d482eeb7",
   "metadata": {},
   "outputs": [],
   "source": [
    "import pytesseract\n",
    "from PIL import Image"
   ]
  },
  {
   "cell_type": "code",
   "execution_count": 78,
   "id": "56de77f3-72cb-4f47-9034-3be037a148f7",
   "metadata": {},
   "outputs": [],
   "source": [
    "pytesseract.pytesseract.tesseract_cmd=r'C:\\Users\\yassi\\AppData\\Local\\Tesseract-OCR\\tesseract.exe'"
   ]
  },
  {
   "cell_type": "code",
   "execution_count": 79,
   "id": "08536b34-aad7-4443-874d-bf4c78c4c458",
   "metadata": {},
   "outputs": [],
   "source": [
    "img_file = \"let.jpg\""
   ]
  },
  {
   "cell_type": "code",
   "execution_count": 80,
   "id": "85710433-4322-4894-8c30-dc2cfd389f4e",
   "metadata": {},
   "outputs": [],
   "source": [
    "img = Image.open(img_file)"
   ]
  },
  {
   "cell_type": "code",
   "execution_count": 81,
   "id": "10facae2-6b13-4ef4-b7f0-4dc06f9bc835",
   "metadata": {},
   "outputs": [],
   "source": [
    "text = pytesseract.image_to_string(img)"
   ]
  },
  {
   "cell_type": "code",
   "execution_count": 82,
   "id": "cced8a14-6f23-42d6-b15f-b61514eb1ff2",
   "metadata": {},
   "outputs": [
    {
     "name": "stdout",
     "output_type": "stream",
     "text": [
      "NOM et Prénom\n",
      "Adresse\n",
      "\n",
      "Code Postal, Ville\n",
      "Numéro de téléphone\n",
      "Adresse email\n",
      "\n",
      "Nom de lentreprise\n",
      "Nom du destinataire ou service\n",
      "Adresse de I'entreprise\n",
      "\n",
      "Code postal, Ville\n",
      "\n",
      "Lieu et date de rédaction\n",
      "\n",
      "Objet de la lettre de motivation\n",
      "\n",
      "Madame, Monsieur,\n",
      "\n",
      "Lorem ipsum dolor sit amet, consectetur adipiscing elit. Cras efficitur tincidunt velit. Etiam rhoncus\n",
      "lacinia mauris, non feugiat mauris. Phasellus porttitor quis lectus quis interdum. Nunc in laoreet velit.\n",
      "Donec vitae mi facilisis, luctus odio eget, consequat elit. Sed tempor sed dui id congue. Praesent eget\n",
      "consequat ex.\n",
      "\n",
      "Proin vel dolor neque. Aenean nunc ante, bibendum a dolor vel, suscipit facilisis libero. Pellentesque\n",
      "congue rhoncus justo eget laoreet. Suspendisse potenti. Fusce id lectus velit. Curabitur pharetra,\n",
      "lorem eu egestas rhoncus, metus lorem pellentesque urna, non gravida lacus felis eu diam.\n",
      "\n",
      "Sed at felis magna. Curabitur mi purus, porttitor eu dui sed, maximus imperdiet mauris. Pellentesque\n",
      "habitant morbi tristique senectus et netus et malesuada fames ac turpis egestas. Vivamus blandit\n",
      "vestibulum purus eget lobortis. Morbi sed venenatis elit. Nunc gravida sed turpis at pharetra.\n",
      "\n",
      "Dans I'attente d’une réponse de votre part, je vous prie Madame, Monsieur de bien vouloir recevoir\n",
      "mes plus respectueuses salutations.\n",
      "\n",
      "Prénom et NOM\n",
      "\n",
      "Signature\n",
      "\f",
      "\n"
     ]
    }
   ],
   "source": [
    "print(text)"
   ]
  },
  {
   "cell_type": "code",
   "execution_count": 83,
   "id": "dbb8a9dd-ba19-4883-a896-d019f928f7b3",
   "metadata": {},
   "outputs": [],
   "source": [
    "import cv2"
   ]
  },
  {
   "cell_type": "code",
   "execution_count": 84,
   "id": "f3c34ac6-962b-47ee-a543-48c3f2fa1b1d",
   "metadata": {},
   "outputs": [],
   "source": [
    "img_to_stuctured = cv2.imread(img_file)\n",
    "base_image = img_to_stuctured.copy()"
   ]
  },
  {
   "cell_type": "code",
   "execution_count": 85,
   "id": "f852228f-3839-4573-af10-75bacb9e99bc",
   "metadata": {},
   "outputs": [],
   "source": [
    "gray = cv2.cvtColor(img_to_stuctured, cv2.COLOR_BGR2GRAY)"
   ]
  },
  {
   "cell_type": "code",
   "execution_count": 86,
   "id": "2185055e-6de4-4847-ac8c-fa0bfe981798",
   "metadata": {},
   "outputs": [
    {
     "data": {
      "text/plain": [
       "True"
      ]
     },
     "execution_count": 86,
     "metadata": {},
     "output_type": "execute_result"
    }
   ],
   "source": [
    "cv2.imwrite(\"index_gray.png\", gray)"
   ]
  },
  {
   "cell_type": "code",
   "execution_count": 87,
   "id": "985c3761-39cf-483d-b9fb-088907acfc98",
   "metadata": {},
   "outputs": [],
   "source": [
    "blur = cv2.GaussianBlur(gray, (7,7), 0)"
   ]
  },
  {
   "cell_type": "code",
   "execution_count": 88,
   "id": "aea1d333-c028-4117-8293-4ef847ebb483",
   "metadata": {},
   "outputs": [
    {
     "data": {
      "text/plain": [
       "True"
      ]
     },
     "execution_count": 88,
     "metadata": {},
     "output_type": "execute_result"
    }
   ],
   "source": [
    "cv2.imwrite(\"index_blur.png\", blur)"
   ]
  },
  {
   "cell_type": "code",
   "execution_count": 89,
   "id": "203b1320-0c27-44b3-a81f-42d4a09790c8",
   "metadata": {},
   "outputs": [],
   "source": [
    "thresh = cv2.threshold(blur, 0, 255, cv2.THRESH_BINARY_INV + cv2.THRESH_OTSU)[1]"
   ]
  },
  {
   "cell_type": "code",
   "execution_count": 90,
   "id": "8e95281a-7b2f-4026-852f-8d3722173ead",
   "metadata": {},
   "outputs": [
    {
     "data": {
      "text/plain": [
       "True"
      ]
     },
     "execution_count": 90,
     "metadata": {},
     "output_type": "execute_result"
    }
   ],
   "source": [
    "cv2.imwrite(\"index_thresh.png\", thresh)"
   ]
  },
  {
   "cell_type": "code",
   "execution_count": 91,
   "id": "5f7ac92d-ca06-426f-b83a-ef58de3fbb02",
   "metadata": {},
   "outputs": [],
   "source": [
    "kernal = cv2.getStructuringElement(cv2.MORPH_RECT,(3,13))"
   ]
  },
  {
   "cell_type": "code",
   "execution_count": 92,
   "id": "9fa5164d-25a0-4996-84b7-fdc44dfbac32",
   "metadata": {},
   "outputs": [
    {
     "data": {
      "text/plain": [
       "True"
      ]
     },
     "execution_count": 92,
     "metadata": {},
     "output_type": "execute_result"
    }
   ],
   "source": [
    "cv2.imwrite(\"index_kernal.png\", kernal)"
   ]
  },
  {
   "cell_type": "code",
   "execution_count": 93,
   "id": "cefd95d6-6abd-41d8-a3c2-e4bafe4c8f7a",
   "metadata": {},
   "outputs": [],
   "source": [
    "dilate = cv2.dilate(thresh, kernal, iterations = 1)"
   ]
  },
  {
   "cell_type": "code",
   "execution_count": 94,
   "id": "773e4a19-a7a8-44bd-a88e-2236c8333f29",
   "metadata": {},
   "outputs": [
    {
     "data": {
      "text/plain": [
       "True"
      ]
     },
     "execution_count": 94,
     "metadata": {},
     "output_type": "execute_result"
    }
   ],
   "source": [
    "cv2.imwrite(\"index_dilate.png\", dilate)"
   ]
  },
  {
   "cell_type": "code",
   "execution_count": 95,
   "id": "90e59685-62dc-4ec5-95e0-be8b3eea75b7",
   "metadata": {},
   "outputs": [],
   "source": [
    "cnts = cv2.findContours(dilate, cv2.RETR_EXTERNAL, cv2.CHAIN_APPROX_SIMPLE)"
   ]
  },
  {
   "cell_type": "code",
   "execution_count": 96,
   "id": "2a29bb81-8d2a-4554-8a95-0ec1e1d27b94",
   "metadata": {},
   "outputs": [],
   "source": [
    "cnts = cnts[0] if len(cnts) == 2 else cnts[1]"
   ]
  },
  {
   "cell_type": "code",
   "execution_count": 97,
   "id": "fcac27f9-7ccf-4d19-a7b5-d264ccaaa5eb",
   "metadata": {},
   "outputs": [],
   "source": [
    "cnts = sorted(cnts, key=lambda x: cv2.boundingRect(x)[0])"
   ]
  },
  {
   "cell_type": "code",
   "execution_count": 99,
   "id": "be8afa84-bbe6-4120-8aca-b5d9116ae1bf",
   "metadata": {},
   "outputs": [
    {
     "data": {
      "text/plain": [
       "True"
      ]
     },
     "execution_count": 99,
     "metadata": {},
     "output_type": "execute_result"
    }
   ],
   "source": [
    "for c in cnts: \n",
    "    x,y,w,h = cv2.boundingRect(c)\n",
    "    if h > 200 and w > 20:\n",
    "        roi = img_to_stuctured[y:y+h, x:x+h]\n",
    "        cv2.imwrite(\"index_roi.png\", roi)\n",
    "        cv2.rectangle(img_to_stuctured, (x,y), (x+w, y+h), (36, 255, 12), 2)\n",
    "cv2.imwrite(\"index_bbox_new.png\", img_to_stuctured)"
   ]
  },
  {
   "cell_type": "code",
   "execution_count": null,
   "id": "766a140f-77d8-4976-944b-61f9287292b5",
   "metadata": {},
   "outputs": [],
   "source": []
  }
 ],
 "metadata": {
  "kernelspec": {
   "display_name": "librairiestest",
   "language": "python",
   "name": "librairiestest"
  },
  "language_info": {
   "codemirror_mode": {
    "name": "ipython",
    "version": 3
   },
   "file_extension": ".py",
   "mimetype": "text/x-python",
   "name": "python",
   "nbconvert_exporter": "python",
   "pygments_lexer": "ipython3",
   "version": "3.11.3"
  }
 },
 "nbformat": 4,
 "nbformat_minor": 5
}
