{
 "cells": [
  {
   "cell_type": "code",
   "execution_count": 4,
   "id": "b98165cf-7678-4eed-a5f2-89dec2071889",
   "metadata": {},
   "outputs": [
    {
     "name": "stdout",
     "output_type": "stream",
     "text": [
      "Requirement already satisfied: keras_ocr in c:\\users\\yassi\\anaconda3\\lib\\site-packages (0.9.3)\n",
      "Requirement already satisfied: editdistance in c:\\users\\yassi\\anaconda3\\lib\\site-packages (from keras_ocr) (0.8.1)\n",
      "Requirement already satisfied: efficientnet==1.0.0 in c:\\users\\yassi\\anaconda3\\lib\\site-packages (from keras_ocr) (1.0.0)\n",
      "Requirement already satisfied: essential_generators in c:\\users\\yassi\\anaconda3\\lib\\site-packages (from keras_ocr) (1.0)\n",
      "Requirement already satisfied: fonttools in c:\\users\\yassi\\anaconda3\\lib\\site-packages (from keras_ocr) (4.25.0)\n",
      "Requirement already satisfied: imgaug in c:\\users\\yassi\\anaconda3\\lib\\site-packages (from keras_ocr) (0.4.0)\n",
      "Requirement already satisfied: pyclipper in c:\\users\\yassi\\anaconda3\\lib\\site-packages (from keras_ocr) (1.3.0.post5)\n",
      "Requirement already satisfied: shapely in c:\\users\\yassi\\anaconda3\\lib\\site-packages (from keras_ocr) (2.0.3)\n",
      "Requirement already satisfied: tqdm in c:\\users\\yassi\\anaconda3\\lib\\site-packages (from keras_ocr) (4.65.0)\n",
      "Requirement already satisfied: validators in c:\\users\\yassi\\anaconda3\\lib\\site-packages (from keras_ocr) (0.18.2)\n",
      "Requirement already satisfied: keras-applications<=1.0.8,>=1.0.7 in c:\\users\\yassi\\anaconda3\\lib\\site-packages (from efficientnet==1.0.0->keras_ocr) (1.0.8)\n",
      "Requirement already satisfied: scikit-image in c:\\users\\yassi\\anaconda3\\lib\\site-packages (from efficientnet==1.0.0->keras_ocr) (0.22.0)\n",
      "Requirement already satisfied: six in c:\\users\\yassi\\anaconda3\\lib\\site-packages (from imgaug->keras_ocr) (1.16.0)\n",
      "Requirement already satisfied: numpy>=1.15 in c:\\users\\yassi\\anaconda3\\lib\\site-packages (from imgaug->keras_ocr) (1.26.4)\n",
      "Requirement already satisfied: scipy in c:\\users\\yassi\\anaconda3\\lib\\site-packages (from imgaug->keras_ocr) (1.11.4)\n",
      "Requirement already satisfied: Pillow in c:\\users\\yassi\\anaconda3\\lib\\site-packages (from imgaug->keras_ocr) (10.2.0)\n",
      "Requirement already satisfied: matplotlib in c:\\users\\yassi\\anaconda3\\lib\\site-packages (from imgaug->keras_ocr) (3.8.0)\n",
      "Requirement already satisfied: opencv-python in c:\\users\\yassi\\anaconda3\\lib\\site-packages (from imgaug->keras_ocr) (4.9.0.80)\n",
      "Requirement already satisfied: imageio in c:\\users\\yassi\\anaconda3\\lib\\site-packages (from imgaug->keras_ocr) (2.33.1)\n",
      "Requirement already satisfied: colorama in c:\\users\\yassi\\anaconda3\\lib\\site-packages (from tqdm->keras_ocr) (0.4.6)\n",
      "Requirement already satisfied: decorator>=3.4.0 in c:\\users\\yassi\\anaconda3\\lib\\site-packages (from validators->keras_ocr) (5.1.1)\n",
      "Requirement already satisfied: h5py in c:\\users\\yassi\\anaconda3\\lib\\site-packages (from keras-applications<=1.0.8,>=1.0.7->efficientnet==1.0.0->keras_ocr) (3.10.0)\n",
      "Requirement already satisfied: networkx>=2.8 in c:\\users\\yassi\\anaconda3\\lib\\site-packages (from scikit-image->efficientnet==1.0.0->keras_ocr) (3.1)\n",
      "Requirement already satisfied: tifffile>=2022.8.12 in c:\\users\\yassi\\anaconda3\\lib\\site-packages (from scikit-image->efficientnet==1.0.0->keras_ocr) (2023.4.12)\n",
      "Requirement already satisfied: packaging>=21 in c:\\users\\yassi\\anaconda3\\lib\\site-packages (from scikit-image->efficientnet==1.0.0->keras_ocr) (23.1)\n",
      "Requirement already satisfied: lazy_loader>=0.3 in c:\\users\\yassi\\anaconda3\\lib\\site-packages (from scikit-image->efficientnet==1.0.0->keras_ocr) (0.3)\n",
      "Requirement already satisfied: contourpy>=1.0.1 in c:\\users\\yassi\\anaconda3\\lib\\site-packages (from matplotlib->imgaug->keras_ocr) (1.2.0)\n",
      "Requirement already satisfied: cycler>=0.10 in c:\\users\\yassi\\anaconda3\\lib\\site-packages (from matplotlib->imgaug->keras_ocr) (0.11.0)\n",
      "Requirement already satisfied: kiwisolver>=1.0.1 in c:\\users\\yassi\\anaconda3\\lib\\site-packages (from matplotlib->imgaug->keras_ocr) (1.4.4)\n",
      "Requirement already satisfied: pyparsing>=2.3.1 in c:\\users\\yassi\\anaconda3\\lib\\site-packages (from matplotlib->imgaug->keras_ocr) (3.0.9)\n",
      "Requirement already satisfied: python-dateutil>=2.7 in c:\\users\\yassi\\anaconda3\\lib\\site-packages (from matplotlib->imgaug->keras_ocr) (2.8.2)\n",
      "Note: you may need to restart the kernel to use updated packages.\n"
     ]
    }
   ],
   "source": [
    "pip install keras_ocr"
   ]
  },
  {
   "cell_type": "code",
   "execution_count": 6,
   "id": "a006f149-0ec5-4efe-8481-01c07fcda649",
   "metadata": {},
   "outputs": [
    {
     "name": "stdout",
     "output_type": "stream",
     "text": [
      "Looking for C:\\Users\\yassi\\.keras-ocr\\craft_mlt_25k.h5\n"
     ]
    },
    {
     "ename": "ValueError",
     "evalue": "Unrecognized keyword arguments passed to Dense: {'weights': [array([[0., 0., 0., 0., 0., 0.],\n       [0., 0., 0., 0., 0., 0.],\n       [0., 0., 0., 0., 0., 0.],\n       [0., 0., 0., 0., 0., 0.],\n       [0., 0., 0., 0., 0., 0.],\n       [0., 0., 0., 0., 0., 0.],\n       [0., 0., 0., 0., 0., 0.],\n       [0., 0., 0., 0., 0., 0.],\n       [0., 0., 0., 0., 0., 0.],\n       [0., 0., 0., 0., 0., 0.],\n       [0., 0., 0., 0., 0., 0.],\n       [0., 0., 0., 0., 0., 0.],\n       [0., 0., 0., 0., 0., 0.],\n       [0., 0., 0., 0., 0., 0.],\n       [0., 0., 0., 0., 0., 0.],\n       [0., 0., 0., 0., 0., 0.],\n       [0., 0., 0., 0., 0., 0.],\n       [0., 0., 0., 0., 0., 0.],\n       [0., 0., 0., 0., 0., 0.],\n       [0., 0., 0., 0., 0., 0.],\n       [0., 0., 0., 0., 0., 0.],\n       [0., 0., 0., 0., 0., 0.],\n       [0., 0., 0., 0., 0., 0.],\n       [0., 0., 0., 0., 0., 0.],\n       [0., 0., 0., 0., 0., 0.],\n       [0., 0., 0., 0., 0., 0.],\n       [0., 0., 0., 0., 0., 0.],\n       [0., 0., 0., 0., 0., 0.],\n       [0., 0., 0., 0., 0., 0.],\n       [0., 0., 0., 0., 0., 0.],\n       [0., 0., 0., 0., 0., 0.],\n       [0., 0., 0., 0., 0., 0.],\n       [0., 0., 0., 0., 0., 0.],\n       [0., 0., 0., 0., 0., 0.],\n       [0., 0., 0., 0., 0., 0.],\n       [0., 0., 0., 0., 0., 0.],\n       [0., 0., 0., 0., 0., 0.],\n       [0., 0., 0., 0., 0., 0.],\n       [0., 0., 0., 0., 0., 0.],\n       [0., 0., 0., 0., 0., 0.],\n       [0., 0., 0., 0., 0., 0.],\n       [0., 0., 0., 0., 0., 0.],\n       [0., 0., 0., 0., 0., 0.],\n       [0., 0., 0., 0., 0., 0.],\n       [0., 0., 0., 0., 0., 0.],\n       [0., 0., 0., 0., 0., 0.],\n       [0., 0., 0., 0., 0., 0.],\n       [0., 0., 0., 0., 0., 0.],\n       [0., 0., 0., 0., 0., 0.],\n       [0., 0., 0., 0., 0., 0.],\n       [0., 0., 0., 0., 0., 0.],\n       [0., 0., 0., 0., 0., 0.],\n       [0., 0., 0., 0., 0., 0.],\n       [0., 0., 0., 0., 0., 0.],\n       [0., 0., 0., 0., 0., 0.],\n       [0., 0., 0., 0., 0., 0.],\n       [0., 0., 0., 0., 0., 0.],\n       [0., 0., 0., 0., 0., 0.],\n       [0., 0., 0., 0., 0., 0.],\n       [0., 0., 0., 0., 0., 0.],\n       [0., 0., 0., 0., 0., 0.],\n       [0., 0., 0., 0., 0., 0.],\n       [0., 0., 0., 0., 0., 0.],\n       [0., 0., 0., 0., 0., 0.]], dtype=float32), array([1., 0., 0., 0., 1., 0.], dtype=float32)]}",
     "output_type": "error",
     "traceback": [
      "\u001b[1;31m------------------------------------------------------------------------\u001b[0m",
      "\u001b[1;31mValueError\u001b[0m                             Traceback (most recent call last)",
      "Cell \u001b[1;32mIn[6], line 7\u001b[0m\n\u001b[0;32m      3\u001b[0m \u001b[38;5;28;01mimport\u001b[39;00m \u001b[38;5;21;01mkeras_ocr\u001b[39;00m\n\u001b[0;32m      5\u001b[0m \u001b[38;5;66;03m# keras-ocr will automatically download pretrained\u001b[39;00m\n\u001b[0;32m      6\u001b[0m \u001b[38;5;66;03m# weights for the detector and recognizer.\u001b[39;00m\n\u001b[1;32m----> 7\u001b[0m pipeline \u001b[38;5;241m=\u001b[39m keras_ocr\u001b[38;5;241m.\u001b[39mpipeline\u001b[38;5;241m.\u001b[39mPipeline()\n\u001b[0;32m      9\u001b[0m \u001b[38;5;66;03m# Get a set of three example images\u001b[39;00m\n\u001b[0;32m     10\u001b[0m images \u001b[38;5;241m=\u001b[39m [\n\u001b[0;32m     11\u001b[0m     keras_ocr\u001b[38;5;241m.\u001b[39mtools\u001b[38;5;241m.\u001b[39mread(url) \u001b[38;5;28;01mfor\u001b[39;00m url \u001b[38;5;129;01min\u001b[39;00m [\n\u001b[0;32m     12\u001b[0m         \n\u001b[1;32m   (...)\u001b[0m\n\u001b[0;32m     15\u001b[0m     ]\n\u001b[0;32m     16\u001b[0m ]\n",
      "File \u001b[1;32m~\\anaconda3\\Lib\\site-packages\\keras_ocr\\pipeline.py:22\u001b[0m, in \u001b[0;36mPipeline.__init__\u001b[1;34m(self, detector, recognizer, scale, max_size)\u001b[0m\n\u001b[0;32m     20\u001b[0m     detector \u001b[38;5;241m=\u001b[39m detection\u001b[38;5;241m.\u001b[39mDetector()\n\u001b[0;32m     21\u001b[0m \u001b[38;5;28;01mif\u001b[39;00m recognizer \u001b[38;5;129;01mis\u001b[39;00m \u001b[38;5;28;01mNone\u001b[39;00m:\n\u001b[1;32m---> 22\u001b[0m     recognizer \u001b[38;5;241m=\u001b[39m recognition\u001b[38;5;241m.\u001b[39mRecognizer()\n\u001b[0;32m     23\u001b[0m \u001b[38;5;28mself\u001b[39m\u001b[38;5;241m.\u001b[39mscale \u001b[38;5;241m=\u001b[39m scale\n\u001b[0;32m     24\u001b[0m \u001b[38;5;28mself\u001b[39m\u001b[38;5;241m.\u001b[39mdetector \u001b[38;5;241m=\u001b[39m detector\n",
      "File \u001b[1;32m~\\anaconda3\\Lib\\site-packages\\keras_ocr\\recognition.py:388\u001b[0m, in \u001b[0;36mRecognizer.__init__\u001b[1;34m(self, alphabet, weights, build_params)\u001b[0m\n\u001b[0;32m    381\u001b[0m \u001b[38;5;28mself\u001b[39m\u001b[38;5;241m.\u001b[39malphabet \u001b[38;5;241m=\u001b[39m alphabet\n\u001b[0;32m    382\u001b[0m \u001b[38;5;28mself\u001b[39m\u001b[38;5;241m.\u001b[39mblank_label_idx \u001b[38;5;241m=\u001b[39m \u001b[38;5;28mlen\u001b[39m(alphabet)\n\u001b[0;32m    383\u001b[0m (\n\u001b[0;32m    384\u001b[0m     \u001b[38;5;28mself\u001b[39m\u001b[38;5;241m.\u001b[39mbackbone,\n\u001b[0;32m    385\u001b[0m     \u001b[38;5;28mself\u001b[39m\u001b[38;5;241m.\u001b[39mmodel,\n\u001b[0;32m    386\u001b[0m     \u001b[38;5;28mself\u001b[39m\u001b[38;5;241m.\u001b[39mtraining_model,\n\u001b[0;32m    387\u001b[0m     \u001b[38;5;28mself\u001b[39m\u001b[38;5;241m.\u001b[39mprediction_model,\n\u001b[1;32m--> 388\u001b[0m ) \u001b[38;5;241m=\u001b[39m build_model(alphabet\u001b[38;5;241m=\u001b[39malphabet, \u001b[38;5;241m*\u001b[39m\u001b[38;5;241m*\u001b[39mbuild_params)\n\u001b[0;32m    389\u001b[0m \u001b[38;5;28;01mif\u001b[39;00m weights \u001b[38;5;129;01mis\u001b[39;00m \u001b[38;5;129;01mnot\u001b[39;00m \u001b[38;5;28;01mNone\u001b[39;00m:\n\u001b[0;32m    390\u001b[0m     weights_dict \u001b[38;5;241m=\u001b[39m PRETRAINED_WEIGHTS[weights]\n",
      "File \u001b[1;32m~\\anaconda3\\Lib\\site-packages\\keras_ocr\\recognition.py:277\u001b[0m, in \u001b[0;36mbuild_model\u001b[1;34m(alphabet, height, width, color, filters, rnn_units, dropout, rnn_steps_to_discard, pool_size, stn)\u001b[0m\n\u001b[0;32m    275\u001b[0m locnet_y \u001b[38;5;241m=\u001b[39m keras\u001b[38;5;241m.\u001b[39mlayers\u001b[38;5;241m.\u001b[39mFlatten()(locnet_y)\n\u001b[0;32m    276\u001b[0m locnet_y \u001b[38;5;241m=\u001b[39m keras\u001b[38;5;241m.\u001b[39mlayers\u001b[38;5;241m.\u001b[39mDense(\u001b[38;5;241m64\u001b[39m, activation\u001b[38;5;241m=\u001b[39m\u001b[38;5;124m\"\u001b[39m\u001b[38;5;124mrelu\u001b[39m\u001b[38;5;124m\"\u001b[39m)(locnet_y)\n\u001b[1;32m--> 277\u001b[0m locnet_y \u001b[38;5;241m=\u001b[39m keras\u001b[38;5;241m.\u001b[39mlayers\u001b[38;5;241m.\u001b[39mDense(\n\u001b[0;32m    278\u001b[0m     \u001b[38;5;241m6\u001b[39m,\n\u001b[0;32m    279\u001b[0m     weights\u001b[38;5;241m=\u001b[39m[\n\u001b[0;32m    280\u001b[0m         np\u001b[38;5;241m.\u001b[39mzeros((\u001b[38;5;241m64\u001b[39m, \u001b[38;5;241m6\u001b[39m), dtype\u001b[38;5;241m=\u001b[39m\u001b[38;5;124m\"\u001b[39m\u001b[38;5;124mfloat32\u001b[39m\u001b[38;5;124m\"\u001b[39m),\n\u001b[0;32m    281\u001b[0m         np\u001b[38;5;241m.\u001b[39marray([[\u001b[38;5;241m1\u001b[39m, \u001b[38;5;241m0\u001b[39m, \u001b[38;5;241m0\u001b[39m], [\u001b[38;5;241m0\u001b[39m, \u001b[38;5;241m1\u001b[39m, \u001b[38;5;241m0\u001b[39m]], dtype\u001b[38;5;241m=\u001b[39m\u001b[38;5;124m\"\u001b[39m\u001b[38;5;124mfloat32\u001b[39m\u001b[38;5;124m\"\u001b[39m)\u001b[38;5;241m.\u001b[39mflatten(),\n\u001b[0;32m    282\u001b[0m     ],\n\u001b[0;32m    283\u001b[0m )(locnet_y)\n\u001b[0;32m    284\u001b[0m localization_net \u001b[38;5;241m=\u001b[39m keras\u001b[38;5;241m.\u001b[39mmodels\u001b[38;5;241m.\u001b[39mModel(inputs\u001b[38;5;241m=\u001b[39mstn_input_layer, outputs\u001b[38;5;241m=\u001b[39mlocnet_y)\n\u001b[0;32m    285\u001b[0m x \u001b[38;5;241m=\u001b[39m keras\u001b[38;5;241m.\u001b[39mlayers\u001b[38;5;241m.\u001b[39mLambda(_transform, output_shape\u001b[38;5;241m=\u001b[39mstn_input_output_shape)(\n\u001b[0;32m    286\u001b[0m     [x, localization_net(x)]\n\u001b[0;32m    287\u001b[0m )\n",
      "File \u001b[1;32m~\\anaconda3\\Lib\\site-packages\\keras\\src\\layers\\core\\dense.py:88\u001b[0m, in \u001b[0;36mDense.__init__\u001b[1;34m(self, units, activation, use_bias, kernel_initializer, bias_initializer, kernel_regularizer, bias_regularizer, activity_regularizer, kernel_constraint, bias_constraint, lora_rank, **kwargs)\u001b[0m\n\u001b[0;32m     73\u001b[0m \u001b[38;5;28;01mdef\u001b[39;00m \u001b[38;5;21m__init__\u001b[39m(\n\u001b[0;32m     74\u001b[0m     \u001b[38;5;28mself\u001b[39m,\n\u001b[0;32m     75\u001b[0m     units,\n\u001b[1;32m   (...)\u001b[0m\n\u001b[0;32m     86\u001b[0m     \u001b[38;5;241m*\u001b[39m\u001b[38;5;241m*\u001b[39mkwargs,\n\u001b[0;32m     87\u001b[0m ):\n\u001b[1;32m---> 88\u001b[0m     \u001b[38;5;28msuper\u001b[39m()\u001b[38;5;241m.\u001b[39m\u001b[38;5;21m__init__\u001b[39m(activity_regularizer\u001b[38;5;241m=\u001b[39mactivity_regularizer, \u001b[38;5;241m*\u001b[39m\u001b[38;5;241m*\u001b[39mkwargs)\n\u001b[0;32m     89\u001b[0m     \u001b[38;5;28mself\u001b[39m\u001b[38;5;241m.\u001b[39munits \u001b[38;5;241m=\u001b[39m units\n\u001b[0;32m     90\u001b[0m     \u001b[38;5;28mself\u001b[39m\u001b[38;5;241m.\u001b[39mactivation \u001b[38;5;241m=\u001b[39m activations\u001b[38;5;241m.\u001b[39mget(activation)\n",
      "File \u001b[1;32m~\\anaconda3\\Lib\\site-packages\\keras\\src\\layers\\layer.py:264\u001b[0m, in \u001b[0;36mLayer.__init__\u001b[1;34m(self, activity_regularizer, trainable, dtype, autocast, name, **kwargs)\u001b[0m\n\u001b[0;32m    262\u001b[0m     \u001b[38;5;28mself\u001b[39m\u001b[38;5;241m.\u001b[39m_input_shape_arg \u001b[38;5;241m=\u001b[39m input_shape_arg\n\u001b[0;32m    263\u001b[0m \u001b[38;5;28;01mif\u001b[39;00m kwargs:\n\u001b[1;32m--> 264\u001b[0m     \u001b[38;5;28;01mraise\u001b[39;00m \u001b[38;5;167;01mValueError\u001b[39;00m(\n\u001b[0;32m    265\u001b[0m         \u001b[38;5;124m\"\u001b[39m\u001b[38;5;124mUnrecognized keyword arguments \u001b[39m\u001b[38;5;124m\"\u001b[39m\n\u001b[0;32m    266\u001b[0m         \u001b[38;5;124mf\u001b[39m\u001b[38;5;124m\"\u001b[39m\u001b[38;5;124mpassed to \u001b[39m\u001b[38;5;132;01m{\u001b[39;00m\u001b[38;5;28mself\u001b[39m\u001b[38;5;241m.\u001b[39m\u001b[38;5;18m__class__\u001b[39m\u001b[38;5;241m.\u001b[39m\u001b[38;5;18m__name__\u001b[39m\u001b[38;5;132;01m}\u001b[39;00m\u001b[38;5;124m: \u001b[39m\u001b[38;5;132;01m{\u001b[39;00mkwargs\u001b[38;5;132;01m}\u001b[39;00m\u001b[38;5;124m\"\u001b[39m\n\u001b[0;32m    267\u001b[0m     )\n\u001b[0;32m    269\u001b[0m \u001b[38;5;28mself\u001b[39m\u001b[38;5;241m.\u001b[39mbuilt \u001b[38;5;241m=\u001b[39m \u001b[38;5;28;01mFalse\u001b[39;00m\n\u001b[0;32m    270\u001b[0m \u001b[38;5;28mself\u001b[39m\u001b[38;5;241m.\u001b[39mautocast \u001b[38;5;241m=\u001b[39m autocast\n",
      "\u001b[1;31mValueError\u001b[0m: Unrecognized keyword arguments passed to Dense: {'weights': [array([[0., 0., 0., 0., 0., 0.],\n       [0., 0., 0., 0., 0., 0.],\n       [0., 0., 0., 0., 0., 0.],\n       [0., 0., 0., 0., 0., 0.],\n       [0., 0., 0., 0., 0., 0.],\n       [0., 0., 0., 0., 0., 0.],\n       [0., 0., 0., 0., 0., 0.],\n       [0., 0., 0., 0., 0., 0.],\n       [0., 0., 0., 0., 0., 0.],\n       [0., 0., 0., 0., 0., 0.],\n       [0., 0., 0., 0., 0., 0.],\n       [0., 0., 0., 0., 0., 0.],\n       [0., 0., 0., 0., 0., 0.],\n       [0., 0., 0., 0., 0., 0.],\n       [0., 0., 0., 0., 0., 0.],\n       [0., 0., 0., 0., 0., 0.],\n       [0., 0., 0., 0., 0., 0.],\n       [0., 0., 0., 0., 0., 0.],\n       [0., 0., 0., 0., 0., 0.],\n       [0., 0., 0., 0., 0., 0.],\n       [0., 0., 0., 0., 0., 0.],\n       [0., 0., 0., 0., 0., 0.],\n       [0., 0., 0., 0., 0., 0.],\n       [0., 0., 0., 0., 0., 0.],\n       [0., 0., 0., 0., 0., 0.],\n       [0., 0., 0., 0., 0., 0.],\n       [0., 0., 0., 0., 0., 0.],\n       [0., 0., 0., 0., 0., 0.],\n       [0., 0., 0., 0., 0., 0.],\n       [0., 0., 0., 0., 0., 0.],\n       [0., 0., 0., 0., 0., 0.],\n       [0., 0., 0., 0., 0., 0.],\n       [0., 0., 0., 0., 0., 0.],\n       [0., 0., 0., 0., 0., 0.],\n       [0., 0., 0., 0., 0., 0.],\n       [0., 0., 0., 0., 0., 0.],\n       [0., 0., 0., 0., 0., 0.],\n       [0., 0., 0., 0., 0., 0.],\n       [0., 0., 0., 0., 0., 0.],\n       [0., 0., 0., 0., 0., 0.],\n       [0., 0., 0., 0., 0., 0.],\n       [0., 0., 0., 0., 0., 0.],\n       [0., 0., 0., 0., 0., 0.],\n       [0., 0., 0., 0., 0., 0.],\n       [0., 0., 0., 0., 0., 0.],\n       [0., 0., 0., 0., 0., 0.],\n       [0., 0., 0., 0., 0., 0.],\n       [0., 0., 0., 0., 0., 0.],\n       [0., 0., 0., 0., 0., 0.],\n       [0., 0., 0., 0., 0., 0.],\n       [0., 0., 0., 0., 0., 0.],\n       [0., 0., 0., 0., 0., 0.],\n       [0., 0., 0., 0., 0., 0.],\n       [0., 0., 0., 0., 0., 0.],\n       [0., 0., 0., 0., 0., 0.],\n       [0., 0., 0., 0., 0., 0.],\n       [0., 0., 0., 0., 0., 0.],\n       [0., 0., 0., 0., 0., 0.],\n       [0., 0., 0., 0., 0., 0.],\n       [0., 0., 0., 0., 0., 0.],\n       [0., 0., 0., 0., 0., 0.],\n       [0., 0., 0., 0., 0., 0.],\n       [0., 0., 0., 0., 0., 0.],\n       [0., 0., 0., 0., 0., 0.]], dtype=float32), array([1., 0., 0., 0., 1., 0.], dtype=float32)]}"
     ]
    }
   ],
   "source": [
    "#Importing the library\n",
    "import matplotlib.pyplot as plt\n",
    "import keras_ocr\n",
    "\n",
    "# keras-ocr will automatically download pretrained\n",
    "# weights for the detector and recognizer.\n",
    "pipeline = keras_ocr.pipeline.Pipeline()\n",
    "\n",
    "# Get a set of three example images\n",
    "images = [\n",
    "    keras_ocr.tools.read(url) for url in [\n",
    "        'https://upload.wikimedia.org/wikipedia/commons/b/bd/Army_Reserves_Recruitment_Banner_MOD_45156284.jpg',\n",
    "        'https://upload.wikimedia.org/wikipedia/commons/e/e8/FseeG2QeLXo.jpg',\n",
    "        'https://upload.wikimedia.org/wikipedia/commons/b/b4/EUBanana-500x112.jpg'\n",
    "    ]\n",
    "]\n",
    "\n",
    "# Each list of predictions in prediction_groups is a list of\n",
    "# (word, box) tuples.\n",
    "prediction_groups = pipeline.recognize(images)\n",
    "\n",
    "# Plot the predictions\n",
    "fig, axs = plt.subplots(nrows=len(images), figsize=(20, 20))\n",
    "for ax, image, predictions in zip(axs, images, prediction_groups):\n",
    "    keras_ocr.tools.drawAnnotations(image=image, predictions=predictions, ax=ax)\n",
    "    "
   ]
  },
  {
   "cell_type": "code",
   "execution_count": 3,
   "id": "24fb660d-aad6-4476-a09e-304557ebefbc",
   "metadata": {},
   "outputs": [
    {
     "name": "stdout",
     "output_type": "stream",
     "text": [
      "Collecting poppler-utils\n",
      "  Downloading poppler_utils-0.1.0-py3-none-any.whl.metadata (883 bytes)\n",
      "Requirement already satisfied: Click>=7.0 in c:\\users\\yassi\\anaconda3\\lib\\site-packages (from poppler-utils) (8.1.7)\n",
      "Requirement already satisfied: colorama in c:\\users\\yassi\\anaconda3\\lib\\site-packages (from Click>=7.0->poppler-utils) (0.4.6)\n",
      "Downloading poppler_utils-0.1.0-py3-none-any.whl (9.2 kB)\n",
      "Installing collected packages: poppler-utils\n",
      "Successfully installed poppler-utils-0.1.0\n",
      "Note: you may need to restart the kernel to use updated packages.\n"
     ]
    }
   ],
   "source": [
    "pip install poppler-utils"
   ]
  },
  {
   "cell_type": "code",
   "execution_count": 1,
   "id": "97f35628-c544-4265-b7dc-3d41f3c1e7d7",
   "metadata": {},
   "outputs": [
    {
     "name": "stdout",
     "output_type": "stream",
     "text": [
      "Collecting pdftotext\n",
      "  Using cached pdftotext-2.2.2.tar.gz (113 kB)\n",
      "  Preparing metadata (setup.py): started\n",
      "  Preparing metadata (setup.py): finished with status 'done'\n",
      "Building wheels for collected packages: pdftotext\n",
      "  Building wheel for pdftotext (setup.py): started\n",
      "  Building wheel for pdftotext (setup.py): finished with status 'error'\n",
      "  Running setup.py clean for pdftotext\n",
      "Failed to build pdftotext\n",
      "Note: you may need to restart the kernel to use updated packages.\n"
     ]
    },
    {
     "name": "stderr",
     "output_type": "stream",
     "text": [
      "  error: subprocess-exited-with-error\n",
      "  \n",
      "  python setup.py bdist_wheel did not run successfully.\n",
      "  exit code: 1\n",
      "  \n",
      "  [70 lines of output]\n",
      "  WARNING: pkg-config not found--guessing at poppler version.\n",
      "           If the build fails, install pkg-config and try again.\n",
      "  WARNING: pkg-config not found--guessing at poppler version.\n",
      "           If the build fails, install pkg-config and try again.\n",
      "  WARNING: pkg-config not found--guessing at poppler version.\n",
      "           If the build fails, install pkg-config and try again.\n",
      "  running bdist_wheel\n",
      "  running build\n",
      "  running build_ext\n",
      "  building 'pdftotext' extension\n",
      "  creating build\n",
      "  creating build\\temp.win-amd64-cpython-311\n",
      "  creating build\\temp.win-amd64-cpython-311\\Release\n",
      "  \"C:\\Program Files\\Microsoft Visual Studio\\2022\\Community\\VC\\Tools\\MSVC\\14.39.33519\\bin\\HostX86\\x64\\cl.exe\" /c /nologo /O2 /W3 /GL /DNDEBUG /MD -DPOPPLER_CPP_AT_LEAST_0_30_0=1 -DPOPPLER_CPP_AT_LEAST_0_58_0=1 -DPOPPLER_CPP_AT_LEAST_0_88_0=1 -IC:\\Users\\yassi\\anaconda3\\include -IC:\\Users\\yassi\\anaconda3\\Include \"-IC:\\Program Files\\Microsoft Visual Studio\\2022\\Community\\VC\\Tools\\MSVC\\14.39.33519\\include\" \"-IC:\\Program Files\\Microsoft Visual Studio\\2022\\Community\\VC\\Tools\\MSVC\\14.39.33519\\ATLMFC\\include\" \"-IC:\\Program Files\\Microsoft Visual Studio\\2022\\Community\\VC\\Auxiliary\\VS\\include\" \"-IC:\\Program Files (x86)\\Windows Kits\\10\\include\\10.0.22621.0\\ucrt\" \"-IC:\\Program Files (x86)\\Windows Kits\\10\\\\include\\10.0.22621.0\\\\um\" \"-IC:\\Program Files (x86)\\Windows Kits\\10\\\\include\\10.0.22621.0\\\\shared\" \"-IC:\\Program Files (x86)\\Windows Kits\\10\\\\include\\10.0.22621.0\\\\winrt\" \"-IC:\\Program Files (x86)\\Windows Kits\\10\\\\include\\10.0.22621.0\\\\cppwinrt\" \"-IC:\\Program Files (x86)\\Windows Kits\\NETFXSDK\\4.8\\include\\um\" /EHsc /Tppdftotext.cpp /Fobuild\\temp.win-amd64-cpython-311\\Release\\pdftotext.obj -Wall\n",
      "  pdftotext.cpp\n",
      "  C:\\Users\\yassi\\anaconda3\\include\\object.h(231): warning C4820: '<unnamed-tag>'ÿ: '4' octets de remplissage ajout‚s aprŠs donn‚es membres '<unnamed-tag>::slot'\n",
      "  C:\\Users\\yassi\\anaconda3\\include\\object.h(239): warning C4820: '<unnamed-tag>'ÿ: '4' octets de remplissage ajout‚s aprŠs donn‚es membres '<unnamed-tag>::flags'\n",
      "  C:\\Users\\yassi\\anaconda3\\include\\cpython/object.h(183): warning C4820: '_typeobject'ÿ: '4' octets de remplissage ajout‚s aprŠs donn‚es membres '_typeobject::tp_flags'\n",
      "  C:\\Users\\yassi\\anaconda3\\include\\cpython/object.h(228): warning C4820: '_typeobject'ÿ: '4' octets de remplissage ajout‚s aprŠs donn‚es membres '_typeobject::tp_version_tag'\n",
      "  C:\\Users\\yassi\\anaconda3\\include\\cpython/bytesobject.h(15): warning C4820: '<unnamed-tag>'ÿ: '7' octets de remplissage ajout‚s aprŠs donn‚es membres '<unnamed-tag>::ob_sval'\n",
      "  C:\\Users\\yassi\\anaconda3\\include\\cpython/bytesobject.h(80): warning C4820: '<unnamed-tag>'ÿ: '4' octets de remplissage ajout‚s aprŠs donn‚es membres '<unnamed-tag>::small_buffer'\n",
      "  C:\\Users\\yassi\\anaconda3\\include\\cpython/unicodeobject.h(205): warning C4820: '<unnamed-tag>'ÿ: '4' octets de remplissage ajout‚s aprŠs donn‚es membres '<unnamed-tag>::state'\n",
      "  C:\\Users\\yassi\\anaconda3\\include\\cpython/unicodeobject.h(423): warning C4365: '='ÿ: conversion de 'unsigned int' en 'int', incompatibilit‚ signed/unsigned\n",
      "  C:\\Users\\yassi\\anaconda3\\include\\cpython/unicodeobject.h(450): warning C4365: '='ÿ: conversion de 'unsigned int' en 'int', incompatibilit‚ signed/unsigned\n",
      "  C:\\Users\\yassi\\anaconda3\\include\\cpython/unicodeobject.h(738): warning C4820: '<unnamed-tag>'ÿ: '2' octets de remplissage ajout‚s aprŠs donn‚es membres '<unnamed-tag>::readonly'\n",
      "  C:\\Users\\yassi\\anaconda3\\include\\cpython/longintrepr.h(85): warning C4820: '_longobject'ÿ: '4' octets de remplissage ajout‚s aprŠs donn‚es membres '_longobject::ob_digit'\n",
      "  C:\\Users\\yassi\\anaconda3\\include\\memoryobject.h(45): warning C4820: '<unnamed-tag>'ÿ: '4' octets de remplissage ajout‚s aprŠs donn‚es membres '<unnamed-tag>::flags'\n",
      "  C:\\Users\\yassi\\anaconda3\\include\\memoryobject.h(62): warning C4820: '<unnamed-tag>'ÿ: '4' octets de remplissage ajout‚s aprŠs donn‚es membres '<unnamed-tag>::flags'\n",
      "  C:\\Users\\yassi\\anaconda3\\include\\methodobject.h(59): warning C4820: 'PyMethodDef'ÿ: '4' octets de remplissage ajout‚s aprŠs donn‚es membres 'PyMethodDef::ml_flags'\n",
      "  C:\\Users\\yassi\\anaconda3\\include\\moduleobject.h(62): warning C4820: 'PyModuleDef_Slot'ÿ: '4' octets de remplissage ajout‚s aprŠs donn‚es membres 'PyModuleDef_Slot::slot'\n",
      "  C:\\Users\\yassi\\anaconda3\\include\\cpython/funcobject.h(59): warning C4820: '<unnamed-tag>'ÿ: '4' octets de remplissage ajout‚s aprŠs donn‚es membres '<unnamed-tag>::func_version'\n",
      "  C:\\Users\\yassi\\anaconda3\\include\\cpython/code.h(103): warning C4820: 'PyCodeObject'ÿ: '4' octets de remplissage ajout‚s aprŠs donn‚es membres 'PyCodeObject::_co_firsttraceable'\n",
      "  C:\\Users\\yassi\\anaconda3\\include\\cpython/code.h(103): warning C4820: 'PyCodeObject'ÿ: '7' octets de remplissage ajout‚s aprŠs donn‚es membres 'PyCodeObject::co_code_adaptive'\n",
      "  C:\\Users\\yassi\\anaconda3\\include\\cpython/code.h(175): warning C4820: '_opaque'ÿ: '4' octets de remplissage ajout‚s aprŠs donn‚es membres '_opaque::computed_line'\n",
      "  C:\\Users\\yassi\\anaconda3\\include\\cpython/code.h(183): warning C4820: '_line_offsets'ÿ: '4' octets de remplissage ajout‚s aprŠs donn‚es membres '_line_offsets::ar_line'\n",
      "  C:\\Users\\yassi\\anaconda3\\include\\cpython/initconfig.h(16): warning C4820: '<unnamed-tag>'ÿ: '4' octets de remplissage ajout‚s aprŠs donn‚es membres '<unnamed-tag>::_type'\n",
      "  C:\\Users\\yassi\\anaconda3\\include\\cpython/initconfig.h(19): warning C4820: '<unnamed-tag>'ÿ: '4' octets de remplissage ajout‚s aprŠs donn‚es membres '<unnamed-tag>::exitcode'\n",
      "  C:\\Users\\yassi\\anaconda3\\include\\cpython/initconfig.h(149): warning C4820: 'PyConfig'ÿ: '4' octets de remplissage ajout‚s aprŠs donn‚es membres 'PyConfig::dump_refs'\n",
      "  C:\\Users\\yassi\\anaconda3\\include\\cpython/initconfig.h(151): warning C4820: 'PyConfig'ÿ: '4' octets de remplissage ajout‚s aprŠs donn‚es membres 'PyConfig::malloc_stats'\n",
      "  C:\\Users\\yassi\\anaconda3\\include\\cpython/initconfig.h(155): warning C4820: 'PyConfig'ÿ: '4' octets de remplissage ajout‚s aprŠs donn‚es membres 'PyConfig::parse_argv'\n",
      "  C:\\Users\\yassi\\anaconda3\\include\\cpython/initconfig.h(172): warning C4820: 'PyConfig'ÿ: '4' octets de remplissage ajout‚s aprŠs donn‚es membres 'PyConfig::buffered_stdio'\n",
      "  C:\\Users\\yassi\\anaconda3\\include\\cpython/initconfig.h(177): warning C4820: 'PyConfig'ÿ: '4' octets de remplissage ajout‚s aprŠs donn‚es membres 'PyConfig::legacy_windows_stdio'\n",
      "  C:\\Users\\yassi\\anaconda3\\include\\cpython/initconfig.h(183): warning C4820: 'PyConfig'ÿ: '4' octets de remplissage ajout‚s aprŠs donn‚es membres 'PyConfig::pathconfig_warnings'\n",
      "  C:\\Users\\yassi\\anaconda3\\include\\cpython/initconfig.h(190): warning C4820: 'PyConfig'ÿ: '4' octets de remplissage ajout‚s aprŠs donn‚es membres 'PyConfig::module_search_paths_set'\n",
      "  C:\\Users\\yassi\\anaconda3\\include\\cpython/initconfig.h(201): warning C4820: 'PyConfig'ÿ: '4' octets de remplissage ajout‚s aprŠs donn‚es membres 'PyConfig::skip_source_first_line'\n",
      "  C:\\Users\\yassi\\anaconda3\\include\\cpython/pystate.h(51): warning C4820: '_PyCFrame'ÿ: '7' octets de remplissage ajout‚s aprŠs donn‚es membres '_PyCFrame::use_tracing'\n",
      "  C:\\Users\\yassi\\anaconda3\\include\\cpython/pystate.h(110): warning C4820: '_ts'ÿ: '4' octets de remplissage ajout‚s aprŠs donn‚es membres '_ts::tracing_what'\n",
      "  C:\\Users\\yassi\\anaconda3\\include\\cpython/pystate.h(131): warning C4820: '_ts'ÿ: '4' octets de remplissage ajout‚s aprŠs donn‚es membres '_ts::gilstate_counter'\n",
      "  C:\\Users\\yassi\\anaconda3\\include\\cpython/pystate.h(141): warning C4820: '_ts'ÿ: '4' octets de remplissage ajout‚s aprŠs donn‚es membres '_ts::trash_delete_nesting'\n",
      "  C:\\Users\\yassi\\anaconda3\\include\\cpython/pystate.h(171): warning C4820: '_ts'ÿ: '4' octets de remplissage ajout‚s aprŠs donn‚es membres '_ts::coroutine_origin_tracking_depth'\n",
      "  C:\\Users\\yassi\\anaconda3\\include\\cpython/genobject.h(35): warning C4820: '<unnamed-tag>'ÿ: '4' octets de remplissage ajout‚s aprŠs donn‚es membres '<unnamed-tag>::gi_frame_state'\n",
      "  C:\\Users\\yassi\\anaconda3\\include\\cpython/genobject.h(54): warning C4820: '<unnamed-tag>'ÿ: '4' octets de remplissage ajout‚s aprŠs donn‚es membres '<unnamed-tag>::cr_frame_state'\n",
      "  C:\\Users\\yassi\\anaconda3\\include\\cpython/genobject.h(68): warning C4820: '<unnamed-tag>'ÿ: '4' octets de remplissage ajout‚s aprŠs donn‚es membres '<unnamed-tag>::ag_frame_state'\n",
      "  C:\\Users\\yassi\\anaconda3\\include\\cpython/descrobject.h(14): warning C4820: 'wrapperbase'ÿ: '4' octets de remplissage ajout‚s aprŠs donn‚es membres 'wrapperbase::offset'\n",
      "  C:\\Users\\yassi\\anaconda3\\include\\cpython/descrobject.h(18): warning C4820: 'wrapperbase'ÿ: '4' octets de remplissage ajout‚s aprŠs donn‚es membres 'wrapperbase::flags'\n",
      "  C:\\Users\\yassi\\anaconda3\\include\\structseq.h(20): warning C4820: 'PyStructSequence_Desc'ÿ: '4' octets de remplissage ajout‚s aprŠs donn‚es membres 'PyStructSequence_Desc::n_in_sequence'\n",
      "  C:\\Users\\yassi\\anaconda3\\include\\cpython/pyerrors.h(15): warning C4820: '<unnamed-tag>'ÿ: '7' octets de remplissage ajout‚s aprŠs donn‚es membres '<unnamed-tag>::suppress_context'\n",
      "  C:\\Users\\yassi\\anaconda3\\include\\cpython/pyerrors.h(19): warning C4820: '<unnamed-tag>'ÿ: '7' octets de remplissage ajout‚s aprŠs donn‚es membres '<unnamed-tag>::suppress_context'\n",
      "  C:\\Users\\yassi\\anaconda3\\include\\cpython/pyerrors.h(25): warning C4820: '<unnamed-tag>'ÿ: '7' octets de remplissage ajout‚s aprŠs donn‚es membres '<unnamed-tag>::suppress_context'\n",
      "  C:\\Users\\yassi\\anaconda3\\include\\cpython/pyerrors.h(37): warning C4820: '<unnamed-tag>'ÿ: '7' octets de remplissage ajout‚s aprŠs donn‚es membres '<unnamed-tag>::suppress_context'\n",
      "  C:\\Users\\yassi\\anaconda3\\include\\cpython/pyerrors.h(44): warning C4820: '<unnamed-tag>'ÿ: '7' octets de remplissage ajout‚s aprŠs donn‚es membres '<unnamed-tag>::suppress_context'\n",
      "  C:\\Users\\yassi\\anaconda3\\include\\cpython/pyerrors.h(53): warning C4820: '<unnamed-tag>'ÿ: '7' octets de remplissage ajout‚s aprŠs donn‚es membres '<unnamed-tag>::suppress_context'\n",
      "  C:\\Users\\yassi\\anaconda3\\include\\cpython/pyerrors.h(58): warning C4820: '<unnamed-tag>'ÿ: '7' octets de remplissage ajout‚s aprŠs donn‚es membres '<unnamed-tag>::suppress_context'\n",
      "  C:\\Users\\yassi\\anaconda3\\include\\cpython/pyerrors.h(70): warning C4820: '<unnamed-tag>'ÿ: '7' octets de remplissage ajout‚s aprŠs donn‚es membres '<unnamed-tag>::suppress_context'\n",
      "  C:\\Users\\yassi\\anaconda3\\include\\cpython/pyerrors.h(75): warning C4820: '<unnamed-tag>'ÿ: '7' octets de remplissage ajout‚s aprŠs donn‚es membres '<unnamed-tag>::suppress_context'\n",
      "  C:\\Users\\yassi\\anaconda3\\include\\cpython/pyerrors.h(80): warning C4820: '<unnamed-tag>'ÿ: '7' octets de remplissage ajout‚s aprŠs donn‚es membres '<unnamed-tag>::suppress_context'\n",
      "  C:\\Users\\yassi\\anaconda3\\include\\cpython/modsupport.h(59): warning C4820: '_PyArg_Parser'ÿ: '4' octets de remplissage ajout‚s aprŠs donn‚es membres '_PyArg_Parser::max'\n",
      "  C:\\Users\\yassi\\anaconda3\\include\\cpython/abstract.h(59): warning C4365: 'return'ÿ: conversion de 'size_t' en 'Py_ssize_t', incompatibilit‚ signed/unsigned\n",
      "  pdftotext.cpp(3): fatal error C1083: Impossible d'ouvrir le fichier includeÿ: 'poppler/cpp/poppler-document.h'ÿ: No such file or directory\n",
      "  error: command 'C:\\\\Program Files\\\\Microsoft Visual Studio\\\\2022\\\\Community\\\\VC\\\\Tools\\\\MSVC\\\\14.39.33519\\\\bin\\\\HostX86\\\\x64\\\\cl.exe' failed with exit code 2\n",
      "  [end of output]\n",
      "  \n",
      "  note: This error originates from a subprocess, and is likely not a problem with pip.\n",
      "  ERROR: Failed building wheel for pdftotext\n",
      "ERROR: Could not build wheels for pdftotext, which is required to install pyproject.toml-based projects\n"
     ]
    }
   ],
   "source": [
    "pip install pdftotext"
   ]
  },
  {
   "cell_type": "code",
   "execution_count": 4,
   "id": "9ef13bea-6c53-4b04-a7e2-ea9004033d1d",
   "metadata": {},
   "outputs": [
    {
     "name": "stdout",
     "output_type": "stream",
     "text": [
      "Collecting pdftotextNote: you may need to restart the kernel to use updated packages.\n"
     ]
    },
    {
     "name": "stderr",
     "output_type": "stream",
     "text": [
      "  error: subprocess-exited-with-error\n",
      "  \n",
      "  python setup.py bdist_wheel did not run successfully.\n",
      "  exit code: 1\n",
      "  \n",
      "  [70 lines of output]\n",
      "  WARNING: pkg-config not found--guessing at poppler version.\n",
      "           If the build fails, install pkg-config and try again.\n",
      "  WARNING: pkg-config not found--guessing at poppler version.\n",
      "           If the build fails, install pkg-config and try again.\n",
      "  WARNING: pkg-config not found--guessing at poppler version.\n",
      "           If the build fails, install pkg-config and try again.\n",
      "  running bdist_wheel\n",
      "  running build\n",
      "  running build_ext\n",
      "  building 'pdftotext' extension\n",
      "  creating build\n",
      "  creating build\\temp.win-amd64-cpython-311\n",
      "  creating build\\temp.win-amd64-cpython-311\\Release\n",
      "  \"C:\\Program Files\\Microsoft Visual Studio\\2022\\Community\\VC\\Tools\\MSVC\\14.39.33519\\bin\\HostX86\\x64\\cl.exe\" /c /nologo /O2 /W3 /GL /DNDEBUG /MD -DPOPPLER_CPP_AT_LEAST_0_30_0=1 -DPOPPLER_CPP_AT_LEAST_0_58_0=1 -DPOPPLER_CPP_AT_LEAST_0_88_0=1 -IC:\\Users\\yassi\\anaconda3\\include -IC:\\Users\\yassi\\anaconda3\\Include \"-IC:\\Program Files\\Microsoft Visual Studio\\2022\\Community\\VC\\Tools\\MSVC\\14.39.33519\\include\" \"-IC:\\Program Files\\Microsoft Visual Studio\\2022\\Community\\VC\\Tools\\MSVC\\14.39.33519\\ATLMFC\\include\" \"-IC:\\Program Files\\Microsoft Visual Studio\\2022\\Community\\VC\\Auxiliary\\VS\\include\" \"-IC:\\Program Files (x86)\\Windows Kits\\10\\include\\10.0.22621.0\\ucrt\" \"-IC:\\Program Files (x86)\\Windows Kits\\10\\\\include\\10.0.22621.0\\\\um\" \"-IC:\\Program Files (x86)\\Windows Kits\\10\\\\include\\10.0.22621.0\\\\shared\" \"-IC:\\Program Files (x86)\\Windows Kits\\10\\\\include\\10.0.22621.0\\\\winrt\" \"-IC:\\Program Files (x86)\\Windows Kits\\10\\\\include\\10.0.22621.0\\\\cppwinrt\" \"-IC:\\Program Files (x86)\\Windows Kits\\NETFXSDK\\4.8\\include\\um\" /EHsc /Tppdftotext.cpp /Fobuild\\temp.win-amd64-cpython-311\\Release\\pdftotext.obj -Wall\n",
      "  pdftotext.cpp\n",
      "  C:\\Users\\yassi\\anaconda3\\include\\object.h(231): warning C4820: '<unnamed-tag>'ÿ: '4' octets de remplissage ajout‚s aprŠs donn‚es membres '<unnamed-tag>::slot'\n",
      "  C:\\Users\\yassi\\anaconda3\\include\\object.h(239): warning C4820: '<unnamed-tag>'ÿ: '4' octets de remplissage ajout‚s aprŠs donn‚es membres '<unnamed-tag>::flags'\n",
      "  C:\\Users\\yassi\\anaconda3\\include\\cpython/object.h(183): warning C4820: '_typeobject'ÿ: '4' octets de remplissage ajout‚s aprŠs donn‚es membres '_typeobject::tp_flags'\n",
      "  C:\\Users\\yassi\\anaconda3\\include\\cpython/object.h(228): warning C4820: '_typeobject'ÿ: '4' octets de remplissage ajout‚s aprŠs donn‚es membres '_typeobject::tp_version_tag'\n",
      "  C:\\Users\\yassi\\anaconda3\\include\\cpython/bytesobject.h(15): warning C4820: '<unnamed-tag>'ÿ: '7' octets de remplissage ajout‚s aprŠs donn‚es membres '<unnamed-tag>::ob_sval'\n",
      "  C:\\Users\\yassi\\anaconda3\\include\\cpython/bytesobject.h(80): warning C4820: '<unnamed-tag>'ÿ: '4' octets de remplissage ajout‚s aprŠs donn‚es membres '<unnamed-tag>::small_buffer'\n",
      "  C:\\Users\\yassi\\anaconda3\\include\\cpython/unicodeobject.h(205): warning C4820: '<unnamed-tag>'ÿ: '4' octets de remplissage ajout‚s aprŠs donn‚es membres '<unnamed-tag>::state'\n",
      "  C:\\Users\\yassi\\anaconda3\\include\\cpython/unicodeobject.h(423): warning C4365: '='ÿ: conversion de 'unsigned int' en 'int', incompatibilit‚ signed/unsigned\n",
      "  C:\\Users\\yassi\\anaconda3\\include\\cpython/unicodeobject.h(450): warning C4365: '='ÿ: conversion de 'unsigned int' en 'int', incompatibilit‚ signed/unsigned\n",
      "  C:\\Users\\yassi\\anaconda3\\include\\cpython/unicodeobject.h(738): warning C4820: '<unnamed-tag>'ÿ: '2' octets de remplissage ajout‚s aprŠs donn‚es membres '<unnamed-tag>::readonly'\n",
      "  C:\\Users\\yassi\\anaconda3\\include\\cpython/longintrepr.h(85): warning C4820: '_longobject'ÿ: '4' octets de remplissage ajout‚s aprŠs donn‚es membres '_longobject::ob_digit'\n",
      "  C:\\Users\\yassi\\anaconda3\\include\\memoryobject.h(45): warning C4820: '<unnamed-tag>'ÿ: '4' octets de remplissage ajout‚s aprŠs donn‚es membres '<unnamed-tag>::flags'\n",
      "  C:\\Users\\yassi\\anaconda3\\include\\memoryobject.h(62): warning C4820: '<unnamed-tag>'ÿ: '4' octets de remplissage ajout‚s aprŠs donn‚es membres '<unnamed-tag>::flags'\n",
      "  C:\\Users\\yassi\\anaconda3\\include\\methodobject.h(59): warning C4820: 'PyMethodDef'ÿ: '4' octets de remplissage ajout‚s aprŠs donn‚es membres 'PyMethodDef::ml_flags'\n",
      "  C:\\Users\\yassi\\anaconda3\\include\\moduleobject.h(62): warning C4820: 'PyModuleDef_Slot'ÿ: '4' octets de remplissage ajout‚s aprŠs donn‚es membres 'PyModuleDef_Slot::slot'\n",
      "  C:\\Users\\yassi\\anaconda3\\include\\cpython/funcobject.h(59): warning C4820: '<unnamed-tag>'ÿ: '4' octets de remplissage ajout‚s aprŠs donn‚es membres '<unnamed-tag>::func_version'\n",
      "  C:\\Users\\yassi\\anaconda3\\include\\cpython/code.h(103): warning C4820: 'PyCodeObject'ÿ: '4' octets de remplissage ajout‚s aprŠs donn‚es membres 'PyCodeObject::_co_firsttraceable'\n",
      "  C:\\Users\\yassi\\anaconda3\\include\\cpython/code.h(103): warning C4820: 'PyCodeObject'ÿ: '7' octets de remplissage ajout‚s aprŠs donn‚es membres 'PyCodeObject::co_code_adaptive'\n",
      "  C:\\Users\\yassi\\anaconda3\\include\\cpython/code.h(175): warning C4820: '_opaque'ÿ: '4' octets de remplissage ajout‚s aprŠs donn‚es membres '_opaque::computed_line'\n",
      "  C:\\Users\\yassi\\anaconda3\\include\\cpython/code.h(183): warning C4820: '_line_offsets'ÿ: '4' octets de remplissage ajout‚s aprŠs donn‚es membres '_line_offsets::ar_line'\n",
      "  C:\\Users\\yassi\\anaconda3\\include\\cpython/initconfig.h(16): warning C4820: '<unnamed-tag>'ÿ: '4' octets de remplissage ajout‚s aprŠs donn‚es membres '<unnamed-tag>::_type'\n",
      "  C:\\Users\\yassi\\anaconda3\\include\\cpython/initconfig.h(19): warning C4820: '<unnamed-tag>'ÿ: '4' octets de remplissage ajout‚s aprŠs donn‚es membres '<unnamed-tag>::exitcode'\n",
      "  C:\\Users\\yassi\\anaconda3\\include\\cpython/initconfig.h(149): warning C4820: 'PyConfig'ÿ: '4' octets de remplissage ajout‚s aprŠs donn‚es membres 'PyConfig::dump_refs'\n",
      "  C:\\Users\\yassi\\anaconda3\\include\\cpython/initconfig.h(151): warning C4820: 'PyConfig'ÿ: '4' octets de remplissage ajout‚s aprŠs donn‚es membres 'PyConfig::malloc_stats'\n",
      "  C:\\Users\\yassi\\anaconda3\\include\\cpython/initconfig.h(155): warning C4820: 'PyConfig'ÿ: '4' octets de remplissage ajout‚s aprŠs donn‚es membres 'PyConfig::parse_argv'\n",
      "  C:\\Users\\yassi\\anaconda3\\include\\cpython/initconfig.h(172): warning C4820: 'PyConfig'ÿ: '4' octets de remplissage ajout‚s aprŠs donn‚es membres 'PyConfig::buffered_stdio'\n",
      "  C:\\Users\\yassi\\anaconda3\\include\\cpython/initconfig.h(177): warning C4820: 'PyConfig'ÿ: '4' octets de remplissage ajout‚s aprŠs donn‚es membres 'PyConfig::legacy_windows_stdio'\n",
      "  C:\\Users\\yassi\\anaconda3\\include\\cpython/initconfig.h(183): warning C4820: 'PyConfig'ÿ: '4' octets de remplissage ajout‚s aprŠs donn‚es membres 'PyConfig::pathconfig_warnings'\n",
      "  C:\\Users\\yassi\\anaconda3\\include\\cpython/initconfig.h(190): warning C4820: 'PyConfig'ÿ: '4' octets de remplissage ajout‚s aprŠs donn‚es membres 'PyConfig::module_search_paths_set'\n",
      "  C:\\Users\\yassi\\anaconda3\\include\\cpython/initconfig.h(201): warning C4820: 'PyConfig'ÿ: '4' octets de remplissage ajout‚s aprŠs donn‚es membres 'PyConfig::skip_source_first_line'\n",
      "  C:\\Users\\yassi\\anaconda3\\include\\cpython/pystate.h(51): warning C4820: '_PyCFrame'ÿ: '7' octets de remplissage ajout‚s aprŠs donn‚es membres '_PyCFrame::use_tracing'\n",
      "  C:\\Users\\yassi\\anaconda3\\include\\cpython/pystate.h(110): warning C4820: '_ts'ÿ: '4' octets de remplissage ajout‚s aprŠs donn‚es membres '_ts::tracing_what'\n",
      "  C:\\Users\\yassi\\anaconda3\\include\\cpython/pystate.h(131): warning C4820: '_ts'ÿ: '4' octets de remplissage ajout‚s aprŠs donn‚es membres '_ts::gilstate_counter'\n",
      "  C:\\Users\\yassi\\anaconda3\\include\\cpython/pystate.h(141): warning C4820: '_ts'ÿ: '4' octets de remplissage ajout‚s aprŠs donn‚es membres '_ts::trash_delete_nesting'\n",
      "  C:\\Users\\yassi\\anaconda3\\include\\cpython/pystate.h(171): warning C4820: '_ts'ÿ: '4' octets de remplissage ajout‚s aprŠs donn‚es membres '_ts::coroutine_origin_tracking_depth'\n",
      "  C:\\Users\\yassi\\anaconda3\\include\\cpython/genobject.h(35): warning C4820: '<unnamed-tag>'ÿ: '4' octets de remplissage ajout‚s aprŠs donn‚es membres '<unnamed-tag>::gi_frame_state'\n",
      "  C:\\Users\\yassi\\anaconda3\\include\\cpython/genobject.h(54): warning C4820: '<unnamed-tag>'ÿ: '4' octets de remplissage ajout‚s aprŠs donn‚es membres '<unnamed-tag>::cr_frame_state'\n",
      "  C:\\Users\\yassi\\anaconda3\\include\\cpython/genobject.h(68): warning C4820: '<unnamed-tag>'ÿ: '4' octets de remplissage ajout‚s aprŠs donn‚es membres '<unnamed-tag>::ag_frame_state'\n",
      "  C:\\Users\\yassi\\anaconda3\\include\\cpython/descrobject.h(14): warning C4820: 'wrapperbase'ÿ: '4' octets de remplissage ajout‚s aprŠs donn‚es membres 'wrapperbase::offset'\n",
      "  C:\\Users\\yassi\\anaconda3\\include\\cpython/descrobject.h(18): warning C4820: 'wrapperbase'ÿ: '4' octets de remplissage ajout‚s aprŠs donn‚es membres 'wrapperbase::flags'\n",
      "  C:\\Users\\yassi\\anaconda3\\include\\structseq.h(20): warning C4820: 'PyStructSequence_Desc'ÿ: '4' octets de remplissage ajout‚s aprŠs donn‚es membres 'PyStructSequence_Desc::n_in_sequence'\n",
      "  C:\\Users\\yassi\\anaconda3\\include\\cpython/pyerrors.h(15): warning C4820: '<unnamed-tag>'ÿ: '7' octets de remplissage ajout‚s aprŠs donn‚es membres '<unnamed-tag>::suppress_context'\n",
      "  C:\\Users\\yassi\\anaconda3\\include\\cpython/pyerrors.h(19): warning C4820: '<unnamed-tag>'ÿ: '7' octets de remplissage ajout‚s aprŠs donn‚es membres '<unnamed-tag>::suppress_context'\n",
      "  C:\\Users\\yassi\\anaconda3\\include\\cpython/pyerrors.h(25): warning C4820: '<unnamed-tag>'ÿ: '7' octets de remplissage ajout‚s aprŠs donn‚es membres '<unnamed-tag>::suppress_context'\n",
      "  C:\\Users\\yassi\\anaconda3\\include\\cpython/pyerrors.h(37): warning C4820: '<unnamed-tag>'ÿ: '7' octets de remplissage ajout‚s aprŠs donn‚es membres '<unnamed-tag>::suppress_context'\n",
      "  C:\\Users\\yassi\\anaconda3\\include\\cpython/pyerrors.h(44): warning C4820: '<unnamed-tag>'ÿ: '7' octets de remplissage ajout‚s aprŠs donn‚es membres '<unnamed-tag>::suppress_context'\n",
      "  C:\\Users\\yassi\\anaconda3\\include\\cpython/pyerrors.h(53): warning C4820: '<unnamed-tag>'ÿ: '7' octets de remplissage ajout‚s aprŠs donn‚es membres '<unnamed-tag>::suppress_context'\n",
      "  C:\\Users\\yassi\\anaconda3\\include\\cpython/pyerrors.h(58): warning C4820: '<unnamed-tag>'ÿ: '7' octets de remplissage ajout‚s aprŠs donn‚es membres '<unnamed-tag>::suppress_context'\n",
      "  C:\\Users\\yassi\\anaconda3\\include\\cpython/pyerrors.h(70): warning C4820: '<unnamed-tag>'ÿ: '7' octets de remplissage ajout‚s aprŠs donn‚es membres '<unnamed-tag>::suppress_context'\n",
      "  C:\\Users\\yassi\\anaconda3\\include\\cpython/pyerrors.h(75): warning C4820: '<unnamed-tag>'ÿ: '7' octets de remplissage ajout‚s aprŠs donn‚es membres '<unnamed-tag>::suppress_context'\n",
      "  C:\\Users\\yassi\\anaconda3\\include\\cpython/pyerrors.h(80): warning C4820: '<unnamed-tag>'ÿ: '7' octets de remplissage ajout‚s aprŠs donn‚es membres '<unnamed-tag>::suppress_context'\n",
      "  C:\\Users\\yassi\\anaconda3\\include\\cpython/modsupport.h(59): warning C4820: '_PyArg_Parser'ÿ: '4' octets de remplissage ajout‚s aprŠs donn‚es membres '_PyArg_Parser::max'\n",
      "  C:\\Users\\yassi\\anaconda3\\include\\cpython/abstract.h(59): warning C4365: 'return'ÿ: conversion de 'size_t' en 'Py_ssize_t', incompatibilit‚ signed/unsigned\n",
      "  pdftotext.cpp(3): fatal error C1083: Impossible d'ouvrir le fichier includeÿ: 'poppler/cpp/poppler-document.h'ÿ: No such file or directory\n",
      "  error: command 'C:\\\\Program Files\\\\Microsoft Visual Studio\\\\2022\\\\Community\\\\VC\\\\Tools\\\\MSVC\\\\14.39.33519\\\\bin\\\\HostX86\\\\x64\\\\cl.exe' failed with exit code 2\n",
      "  [end of output]\n",
      "  \n",
      "  note: This error originates from a subprocess, and is likely not a problem with pip.\n",
      "  ERROR: Failed building wheel for pdftotext\n",
      "ERROR: Could not build wheels for pdftotext, which is required to install pyproject.toml-based projects\n"
     ]
    },
    {
     "name": "stdout",
     "output_type": "stream",
     "text": [
      "\n",
      "  Using cached pdftotext-2.2.2.tar.gz (113 kB)\n",
      "  Preparing metadata (setup.py): started\n",
      "  Preparing metadata (setup.py): finished with status 'done'\n",
      "Building wheels for collected packages: pdftotext\n",
      "  Building wheel for pdftotext (setup.py): started\n",
      "  Building wheel for pdftotext (setup.py): finished with status 'error'\n",
      "  Running setup.py clean for pdftotext\n",
      "Failed to build pdftotext\n"
     ]
    }
   ],
   "source": [
    "pip install --force-reinstall pdftotext"
   ]
  },
  {
   "cell_type": "code",
   "execution_count": 7,
   "id": "b9d20c92-99e7-4f26-9676-ddabfe0dec13",
   "metadata": {},
   "outputs": [
    {
     "name": "stdout",
     "output_type": "stream",
     "text": [
      "Note: you may need to restart the kernel to use updated packages.\n"
     ]
    },
    {
     "name": "stderr",
     "output_type": "stream",
     "text": [
      "ERROR: Could not find a version that satisfies the requirement poppler (from versions: none)\n",
      "ERROR: No matching distribution found for poppler\n"
     ]
    }
   ],
   "source": [
    " pip install poppler"
   ]
  },
  {
   "cell_type": "code",
   "execution_count": 5,
   "id": "30db83b8-adaa-48d5-b25a-92398e62347d",
   "metadata": {},
   "outputs": [
    {
     "ename": "ModuleNotFoundError",
     "evalue": "No module named 'pdftotext'",
     "output_type": "error",
     "traceback": [
      "\u001b[1;31m------------------------------------------------------------------------\u001b[0m",
      "\u001b[1;31mModuleNotFoundError\u001b[0m                    Traceback (most recent call last)",
      "Cell \u001b[1;32mIn[5], line 2\u001b[0m\n\u001b[0;32m      1\u001b[0m \u001b[38;5;28;01mimport\u001b[39;00m \u001b[38;5;21;01mglob\u001b[39;00m\n\u001b[1;32m----> 2\u001b[0m \u001b[38;5;28;01mimport\u001b[39;00m \u001b[38;5;21;01mpdftotext\u001b[39;00m\n\u001b[0;32m      4\u001b[0m \u001b[38;5;66;03m# Get all PDF files in the invoices folder\u001b[39;00m\n\u001b[0;32m      5\u001b[0m files \u001b[38;5;241m=\u001b[39m glob\u001b[38;5;241m.\u001b[39mglob(\u001b[38;5;124m'\u001b[39m\u001b[38;5;124mlibrairies-test/*.pdf\u001b[39m\u001b[38;5;124m'\u001b[39m)\n",
      "\u001b[1;31mModuleNotFoundError\u001b[0m: No module named 'pdftotext'"
     ]
    }
   ],
   "source": [
    "import glob\n",
    "import pdftotext\n",
    " \n",
    "# Get all PDF files in the invoices folder\n",
    "files = glob.glob('librairies-test/*.pdf')\n",
    " \n",
    "for i, file in enumerate(files):\n",
    "    with open(file, 'rb') as f:\n",
    "        # Raw=True is needed to get text grouped together\n",
    "        #   which improves the accuracy\n",
    "        pdf = pdftotext.PDF(f, raw=True)\n",
    "        text = '\\n\\n'.join(pdf)\n",
    "        print(text)"
   ]
  },
  {
   "cell_type": "code",
   "execution_count": null,
   "id": "59913f21-ae19-44bf-84be-2b290c67bbc3",
   "metadata": {},
   "outputs": [],
   "source": []
  }
 ],
 "metadata": {
  "kernelspec": {
   "display_name": "Python 3 (ipykernel)",
   "language": "python",
   "name": "python3"
  },
  "language_info": {
   "codemirror_mode": {
    "name": "ipython",
    "version": 3
   },
   "file_extension": ".py",
   "mimetype": "text/x-python",
   "name": "python",
   "nbconvert_exporter": "python",
   "pygments_lexer": "ipython3",
   "version": "3.11.7"
  }
 },
 "nbformat": 4,
 "nbformat_minor": 5
}
