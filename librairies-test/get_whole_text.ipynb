{
 "cells": [
  {
   "cell_type": "code",
   "execution_count": 1,
   "id": "6e019e64-b4cc-4d45-802b-fd7feb49dcb0",
   "metadata": {},
   "outputs": [],
   "source": [
    "import pytesseract\n",
    "import cv2"
   ]
  },
  {
   "cell_type": "code",
   "execution_count": 2,
   "id": "e86f366a-20ef-496a-b5e0-4d8b9e0393a8",
   "metadata": {},
   "outputs": [],
   "source": [
    "image = cv2.imread(\"ill.jpg\")\n",
    "base_image = image.copy()"
   ]
  },
  {
   "cell_type": "code",
   "execution_count": 3,
   "id": "09e1eb7a-f5c6-488e-b525-a7a0f94e8002",
   "metadata": {},
   "outputs": [],
   "source": [
    "gray = cv2.cvtColor(image, cv2.COLOR_BGR2GRAY)\n",
    "blur = cv2.GaussianBlur(gray, (7,7),0)\n",
    "thresh = cv2.threshold(blur, 0, 255, cv2.THRESH_BINARY_INV + cv2.THRESH_OTSU)[1]"
   ]
  },
  {
   "cell_type": "code",
   "execution_count": 4,
   "id": "d4463059-2bff-4bdf-bf87-40a02c33e3e4",
   "metadata": {},
   "outputs": [],
   "source": [
    "kernal = cv2.getStructuringElement(cv2.MORPH_RECT, (3,50))\n",
    "dilate = cv2.dilate(thresh, kernal, iterations = 1)"
   ]
  },
  {
   "cell_type": "code",
   "execution_count": 5,
   "id": "c5b08ca3-c03a-4e99-9ea4-1b1f6041a18d",
   "metadata": {},
   "outputs": [
    {
     "data": {
      "text/plain": [
       "True"
      ]
     },
     "execution_count": 5,
     "metadata": {},
     "output_type": "execute_result"
    }
   ],
   "source": [
    "cv2.imwrite(\"sample_dialated.png\", dilate)"
   ]
  },
  {
   "cell_type": "code",
   "execution_count": 6,
   "id": "b9912e8d-2bf9-45de-8e5d-851a08d4f6d1",
   "metadata": {},
   "outputs": [],
   "source": [
    "cnts = cv2.findContours(dilate, cv2.RETR_EXTERNAL, cv2.CHAIN_APPROX_SIMPLE)\n",
    "cnts = cnts[0] if len(cnts) == 2 else cnts[1]\n",
    "cnts = sorted(cnts, key=lambda x: cv2.boundingRect(x)[1])"
   ]
  },
  {
   "cell_type": "code",
   "execution_count": 19,
   "id": "39ab7fc0-e492-4532-b581-0bb723a4e59f",
   "metadata": {},
   "outputs": [
    {
     "data": {
      "text/plain": [
       "True"
      ]
     },
     "execution_count": 19,
     "metadata": {},
     "output_type": "execute_result"
    }
   ],
   "source": [
    "for c in cnts :\n",
    "    x,y,w,h = cv2.boundingRect(c)\n",
    "    if h > 200 and w > 250 :\n",
    "        roi = base_image[y:y+h, x:x+w]\n",
    "        cv2.rectangle(image, (x,y), (x+w, y+h), (36, 255, 12), 2)\n",
    "cv2.imwrite(\"sample_boxes.png\", image)"
   ]
  },
  {
   "cell_type": "code",
   "execution_count": 17,
   "id": "c5cacdd0-44ad-4971-900e-6006b68c4f70",
   "metadata": {},
   "outputs": [],
   "source": [
    "ocr_result_original = pytesseract.image_to_string(base_image)"
   ]
  },
  {
   "cell_type": "code",
   "execution_count": 18,
   "id": "1c5d72b3-7d9b-46bb-9746-5741e991433a",
   "metadata": {},
   "outputs": [
    {
     "name": "stdout",
     "output_type": "stream",
     "text": [
      "ILLUSTRATIONS\n",
      "\n",
      "Between pages 82 and 83\n",
      "\n",
      "4\n",
      "\n",
      "Mistra in the seventeenth century\n",
      "(from B. Randolph, The Present State of the Morea, Called\n",
      "Anciently Peloponnesus ... [London, 1686])\n",
      "Sparta by Edward Lear, 1849\n",
      "(Gennadius Library, Athens)\n",
      "Corinth by Edward Lear, 1849\n",
      "(Gennadius Library, Athens)\n",
      "Rumeli Hisar on the Bosporos by Edward Lear, 1848\n",
      "(Gennadius Library, Athens)\n",
      "The Emperor John VIII Palaiologos\n",
      "(from Sp. P. Lambros, Catalogue illustré de la Collection de\n",
      "Portraits des Empereurs de Byzance... [Athens-Rome, 1911],\n",
      "no. 402)\n",
      "6 The Emperor Constantine XI Palaiologos\n",
      "(from A. Thevet, Les vrais portraits et vies des hommes\n",
      "illustres grecs, latins et payens, anciens et modernes... [Paris,\n",
      "3584)\n",
      "The Sultan Mehmed II\n",
      "(from [J. J. Boissard], Res turcicae, id est, plena et succincta\n",
      "descriptio vitae rerumque gestarum imperatorum turcicorum,\n",
      "principum persarum etc. Sumptibus Guilhelmi Fitzeri Anno\n",
      "MDCXXXII [1632])\n",
      "8 Gold seal of Constantine XI\n",
      "(State Archive of Dubrovnik {Ragusa])\n",
      "g Silver coin of Constantine XI\n",
      "(private collection)\n",
      "zo Constantine’s signature as Emperor of the Romans, 1451\n",
      "(on his chrysobull for Ragusa: State Archive of Dubrovnik\n",
      "[Ragusa])\n",
      "11 The sleeping emperor\n",
      "(from the prophecies of Stephanitzes Leukadios {Athens, 1838])\n",
      "\n",
      "v\n",
      "\n",
      "+\n",
      "\n",
      "x\n",
      "\n",
      "Cambridge Books Online © Cambridge University Press, 2009\n",
      "\f",
      "\n"
     ]
    }
   ],
   "source": [
    "print(ocr_result_original)"
   ]
  },
  {
   "cell_type": "code",
   "execution_count": 20,
   "id": "15348858-211e-4fe8-a616-6b8e37d3eb61",
   "metadata": {},
   "outputs": [],
   "source": [
    "ocr_result_new = pytesseract.image_to_string(roi)"
   ]
  },
  {
   "cell_type": "code",
   "execution_count": 21,
   "id": "9cc42215-bcfc-4504-8e3a-6ce184c86a59",
   "metadata": {},
   "outputs": [
    {
     "name": "stdout",
     "output_type": "stream",
     "text": [
      "Mistra in the seventeenth century\n",
      "\n",
      "(from B. Randolph, The Present State of the Morea, Called\n",
      "Anciently Peloponnesus ... (London, 1686})\n",
      "\n",
      "Sparta by Edward Lear, 1849\n",
      "\n",
      "(Gennadius Library, Athens)\n",
      "\n",
      "Corinth by Edward Lear, 1849\n",
      "\n",
      "(Gennadius Library, Athens)\n",
      "\n",
      "Rumeli Hisar on the Bosporos by Edward Lear, 1848\n",
      "(Gennadius Library, Athens)\n",
      "\n",
      "The Emperor John VIII Palaiologos\n",
      "\n",
      "(from Sp. P. Lambros, Catalogue illustré de la Collection de\n",
      "Portraits des Empereurs de Byzance... [Athens—Rome, r911],\n",
      "no. 402)\n",
      "\n",
      "The Emperor Constantine XI Palaiologos\n",
      "\n",
      "(from A. Thevet, Les vrais portraits et vies des hommes\n",
      "illustres grecs, latins et payens, anciens et modernes... (Paris,\n",
      "3584)\n",
      "\n",
      "The Sultan Mehmed II\n",
      "\n",
      "(from [J. J. Boissard], Res turcicae, id est, plena et succincta\n",
      "descriptio vitae rerumque gestarum imperatorum turcicorum,\n",
      "principum persarum etc. Sumptibus Guilhelmi Fitzeri Anno\n",
      "MDCXXXII [1632])\n",
      "\n",
      "Gold seal of Constantine XI\n",
      "\n",
      "(State Archive of Dubrovnik {Ragusa])\n",
      "\n",
      "Silver coin of Constantine XI\n",
      "\n",
      "(private collection)\n",
      "\n",
      "Constantine’s signature as Emperor of the Romans, 1451\n",
      "\n",
      "(on his chrysobull for Ragusa: State Archive of Dubrovnik\n",
      "[Ragusa])\n",
      "\n",
      "The sleeping emperor\n",
      "\n",
      "(from the prophecies of Stephanitzes Leukadios {Athens, 1838])\n",
      "\f",
      "\n"
     ]
    }
   ],
   "source": [
    "print (ocr_result_new)"
   ]
  },
  {
   "cell_type": "code",
   "execution_count": null,
   "id": "f2699354-eb18-4844-b0cb-d2562c3a23bc",
   "metadata": {},
   "outputs": [],
   "source": []
  }
 ],
 "metadata": {
  "kernelspec": {
   "display_name": "librairiestest",
   "language": "python",
   "name": "librairiestest"
  },
  "language_info": {
   "codemirror_mode": {
    "name": "ipython",
    "version": 3
   },
   "file_extension": ".py",
   "mimetype": "text/x-python",
   "name": "python",
   "nbconvert_exporter": "python",
   "pygments_lexer": "ipython3",
   "version": "3.11.3"
  }
 },
 "nbformat": 4,
 "nbformat_minor": 5
}
