{
 "cells": [
  {
   "cell_type": "code",
   "execution_count": 5,
   "id": "97456cd1-b9c8-4199-8f8f-df1d411a6da5",
   "metadata": {},
   "outputs": [
    {
     "name": "stdout",
     "output_type": "stream",
     "text": [
      "Requirement already satisfied: easyocr in c:\\users\\yassi\\desktop\\ocr\\librairies-test\\calamariocr\\lib\\site-packages (1.7.1)\n",
      "Requirement already satisfied: torch in c:\\users\\yassi\\desktop\\ocr\\librairies-test\\calamariocr\\lib\\site-packages (from easyocr) (2.2.2)\n",
      "Requirement already satisfied: torchvision>=0.5 in c:\\users\\yassi\\desktop\\ocr\\librairies-test\\calamariocr\\lib\\site-packages (from easyocr) (0.17.2)\n",
      "Requirement already satisfied: opencv-python-headless in c:\\users\\yassi\\desktop\\ocr\\librairies-test\\calamariocr\\lib\\site-packages (from easyocr) (4.9.0.80)\n",
      "Requirement already satisfied: scipy in c:\\users\\yassi\\desktop\\ocr\\librairies-test\\calamariocr\\lib\\site-packages (from easyocr) (1.13.0)\n",
      "Requirement already satisfied: numpy in c:\\users\\yassi\\desktop\\ocr\\librairies-test\\calamariocr\\lib\\site-packages (from easyocr) (1.26.4)\n",
      "Requirement already satisfied: Pillow in c:\\users\\yassi\\desktop\\ocr\\librairies-test\\calamariocr\\lib\\site-packages (from easyocr) (10.3.0)\n",
      "Requirement already satisfied: scikit-image in c:\\users\\yassi\\desktop\\ocr\\librairies-test\\calamariocr\\lib\\site-packages (from easyocr) (0.23.1)\n",
      "Requirement already satisfied: python-bidi in c:\\users\\yassi\\desktop\\ocr\\librairies-test\\calamariocr\\lib\\site-packages (from easyocr) (0.4.2)\n",
      "Requirement already satisfied: PyYAML in c:\\users\\yassi\\desktop\\ocr\\librairies-test\\calamariocr\\lib\\site-packages (from easyocr) (6.0.1)\n",
      "Requirement already satisfied: Shapely in c:\\users\\yassi\\desktop\\ocr\\librairies-test\\calamariocr\\lib\\site-packages (from easyocr) (2.0.4)\n",
      "Requirement already satisfied: pyclipper in c:\\users\\yassi\\desktop\\ocr\\librairies-test\\calamariocr\\lib\\site-packages (from easyocr) (1.3.0.post5)\n",
      "Requirement already satisfied: ninja in c:\\users\\yassi\\desktop\\ocr\\librairies-test\\calamariocr\\lib\\site-packages (from easyocr) (1.11.1.1)\n",
      "Requirement already satisfied: filelock in c:\\users\\yassi\\desktop\\ocr\\librairies-test\\calamariocr\\lib\\site-packages (from torch->easyocr) (3.13.4)\n",
      "Requirement already satisfied: typing-extensions>=4.8.0 in c:\\users\\yassi\\desktop\\ocr\\librairies-test\\calamariocr\\lib\\site-packages (from torch->easyocr) (4.11.0)\n",
      "Requirement already satisfied: sympy in c:\\users\\yassi\\desktop\\ocr\\librairies-test\\calamariocr\\lib\\site-packages (from torch->easyocr) (1.12)\n",
      "Requirement already satisfied: networkx in c:\\users\\yassi\\desktop\\ocr\\librairies-test\\calamariocr\\lib\\site-packages (from torch->easyocr) (3.3)\n",
      "Requirement already satisfied: jinja2 in c:\\users\\yassi\\desktop\\ocr\\librairies-test\\calamariocr\\lib\\site-packages (from torch->easyocr) (3.1.3)\n",
      "Requirement already satisfied: fsspec in c:\\users\\yassi\\desktop\\ocr\\librairies-test\\calamariocr\\lib\\site-packages (from torch->easyocr) (2024.3.1)\n",
      "Requirement already satisfied: six in c:\\users\\yassi\\desktop\\ocr\\librairies-test\\calamariocr\\lib\\site-packages (from python-bidi->easyocr) (1.16.0)\n",
      "Requirement already satisfied: imageio>=2.33 in c:\\users\\yassi\\desktop\\ocr\\librairies-test\\calamariocr\\lib\\site-packages (from scikit-image->easyocr) (2.34.0)\n",
      "Requirement already satisfied: tifffile>=2022.8.12 in c:\\users\\yassi\\desktop\\ocr\\librairies-test\\calamariocr\\lib\\site-packages (from scikit-image->easyocr) (2024.4.18)\n",
      "Requirement already satisfied: packaging>=21 in c:\\users\\yassi\\desktop\\ocr\\librairies-test\\calamariocr\\lib\\site-packages (from scikit-image->easyocr) (24.0)\n",
      "Requirement already satisfied: lazy-loader>=0.4 in c:\\users\\yassi\\desktop\\ocr\\librairies-test\\calamariocr\\lib\\site-packages (from scikit-image->easyocr) (0.4)\n",
      "Requirement already satisfied: MarkupSafe>=2.0 in c:\\users\\yassi\\desktop\\ocr\\librairies-test\\calamariocr\\lib\\site-packages (from jinja2->torch->easyocr) (2.1.5)\n",
      "Requirement already satisfied: mpmath>=0.19 in c:\\users\\yassi\\desktop\\ocr\\librairies-test\\calamariocr\\lib\\site-packages (from sympy->torch->easyocr) (1.3.0)\n"
     ]
    }
   ],
   "source": [
    "!pip install easyocr\n",
    "import cv2"
   ]
  },
  {
   "cell_type": "code",
   "execution_count": 4,
   "id": "60a94a57-67aa-4567-b936-e9c9b7d5ce9b",
   "metadata": {
    "scrolled": true
   },
   "outputs": [
    {
     "name": "stdout",
     "output_type": "stream",
     "text": [
      "Requirement already satisfied: torch in c:\\users\\yassi\\desktop\\ocr\\librairies-test\\calamariocr\\lib\\site-packages (2.2.2)\n",
      "Requirement already satisfied: torchvision in c:\\users\\yassi\\desktop\\ocr\\librairies-test\\calamariocr\\lib\\site-packages (0.17.2)\n",
      "Collecting torchaudio\n",
      "  Downloading torchaudio-2.2.2-cp311-cp311-win_amd64.whl.metadata (6.4 kB)\n",
      "Requirement already satisfied: filelock in c:\\users\\yassi\\desktop\\ocr\\librairies-test\\calamariocr\\lib\\site-packages (from torch) (3.13.4)\n",
      "Requirement already satisfied: typing-extensions>=4.8.0 in c:\\users\\yassi\\desktop\\ocr\\librairies-test\\calamariocr\\lib\\site-packages (from torch) (4.11.0)\n",
      "Requirement already satisfied: sympy in c:\\users\\yassi\\desktop\\ocr\\librairies-test\\calamariocr\\lib\\site-packages (from torch) (1.12)\n",
      "Requirement already satisfied: networkx in c:\\users\\yassi\\desktop\\ocr\\librairies-test\\calamariocr\\lib\\site-packages (from torch) (3.3)\n",
      "Requirement already satisfied: jinja2 in c:\\users\\yassi\\desktop\\ocr\\librairies-test\\calamariocr\\lib\\site-packages (from torch) (3.1.3)\n",
      "Requirement already satisfied: fsspec in c:\\users\\yassi\\desktop\\ocr\\librairies-test\\calamariocr\\lib\\site-packages (from torch) (2024.3.1)\n",
      "Requirement already satisfied: numpy in c:\\users\\yassi\\desktop\\ocr\\librairies-test\\calamariocr\\lib\\site-packages (from torchvision) (1.26.4)\n",
      "Requirement already satisfied: pillow!=8.3.*,>=5.3.0 in c:\\users\\yassi\\desktop\\ocr\\librairies-test\\calamariocr\\lib\\site-packages (from torchvision) (10.3.0)\n",
      "Requirement already satisfied: MarkupSafe>=2.0 in c:\\users\\yassi\\desktop\\ocr\\librairies-test\\calamariocr\\lib\\site-packages (from jinja2->torch) (2.1.5)\n",
      "Requirement already satisfied: mpmath>=0.19 in c:\\users\\yassi\\desktop\\ocr\\librairies-test\\calamariocr\\lib\\site-packages (from sympy->torch) (1.3.0)\n",
      "Downloading torchaudio-2.2.2-cp311-cp311-win_amd64.whl (2.4 MB)\n",
      "   ---------------------------------------- 0.0/2.4 MB ? eta -:--:--\n",
      "    --------------------------------------- 0.0/2.4 MB ? eta -:--:--\n",
      "   -------- ------------------------------- 0.5/2.4 MB 8.0 MB/s eta 0:00:01\n",
      "   --------------------- ------------------ 1.3/2.4 MB 11.8 MB/s eta 0:00:01\n",
      "   ---------------------------------------  2.4/2.4 MB 15.1 MB/s eta 0:00:01\n",
      "   ---------------------------------------- 2.4/2.4 MB 13.7 MB/s eta 0:00:00\n",
      "Installing collected packages: torchaudio\n",
      "Successfully installed torchaudio-2.2.2\n"
     ]
    }
   ],
   "source": [
    "!pip3 install torch torchvision torchaudio\n"
   ]
  },
  {
   "cell_type": "code",
   "execution_count": 1,
   "id": "86421793-a26d-413d-9f78-8a14b139a101",
   "metadata": {},
   "outputs": [],
   "source": [
    "import easyocr"
   ]
  },
  {
   "cell_type": "code",
   "execution_count": null,
   "id": "254744f6-dfe4-4070-a98f-32dff44f1fbf",
   "metadata": {},
   "outputs": [],
   "source": []
  }
 ],
 "metadata": {
  "kernelspec": {
   "display_name": "librairiestest",
   "language": "python",
   "name": "librairiestest"
  },
  "language_info": {
   "codemirror_mode": {
    "name": "ipython",
    "version": 3
   },
   "file_extension": ".py",
   "mimetype": "text/x-python",
   "name": "python",
   "nbconvert_exporter": "python",
   "pygments_lexer": "ipython3",
   "version": "3.11.3"
  }
 },
 "nbformat": 4,
 "nbformat_minor": 5
}
