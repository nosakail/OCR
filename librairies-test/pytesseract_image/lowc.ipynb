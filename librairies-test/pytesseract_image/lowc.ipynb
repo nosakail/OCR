{
 "cells": [
  {
   "cell_type": "code",
   "execution_count": 1,
   "id": "1846f86a-ab64-4622-938a-bd924a866a2d",
   "metadata": {},
   "outputs": [],
   "source": [
    "from PIL import Image\n",
    "import pytesseract\n",
    "import time\n",
    "pytesseract.pytesseract.tesseract_cmd=r'C:\\Users\\yassi\\AppData\\Local\\Tesseract-OCR\\tesseract.exe'"
   ]
  },
  {
   "cell_type": "code",
   "execution_count": 2,
   "id": "cc7ae2d9-5946-48a7-a14d-a381177c9797",
   "metadata": {},
   "outputs": [
    {
     "name": "stdout",
     "output_type": "stream",
     "text": [
      "['eng', 'osd']\n"
     ]
    }
   ],
   "source": [
    "# List of available languages\n",
    "print(pytesseract.get_languages(config=''))"
   ]
  },
  {
   "cell_type": "code",
   "execution_count": 3,
   "id": "44189d08-cea6-44a0-a8ed-90b3fce2869f",
   "metadata": {},
   "outputs": [
    {
     "name": "stdout",
     "output_type": "stream",
     "text": [
      "CDN ZS\n",
      "K C H O D\n",
      "\f",
      "\n"
     ]
    }
   ],
   "source": [
    "start_time = time.time()# Start of timing\n",
    "# Simple image to string\n",
    "print(pytesseract.image_to_string('lowc.jpg'))\n",
    "end_time = time.time()# end of timing\n",
    "processing_time = end_time - start_time"
   ]
  },
  {
   "cell_type": "code",
   "execution_count": 4,
   "id": "afcd4b0a-7b54-475d-97db-0af6b32b1e21",
   "metadata": {},
   "outputs": [
    {
     "name": "stdout",
     "output_type": "stream",
     "text": [
      "0.45894813537597656\n"
     ]
    }
   ],
   "source": [
    "print(processing_time)"
   ]
  },
  {
   "cell_type": "code",
   "execution_count": 5,
   "id": "0204763d-87f1-436f-9c27-e5a4caeb4f6e",
   "metadata": {},
   "outputs": [],
   "source": [
    "# Get bounding box estimates\n",
    "#print(pytesseract.image_to_boxes('ant.png'))"
   ]
  },
  {
   "cell_type": "code",
   "execution_count": 6,
   "id": "b7a43156-8287-4e44-9185-3934acdc62ca",
   "metadata": {},
   "outputs": [
    {
     "name": "stdout",
     "output_type": "stream",
     "text": [
      "Temps de traitement et d'analyse : 0.34 secondes\n"
     ]
    }
   ],
   "source": [
    "from PIL import Image, ImageDraw\n",
    "import pytesseract\n",
    "import time\n",
    "\n",
    "# Configuration de Tesseract\n",
    "pytesseract.pytesseract.tesseract_cmd = r'C:\\Users\\yassi\\AppData\\Local\\Tesseract-OCR\\tesseract.exe'\n",
    "\n",
    "# Charger l'image\n",
    "im = Image.open(\"lowc.jpg\")\n",
    "\n",
    "start_time = time.time()\n",
    "boxes = pytesseract.image_to_boxes(im)\n",
    "end_time = time.time()\n",
    "processing_time = end_time - start_time\n",
    "\n",
    "# Dessiner les boîtes englobantes sur l'image\n",
    "draw = ImageDraw.Draw(im)\n",
    "width, height = im.size\n",
    "\n",
    "for b in boxes.splitlines():\n",
    "    b = b.split(' ')\n",
    "    x1, y2, x2, y1 = int(b[1]), height - int(b[2]), int(b[3]), height - int(b[4])\n",
    "    draw.rectangle([x1, y1, x2, y2], outline=(0, 255, 0), width=2)\n",
    "\n",
    "# Enregistrer l'image résultante\n",
    "im.save(\"result_lowc.png\")\n",
    "\n",
    "# Afficher l'image\n",
    "im.show()\n",
    "\n",
    "# Imprimer le temps de traitement et d'analyse\n",
    "print(f\"Temps de traitement et d'analyse : {processing_time:.2f} secondes\")\n"
   ]
  },
  {
   "cell_type": "code",
   "execution_count": 7,
   "id": "9df0cf0a-a272-4092-8d80-4b2d1d08a6ba",
   "metadata": {},
   "outputs": [
    {
     "name": "stdout",
     "output_type": "stream",
     "text": [
      "0.34 seconds\n"
     ]
    }
   ],
   "source": [
    "# Imprimer le temps de traitement et d'analyse\n",
    "print(f\"{processing_time:.2f} seconds\")"
   ]
  },
  {
   "cell_type": "code",
   "execution_count": null,
   "id": "1d308c0d-223e-4ba7-952a-7c44784f13ed",
   "metadata": {},
   "outputs": [],
   "source": []
  }
 ],
 "metadata": {
  "kernelspec": {
   "display_name": "librairiestest",
   "language": "python",
   "name": "librairiestest"
  },
  "language_info": {
   "codemirror_mode": {
    "name": "ipython",
    "version": 3
   },
   "file_extension": ".py",
   "mimetype": "text/x-python",
   "name": "python",
   "nbconvert_exporter": "python",
   "pygments_lexer": "ipython3",
   "version": "3.11.3"
  }
 },
 "nbformat": 4,
 "nbformat_minor": 5
}
