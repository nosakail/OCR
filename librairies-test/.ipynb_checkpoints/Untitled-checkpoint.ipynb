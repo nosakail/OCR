{
 "cells": [
  {
   "cell_type": "code",
   "execution_count": null,
   "id": "ddc730ff-64d9-4817-b4f4-089faae2779a",
   "metadata": {},
   "outputs": [],
   "source": [
    "!pip install -q keras-ocr"
   ]
  },
  {
   "cell_type": "code",
   "execution_count": null,
   "id": "afb94197-8f1b-46ae-b08b-37a6edf390cf",
   "metadata": {},
   "outputs": [],
   "source": [
    "import keras_ocr\n",
    "import matplotlib.pyplot as plt"
   ]
  },
  {
   "cell_type": "code",
   "execution_count": null,
   "id": "bd3e60e0-eda6-4953-b6f0-5188f51112ff",
   "metadata": {},
   "outputs": [],
   "source": [
    "!pip install --upgrade keras-ocr"
   ]
  },
  {
   "cell_type": "code",
   "execution_count": null,
   "id": "e87c3bd5-b3a2-44a7-ae04-2898bb000956",
   "metadata": {},
   "outputs": [],
   "source": [
    "pip install --upgrade requests-oauthlib"
   ]
  },
  {
   "cell_type": "code",
   "execution_count": null,
   "id": "1b6006d9-4df8-4260-ab14-aec86cd3d4cd",
   "metadata": {},
   "outputs": [],
   "source": [
    "!pip uninstall tweepy requests-oauthlib\n",
    "!pip install tweepy requests-oauthlib"
   ]
  },
  {
   "cell_type": "code",
   "execution_count": null,
   "id": "1cb8de17-cc6f-4277-bc10-dc8ca7b05f12",
   "metadata": {},
   "outputs": [],
   "source": [
    "!pip install --force-reinstall -v \"tensorflow==2.15.1\""
   ]
  },
  {
   "cell_type": "code",
   "execution_count": null,
   "id": "13ce3c59-a089-4b4d-b9f7-e80ca7fd1b66",
   "metadata": {},
   "outputs": [],
   "source": [
    "pipeline = keras_ocr.pipeline.Pipeline()"
   ]
  },
  {
   "cell_type": "code",
   "execution_count": null,
   "id": "defe2522-62e9-40f4-acd1-1d94ee631fc2",
   "metadata": {},
   "outputs": [],
   "source": []
  }
 ],
 "metadata": {
  "kernelspec": {
   "display_name": "librairiestest",
   "language": "python",
   "name": "librairiestest"
  },
  "language_info": {
   "codemirror_mode": {
    "name": "ipython",
    "version": 3
   },
   "file_extension": ".py",
   "mimetype": "text/x-python",
   "name": "python",
   "nbconvert_exporter": "python",
   "pygments_lexer": "ipython3",
   "version": "3.11.3"
  }
 },
 "nbformat": 4,
 "nbformat_minor": 5
}
