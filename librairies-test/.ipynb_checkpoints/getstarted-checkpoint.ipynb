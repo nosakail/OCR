{
 "cells": [
  {
   "cell_type": "code",
   "execution_count": 1,
   "id": "b98165cf-7678-4eed-a5f2-89dec2071889",
   "metadata": {},
   "outputs": [
    {
     "name": "stdout",
     "output_type": "stream",
     "text": [
      "Collecting keras_ocr\n",
      "  Downloading keras_ocr-0.9.3-py3-none-any.whl (42 kB)\n",
      "     ---------------------------------------- 42.3/42.3 kB 2.1 MB/s eta 0:00:00\n",
      "Collecting editdistance\n",
      "  Downloading editdistance-0.8.1-cp311-cp311-win_amd64.whl (79 kB)\n",
      "     ---------------------------------------- 79.7/79.7 kB 4.3 MB/s eta 0:00:00\n",
      "Collecting efficientnet==1.0.0\n",
      "  Downloading efficientnet-1.0.0-py3-none-any.whl (17 kB)\n",
      "Collecting essential_generators\n",
      "  Downloading essential_generators-1.0-py3-none-any.whl (9.5 MB)\n",
      "     ---------------------------------------- 9.5/9.5 MB 10.6 MB/s eta 0:00:00\n",
      "Collecting fonttools\n",
      "  Downloading fonttools-4.51.0-cp311-cp311-win_amd64.whl (2.2 MB)\n",
      "     ---------------------------------------- 2.2/2.2 MB 12.7 MB/s eta 0:00:00\n",
      "Collecting imgaug\n",
      "  Downloading imgaug-0.4.0-py2.py3-none-any.whl (948 kB)\n",
      "     ------------------------------------- 948.0/948.0 kB 10.1 MB/s eta 0:00:00\n",
      "Collecting pyclipper\n",
      "  Downloading pyclipper-1.3.0.post5-cp311-cp311-win_amd64.whl (108 kB)\n",
      "     -------------------------------------- 108.3/108.3 kB 6.1 MB/s eta 0:00:00\n",
      "Collecting shapely\n",
      "  Downloading shapely-2.0.4-cp311-cp311-win_amd64.whl (1.4 MB)\n",
      "     ---------------------------------------- 1.4/1.4 MB 15.2 MB/s eta 0:00:00\n",
      "Collecting tqdm\n",
      "  Downloading tqdm-4.66.2-py3-none-any.whl (78 kB)\n",
      "     ---------------------------------------- 78.3/78.3 kB 4.3 MB/s eta 0:00:00\n",
      "Collecting validators\n",
      "  Downloading validators-0.28.0-py3-none-any.whl (39 kB)\n",
      "Collecting keras-applications<=1.0.8,>=1.0.7\n",
      "  Downloading Keras_Applications-1.0.8-py3-none-any.whl (50 kB)\n",
      "     ---------------------------------------- 50.7/50.7 kB 2.5 MB/s eta 0:00:00\n",
      "Collecting scikit-image\n",
      "  Downloading scikit_image-0.23.1-cp311-cp311-win_amd64.whl (12.7 MB)\n",
      "     --------------------------------------- 12.7/12.7 MB 11.5 MB/s eta 0:00:00\n",
      "Requirement already satisfied: six in c:\\users\\yassi\\desktop\\ocr\\librairies-test\\librairiestest\\lib\\site-packages (from imgaug->keras_ocr) (1.16.0)\n",
      "Collecting numpy>=1.15\n",
      "  Downloading numpy-1.26.4-cp311-cp311-win_amd64.whl (15.8 MB)\n",
      "     --------------------------------------- 15.8/15.8 MB 11.5 MB/s eta 0:00:00\n",
      "Collecting scipy\n",
      "  Downloading scipy-1.13.0-cp311-cp311-win_amd64.whl (46.2 MB)\n",
      "     --------------------------------------- 46.2/46.2 MB 10.1 MB/s eta 0:00:00\n",
      "Collecting Pillow\n",
      "  Downloading pillow-10.3.0-cp311-cp311-win_amd64.whl (2.5 MB)\n",
      "     ---------------------------------------- 2.5/2.5 MB 7.7 MB/s eta 0:00:00\n",
      "Collecting matplotlib\n",
      "  Downloading matplotlib-3.8.4-cp311-cp311-win_amd64.whl (7.7 MB)\n",
      "     ---------------------------------------- 7.7/7.7 MB 11.4 MB/s eta 0:00:00\n",
      "Collecting opencv-python\n",
      "  Downloading opencv_python-4.9.0.80-cp37-abi3-win_amd64.whl (38.6 MB)\n",
      "     --------------------------------------- 38.6/38.6 MB 13.6 MB/s eta 0:00:00\n",
      "Collecting imageio\n",
      "  Downloading imageio-2.34.0-py3-none-any.whl (313 kB)\n",
      "     -------------------------------------- 313.4/313.4 kB 9.8 MB/s eta 0:00:00\n",
      "Requirement already satisfied: colorama in c:\\users\\yassi\\desktop\\ocr\\librairies-test\\librairiestest\\lib\\site-packages (from tqdm->keras_ocr) (0.4.6)\n",
      "Collecting h5py\n",
      "  Downloading h5py-3.11.0-cp311-cp311-win_amd64.whl (3.0 MB)\n",
      "     ---------------------------------------- 3.0/3.0 MB 14.6 MB/s eta 0:00:00\n",
      "Collecting networkx>=2.8\n",
      "  Downloading networkx-3.3-py3-none-any.whl (1.7 MB)\n",
      "     ---------------------------------------- 1.7/1.7 MB 7.2 MB/s eta 0:00:00\n",
      "Collecting tifffile>=2022.8.12\n",
      "  Downloading tifffile-2024.2.12-py3-none-any.whl (224 kB)\n",
      "     ------------------------------------- 224.5/224.5 kB 13.4 MB/s eta 0:00:00\n",
      "Requirement already satisfied: packaging>=21 in c:\\users\\yassi\\desktop\\ocr\\librairies-test\\librairiestest\\lib\\site-packages (from scikit-image->efficientnet==1.0.0->keras_ocr) (24.0)\n",
      "Collecting lazy-loader>=0.4\n",
      "  Downloading lazy_loader-0.4-py3-none-any.whl (12 kB)\n",
      "Collecting contourpy>=1.0.1\n",
      "  Downloading contourpy-1.2.1-cp311-cp311-win_amd64.whl (188 kB)\n",
      "     ---------------------------------------- 188.2/188.2 kB ? eta 0:00:00\n",
      "Collecting cycler>=0.10\n",
      "  Downloading cycler-0.12.1-py3-none-any.whl (8.3 kB)\n",
      "Collecting kiwisolver>=1.3.1\n",
      "  Downloading kiwisolver-1.4.5-cp311-cp311-win_amd64.whl (56 kB)\n",
      "     ---------------------------------------- 56.1/56.1 kB 3.1 MB/s eta 0:00:00\n",
      "Collecting pyparsing>=2.3.1\n",
      "  Downloading pyparsing-3.1.2-py3-none-any.whl (103 kB)\n",
      "     -------------------------------------- 103.2/103.2 kB 6.2 MB/s eta 0:00:00\n",
      "Requirement already satisfied: python-dateutil>=2.7 in c:\\users\\yassi\\desktop\\ocr\\librairies-test\\librairiestest\\lib\\site-packages (from matplotlib->imgaug->keras_ocr) (2.9.0.post0)\n",
      "Installing collected packages: pyclipper, essential_generators, validators, tqdm, pyparsing, Pillow, numpy, networkx, lazy-loader, kiwisolver, fonttools, editdistance, cycler, tifffile, shapely, scipy, opencv-python, imageio, h5py, contourpy, scikit-image, matplotlib, keras-applications, imgaug, efficientnet, keras_ocr\n",
      "Successfully installed Pillow-10.3.0 contourpy-1.2.1 cycler-0.12.1 editdistance-0.8.1 efficientnet-1.0.0 essential_generators-1.0 fonttools-4.51.0 h5py-3.11.0 imageio-2.34.0 imgaug-0.4.0 keras-applications-1.0.8 keras_ocr-0.9.3 kiwisolver-1.4.5 lazy-loader-0.4 matplotlib-3.8.4 networkx-3.3 numpy-1.26.4 opencv-python-4.9.0.80 pyclipper-1.3.0.post5 pyparsing-3.1.2 scikit-image-0.23.1 scipy-1.13.0 shapely-2.0.4 tifffile-2024.2.12 tqdm-4.66.2 validators-0.28.0\n"
     ]
    },
    {
     "name": "stderr",
     "output_type": "stream",
     "text": [
      "\n",
      "[notice] A new release of pip available: 22.3.1 -> 24.0\n",
      "[notice] To update, run: python.exe -m pip install --upgrade pip\n"
     ]
    }
   ],
   "source": [
    "!pip install keras_ocr"
   ]
  },
  {
   "cell_type": "code",
   "execution_count": 5,
   "id": "963e10e4-933a-4e58-830e-ae70857b1675",
   "metadata": {},
   "outputs": [
    {
     "name": "stdout",
     "output_type": "stream",
     "text": [
      "Collecting tensorflow\n",
      "  Using cached tensorflow-2.16.1-cp311-cp311-win_amd64.whl (2.1 kB)\n",
      "Collecting tensorflow-intel==2.16.1\n",
      "  Downloading tensorflow_intel-2.16.1-cp311-cp311-win_amd64.whl (377.0 MB)\n",
      "     -------------------------------------- 377.0/377.0 MB 5.4 MB/s eta 0:00:00\n",
      "Collecting absl-py>=1.0.0\n",
      "  Downloading absl_py-2.1.0-py3-none-any.whl (133 kB)\n",
      "     ---------------------------------------- 133.7/133.7 kB ? eta 0:00:00\n",
      "Collecting astunparse>=1.6.0\n",
      "  Downloading astunparse-1.6.3-py2.py3-none-any.whl (12 kB)\n",
      "Collecting flatbuffers>=23.5.26\n",
      "  Downloading flatbuffers-24.3.25-py2.py3-none-any.whl (26 kB)\n",
      "Collecting gast!=0.5.0,!=0.5.1,!=0.5.2,>=0.2.1\n",
      "  Downloading gast-0.5.4-py3-none-any.whl (19 kB)\n",
      "Collecting google-pasta>=0.1.1\n",
      "  Downloading google_pasta-0.2.0-py3-none-any.whl (57 kB)\n",
      "     ---------------------------------------- 57.5/57.5 kB ? eta 0:00:00\n",
      "Requirement already satisfied: h5py>=3.10.0 in c:\\users\\yassi\\desktop\\ocr\\librairies-test\\librairiestest\\lib\\site-packages (from tensorflow-intel==2.16.1->tensorflow) (3.11.0)\n",
      "Collecting libclang>=13.0.0\n",
      "  Downloading libclang-18.1.1-py2.py3-none-win_amd64.whl (26.4 MB)\n",
      "     --------------------------------------- 26.4/26.4 MB 18.2 MB/s eta 0:00:00\n",
      "Collecting ml-dtypes~=0.3.1\n",
      "  Downloading ml_dtypes-0.3.2-cp311-cp311-win_amd64.whl (127 kB)\n",
      "     ---------------------------------------- 127.7/127.7 kB ? eta 0:00:00\n",
      "Collecting opt-einsum>=2.3.2\n",
      "  Downloading opt_einsum-3.3.0-py3-none-any.whl (65 kB)\n",
      "     ---------------------------------------- 65.5/65.5 kB 3.5 MB/s eta 0:00:00\n",
      "Requirement already satisfied: packaging in c:\\users\\yassi\\desktop\\ocr\\librairies-test\\librairiestest\\lib\\site-packages (from tensorflow-intel==2.16.1->tensorflow) (24.0)\n",
      "Collecting protobuf!=4.21.0,!=4.21.1,!=4.21.2,!=4.21.3,!=4.21.4,!=4.21.5,<5.0.0dev,>=3.20.3\n",
      "  Downloading protobuf-4.25.3-cp310-abi3-win_amd64.whl (413 kB)\n",
      "     ------------------------------------- 413.4/413.4 kB 25.2 MB/s eta 0:00:00\n",
      "Collecting requests<3,>=2.21.0\n",
      "  Downloading requests-2.31.0-py3-none-any.whl (62 kB)\n",
      "     ---------------------------------------- 62.6/62.6 kB 3.3 MB/s eta 0:00:00\n",
      "Requirement already satisfied: setuptools in c:\\users\\yassi\\desktop\\ocr\\librairies-test\\librairiestest\\lib\\site-packages (from tensorflow-intel==2.16.1->tensorflow) (65.5.0)\n",
      "Requirement already satisfied: six>=1.12.0 in c:\\users\\yassi\\desktop\\ocr\\librairies-test\\librairiestest\\lib\\site-packages (from tensorflow-intel==2.16.1->tensorflow) (1.16.0)\n",
      "Collecting termcolor>=1.1.0\n",
      "  Downloading termcolor-2.4.0-py3-none-any.whl (7.7 kB)\n",
      "Requirement already satisfied: typing-extensions>=3.6.6 in c:\\users\\yassi\\desktop\\ocr\\librairies-test\\librairiestest\\lib\\site-packages (from tensorflow-intel==2.16.1->tensorflow) (4.11.0)\n",
      "Collecting wrapt>=1.11.0\n",
      "  Downloading wrapt-1.16.0-cp311-cp311-win_amd64.whl (37 kB)\n",
      "Collecting grpcio<2.0,>=1.24.3\n",
      "  Downloading grpcio-1.62.1-cp311-cp311-win_amd64.whl (3.8 MB)\n",
      "     ---------------------------------------- 3.8/3.8 MB 22.0 MB/s eta 0:00:00\n",
      "Collecting tensorboard<2.17,>=2.16\n",
      "  Downloading tensorboard-2.16.2-py3-none-any.whl (5.5 MB)\n",
      "     ---------------------------------------- 5.5/5.5 MB 21.9 MB/s eta 0:00:00\n",
      "Collecting keras>=3.0.0\n",
      "  Downloading keras-3.2.1-py3-none-any.whl (1.1 MB)\n",
      "     ---------------------------------------- 1.1/1.1 MB 22.8 MB/s eta 0:00:00\n",
      "Collecting tensorflow-io-gcs-filesystem>=0.23.1\n",
      "  Downloading tensorflow_io_gcs_filesystem-0.31.0-cp311-cp311-win_amd64.whl (1.5 MB)\n",
      "     ---------------------------------------- 1.5/1.5 MB 15.9 MB/s eta 0:00:00\n",
      "Requirement already satisfied: numpy<2.0.0,>=1.23.5 in c:\\users\\yassi\\desktop\\ocr\\librairies-test\\librairiestest\\lib\\site-packages (from tensorflow-intel==2.16.1->tensorflow) (1.26.4)\n",
      "Collecting wheel<1.0,>=0.23.0\n",
      "  Downloading wheel-0.43.0-py3-none-any.whl (65 kB)\n",
      "     ---------------------------------------- 65.8/65.8 kB ? eta 0:00:00\n",
      "Collecting rich\n",
      "  Downloading rich-13.7.1-py3-none-any.whl (240 kB)\n",
      "     ------------------------------------- 240.7/240.7 kB 14.4 MB/s eta 0:00:00\n",
      "Collecting namex\n",
      "  Downloading namex-0.0.8-py3-none-any.whl (5.8 kB)\n",
      "Collecting optree\n",
      "  Downloading optree-0.11.0-cp311-cp311-win_amd64.whl (245 kB)\n",
      "     ------------------------------------- 245.0/245.0 kB 14.7 MB/s eta 0:00:00\n",
      "Collecting charset-normalizer<4,>=2\n",
      "  Downloading charset_normalizer-3.3.2-cp311-cp311-win_amd64.whl (99 kB)\n",
      "     ---------------------------------------- 99.9/99.9 kB ? eta 0:00:00\n",
      "Collecting idna<4,>=2.5\n",
      "  Downloading idna-3.7-py3-none-any.whl (66 kB)\n",
      "     ---------------------------------------- 66.8/66.8 kB ? eta 0:00:00\n",
      "Collecting urllib3<3,>=1.21.1\n",
      "  Downloading urllib3-2.2.1-py3-none-any.whl (121 kB)\n",
      "     ---------------------------------------- 121.1/121.1 kB ? eta 0:00:00\n",
      "Collecting certifi>=2017.4.17\n",
      "  Downloading certifi-2024.2.2-py3-none-any.whl (163 kB)\n",
      "     -------------------------------------- 163.8/163.8 kB 5.0 MB/s eta 0:00:00\n",
      "Collecting markdown>=2.6.8\n",
      "  Downloading Markdown-3.6-py3-none-any.whl (105 kB)\n",
      "     ---------------------------------------- 105.4/105.4 kB ? eta 0:00:00\n",
      "Collecting tensorboard-data-server<0.8.0,>=0.7.0\n",
      "  Downloading tensorboard_data_server-0.7.2-py3-none-any.whl (2.4 kB)\n",
      "Collecting werkzeug>=1.0.1\n",
      "  Downloading werkzeug-3.0.2-py3-none-any.whl (226 kB)\n",
      "     ------------------------------------- 226.8/226.8 kB 13.5 MB/s eta 0:00:00\n",
      "Collecting MarkupSafe>=2.1.1\n",
      "  Downloading MarkupSafe-2.1.5-cp311-cp311-win_amd64.whl (17 kB)\n",
      "Collecting markdown-it-py>=2.2.0\n",
      "  Downloading markdown_it_py-3.0.0-py3-none-any.whl (87 kB)\n",
      "     ---------------------------------------- 87.5/87.5 kB 5.2 MB/s eta 0:00:00\n",
      "Requirement already satisfied: pygments<3.0.0,>=2.13.0 in c:\\users\\yassi\\desktop\\ocr\\librairies-test\\librairiestest\\lib\\site-packages (from rich->keras>=3.0.0->tensorflow-intel==2.16.1->tensorflow) (2.17.2)\n",
      "Collecting mdurl~=0.1\n",
      "  Downloading mdurl-0.1.2-py3-none-any.whl (10.0 kB)\n",
      "Installing collected packages: namex, libclang, flatbuffers, wrapt, wheel, urllib3, termcolor, tensorflow-io-gcs-filesystem, tensorboard-data-server, protobuf, optree, opt-einsum, ml-dtypes, mdurl, MarkupSafe, markdown, idna, grpcio, google-pasta, gast, charset-normalizer, certifi, absl-py, werkzeug, requests, markdown-it-py, astunparse, tensorboard, rich, keras, tensorflow-intel, tensorflow\n",
      "Successfully installed MarkupSafe-2.1.5 absl-py-2.1.0 astunparse-1.6.3 certifi-2024.2.2 charset-normalizer-3.3.2 flatbuffers-24.3.25 gast-0.5.4 google-pasta-0.2.0 grpcio-1.62.1 idna-3.7 keras-3.2.1 libclang-18.1.1 markdown-3.6 markdown-it-py-3.0.0 mdurl-0.1.2 ml-dtypes-0.3.2 namex-0.0.8 opt-einsum-3.3.0 optree-0.11.0 protobuf-4.25.3 requests-2.31.0 rich-13.7.1 tensorboard-2.16.2 tensorboard-data-server-0.7.2 tensorflow-2.16.1 tensorflow-intel-2.16.1 tensorflow-io-gcs-filesystem-0.31.0 termcolor-2.4.0 urllib3-2.2.1 werkzeug-3.0.2 wheel-0.43.0 wrapt-1.16.0\n"
     ]
    },
    {
     "name": "stderr",
     "output_type": "stream",
     "text": [
      "\n",
      "[notice] A new release of pip available: 22.3.1 -> 24.0\n",
      "[notice] To update, run: python.exe -m pip install --upgrade pip\n"
     ]
    }
   ],
   "source": [
    "!pip install tensorflow"
   ]
  },
  {
   "cell_type": "code",
   "execution_count": 6,
   "id": "a006f149-0ec5-4efe-8481-01c07fcda649",
   "metadata": {},
   "outputs": [
    {
     "name": "stdout",
     "output_type": "stream",
     "text": [
      "Looking for C:\\Users\\yassi\\.keras-ocr\\craft_mlt_25k.h5\n",
      "WARNING:tensorflow:From C:\\Users\\yassi\\Desktop\\OCR\\librairies-test\\librairiestest\\Lib\\site-packages\\keras\\src\\backend\\tensorflow\\core.py:187: The name tf.placeholder is deprecated. Please use tf.compat.v1.placeholder instead.\n",
      "\n"
     ]
    },
    {
     "ename": "ValueError",
     "evalue": "Unrecognized keyword arguments passed to Dense: {'weights': [array([[0., 0., 0., 0., 0., 0.],\n       [0., 0., 0., 0., 0., 0.],\n       [0., 0., 0., 0., 0., 0.],\n       [0., 0., 0., 0., 0., 0.],\n       [0., 0., 0., 0., 0., 0.],\n       [0., 0., 0., 0., 0., 0.],\n       [0., 0., 0., 0., 0., 0.],\n       [0., 0., 0., 0., 0., 0.],\n       [0., 0., 0., 0., 0., 0.],\n       [0., 0., 0., 0., 0., 0.],\n       [0., 0., 0., 0., 0., 0.],\n       [0., 0., 0., 0., 0., 0.],\n       [0., 0., 0., 0., 0., 0.],\n       [0., 0., 0., 0., 0., 0.],\n       [0., 0., 0., 0., 0., 0.],\n       [0., 0., 0., 0., 0., 0.],\n       [0., 0., 0., 0., 0., 0.],\n       [0., 0., 0., 0., 0., 0.],\n       [0., 0., 0., 0., 0., 0.],\n       [0., 0., 0., 0., 0., 0.],\n       [0., 0., 0., 0., 0., 0.],\n       [0., 0., 0., 0., 0., 0.],\n       [0., 0., 0., 0., 0., 0.],\n       [0., 0., 0., 0., 0., 0.],\n       [0., 0., 0., 0., 0., 0.],\n       [0., 0., 0., 0., 0., 0.],\n       [0., 0., 0., 0., 0., 0.],\n       [0., 0., 0., 0., 0., 0.],\n       [0., 0., 0., 0., 0., 0.],\n       [0., 0., 0., 0., 0., 0.],\n       [0., 0., 0., 0., 0., 0.],\n       [0., 0., 0., 0., 0., 0.],\n       [0., 0., 0., 0., 0., 0.],\n       [0., 0., 0., 0., 0., 0.],\n       [0., 0., 0., 0., 0., 0.],\n       [0., 0., 0., 0., 0., 0.],\n       [0., 0., 0., 0., 0., 0.],\n       [0., 0., 0., 0., 0., 0.],\n       [0., 0., 0., 0., 0., 0.],\n       [0., 0., 0., 0., 0., 0.],\n       [0., 0., 0., 0., 0., 0.],\n       [0., 0., 0., 0., 0., 0.],\n       [0., 0., 0., 0., 0., 0.],\n       [0., 0., 0., 0., 0., 0.],\n       [0., 0., 0., 0., 0., 0.],\n       [0., 0., 0., 0., 0., 0.],\n       [0., 0., 0., 0., 0., 0.],\n       [0., 0., 0., 0., 0., 0.],\n       [0., 0., 0., 0., 0., 0.],\n       [0., 0., 0., 0., 0., 0.],\n       [0., 0., 0., 0., 0., 0.],\n       [0., 0., 0., 0., 0., 0.],\n       [0., 0., 0., 0., 0., 0.],\n       [0., 0., 0., 0., 0., 0.],\n       [0., 0., 0., 0., 0., 0.],\n       [0., 0., 0., 0., 0., 0.],\n       [0., 0., 0., 0., 0., 0.],\n       [0., 0., 0., 0., 0., 0.],\n       [0., 0., 0., 0., 0., 0.],\n       [0., 0., 0., 0., 0., 0.],\n       [0., 0., 0., 0., 0., 0.],\n       [0., 0., 0., 0., 0., 0.],\n       [0., 0., 0., 0., 0., 0.],\n       [0., 0., 0., 0., 0., 0.]], dtype=float32), array([1., 0., 0., 0., 1., 0.], dtype=float32)]}",
     "output_type": "error",
     "traceback": [
      "\u001b[1;31m---------------------------------------------------------------------------\u001b[0m",
      "\u001b[1;31mValueError\u001b[0m                                Traceback (most recent call last)",
      "Cell \u001b[1;32mIn[6], line 7\u001b[0m\n\u001b[0;32m      3\u001b[0m \u001b[38;5;28;01mimport\u001b[39;00m \u001b[38;5;21;01mkeras_ocr\u001b[39;00m\n\u001b[0;32m      5\u001b[0m \u001b[38;5;66;03m# keras-ocr will automatically download pretrained\u001b[39;00m\n\u001b[0;32m      6\u001b[0m \u001b[38;5;66;03m# weights for the detector and recognizer.\u001b[39;00m\n\u001b[1;32m----> 7\u001b[0m pipeline \u001b[38;5;241m=\u001b[39m \u001b[43mkeras_ocr\u001b[49m\u001b[38;5;241;43m.\u001b[39;49m\u001b[43mpipeline\u001b[49m\u001b[38;5;241;43m.\u001b[39;49m\u001b[43mPipeline\u001b[49m\u001b[43m(\u001b[49m\u001b[43m)\u001b[49m\n\u001b[0;32m      9\u001b[0m \u001b[38;5;66;03m# Get a set of three example images\u001b[39;00m\n\u001b[0;32m     10\u001b[0m images \u001b[38;5;241m=\u001b[39m [\n\u001b[0;32m     11\u001b[0m     keras_ocr\u001b[38;5;241m.\u001b[39mtools\u001b[38;5;241m.\u001b[39mread(url) \u001b[38;5;28;01mfor\u001b[39;00m url \u001b[38;5;129;01min\u001b[39;00m [\n\u001b[0;32m     12\u001b[0m         \u001b[38;5;124m'\u001b[39m\u001b[38;5;124mhttps://upload.wikimedia.org/wikipedia/commons/b/bd/Army_Reserves_Recruitment_Banner_MOD_45156284.jpg\u001b[39m\u001b[38;5;124m'\u001b[39m,\n\u001b[1;32m   (...)\u001b[0m\n\u001b[0;32m     15\u001b[0m     ]\n\u001b[0;32m     16\u001b[0m ]\n",
      "File \u001b[1;32m~\\Desktop\\OCR\\librairies-test\\librairiestest\\Lib\\site-packages\\keras_ocr\\pipeline.py:22\u001b[0m, in \u001b[0;36mPipeline.__init__\u001b[1;34m(self, detector, recognizer, scale, max_size)\u001b[0m\n\u001b[0;32m     20\u001b[0m     detector \u001b[38;5;241m=\u001b[39m detection\u001b[38;5;241m.\u001b[39mDetector()\n\u001b[0;32m     21\u001b[0m \u001b[38;5;28;01mif\u001b[39;00m recognizer \u001b[38;5;129;01mis\u001b[39;00m \u001b[38;5;28;01mNone\u001b[39;00m:\n\u001b[1;32m---> 22\u001b[0m     recognizer \u001b[38;5;241m=\u001b[39m \u001b[43mrecognition\u001b[49m\u001b[38;5;241;43m.\u001b[39;49m\u001b[43mRecognizer\u001b[49m\u001b[43m(\u001b[49m\u001b[43m)\u001b[49m\n\u001b[0;32m     23\u001b[0m \u001b[38;5;28mself\u001b[39m\u001b[38;5;241m.\u001b[39mscale \u001b[38;5;241m=\u001b[39m scale\n\u001b[0;32m     24\u001b[0m \u001b[38;5;28mself\u001b[39m\u001b[38;5;241m.\u001b[39mdetector \u001b[38;5;241m=\u001b[39m detector\n",
      "File \u001b[1;32m~\\Desktop\\OCR\\librairies-test\\librairiestest\\Lib\\site-packages\\keras_ocr\\recognition.py:388\u001b[0m, in \u001b[0;36mRecognizer.__init__\u001b[1;34m(self, alphabet, weights, build_params)\u001b[0m\n\u001b[0;32m    381\u001b[0m \u001b[38;5;28mself\u001b[39m\u001b[38;5;241m.\u001b[39malphabet \u001b[38;5;241m=\u001b[39m alphabet\n\u001b[0;32m    382\u001b[0m \u001b[38;5;28mself\u001b[39m\u001b[38;5;241m.\u001b[39mblank_label_idx \u001b[38;5;241m=\u001b[39m \u001b[38;5;28mlen\u001b[39m(alphabet)\n\u001b[0;32m    383\u001b[0m (\n\u001b[0;32m    384\u001b[0m     \u001b[38;5;28mself\u001b[39m\u001b[38;5;241m.\u001b[39mbackbone,\n\u001b[0;32m    385\u001b[0m     \u001b[38;5;28mself\u001b[39m\u001b[38;5;241m.\u001b[39mmodel,\n\u001b[0;32m    386\u001b[0m     \u001b[38;5;28mself\u001b[39m\u001b[38;5;241m.\u001b[39mtraining_model,\n\u001b[0;32m    387\u001b[0m     \u001b[38;5;28mself\u001b[39m\u001b[38;5;241m.\u001b[39mprediction_model,\n\u001b[1;32m--> 388\u001b[0m ) \u001b[38;5;241m=\u001b[39m \u001b[43mbuild_model\u001b[49m\u001b[43m(\u001b[49m\u001b[43malphabet\u001b[49m\u001b[38;5;241;43m=\u001b[39;49m\u001b[43malphabet\u001b[49m\u001b[43m,\u001b[49m\u001b[43m \u001b[49m\u001b[38;5;241;43m*\u001b[39;49m\u001b[38;5;241;43m*\u001b[39;49m\u001b[43mbuild_params\u001b[49m\u001b[43m)\u001b[49m\n\u001b[0;32m    389\u001b[0m \u001b[38;5;28;01mif\u001b[39;00m weights \u001b[38;5;129;01mis\u001b[39;00m \u001b[38;5;129;01mnot\u001b[39;00m \u001b[38;5;28;01mNone\u001b[39;00m:\n\u001b[0;32m    390\u001b[0m     weights_dict \u001b[38;5;241m=\u001b[39m PRETRAINED_WEIGHTS[weights]\n",
      "File \u001b[1;32m~\\Desktop\\OCR\\librairies-test\\librairiestest\\Lib\\site-packages\\keras_ocr\\recognition.py:277\u001b[0m, in \u001b[0;36mbuild_model\u001b[1;34m(alphabet, height, width, color, filters, rnn_units, dropout, rnn_steps_to_discard, pool_size, stn)\u001b[0m\n\u001b[0;32m    275\u001b[0m locnet_y \u001b[38;5;241m=\u001b[39m keras\u001b[38;5;241m.\u001b[39mlayers\u001b[38;5;241m.\u001b[39mFlatten()(locnet_y)\n\u001b[0;32m    276\u001b[0m locnet_y \u001b[38;5;241m=\u001b[39m keras\u001b[38;5;241m.\u001b[39mlayers\u001b[38;5;241m.\u001b[39mDense(\u001b[38;5;241m64\u001b[39m, activation\u001b[38;5;241m=\u001b[39m\u001b[38;5;124m\"\u001b[39m\u001b[38;5;124mrelu\u001b[39m\u001b[38;5;124m\"\u001b[39m)(locnet_y)\n\u001b[1;32m--> 277\u001b[0m locnet_y \u001b[38;5;241m=\u001b[39m \u001b[43mkeras\u001b[49m\u001b[38;5;241;43m.\u001b[39;49m\u001b[43mlayers\u001b[49m\u001b[38;5;241;43m.\u001b[39;49m\u001b[43mDense\u001b[49m\u001b[43m(\u001b[49m\n\u001b[0;32m    278\u001b[0m \u001b[43m    \u001b[49m\u001b[38;5;241;43m6\u001b[39;49m\u001b[43m,\u001b[49m\n\u001b[0;32m    279\u001b[0m \u001b[43m    \u001b[49m\u001b[43mweights\u001b[49m\u001b[38;5;241;43m=\u001b[39;49m\u001b[43m[\u001b[49m\n\u001b[0;32m    280\u001b[0m \u001b[43m        \u001b[49m\u001b[43mnp\u001b[49m\u001b[38;5;241;43m.\u001b[39;49m\u001b[43mzeros\u001b[49m\u001b[43m(\u001b[49m\u001b[43m(\u001b[49m\u001b[38;5;241;43m64\u001b[39;49m\u001b[43m,\u001b[49m\u001b[43m \u001b[49m\u001b[38;5;241;43m6\u001b[39;49m\u001b[43m)\u001b[49m\u001b[43m,\u001b[49m\u001b[43m \u001b[49m\u001b[43mdtype\u001b[49m\u001b[38;5;241;43m=\u001b[39;49m\u001b[38;5;124;43m\"\u001b[39;49m\u001b[38;5;124;43mfloat32\u001b[39;49m\u001b[38;5;124;43m\"\u001b[39;49m\u001b[43m)\u001b[49m\u001b[43m,\u001b[49m\n\u001b[0;32m    281\u001b[0m \u001b[43m        \u001b[49m\u001b[43mnp\u001b[49m\u001b[38;5;241;43m.\u001b[39;49m\u001b[43marray\u001b[49m\u001b[43m(\u001b[49m\u001b[43m[\u001b[49m\u001b[43m[\u001b[49m\u001b[38;5;241;43m1\u001b[39;49m\u001b[43m,\u001b[49m\u001b[43m \u001b[49m\u001b[38;5;241;43m0\u001b[39;49m\u001b[43m,\u001b[49m\u001b[43m \u001b[49m\u001b[38;5;241;43m0\u001b[39;49m\u001b[43m]\u001b[49m\u001b[43m,\u001b[49m\u001b[43m \u001b[49m\u001b[43m[\u001b[49m\u001b[38;5;241;43m0\u001b[39;49m\u001b[43m,\u001b[49m\u001b[43m \u001b[49m\u001b[38;5;241;43m1\u001b[39;49m\u001b[43m,\u001b[49m\u001b[43m \u001b[49m\u001b[38;5;241;43m0\u001b[39;49m\u001b[43m]\u001b[49m\u001b[43m]\u001b[49m\u001b[43m,\u001b[49m\u001b[43m \u001b[49m\u001b[43mdtype\u001b[49m\u001b[38;5;241;43m=\u001b[39;49m\u001b[38;5;124;43m\"\u001b[39;49m\u001b[38;5;124;43mfloat32\u001b[39;49m\u001b[38;5;124;43m\"\u001b[39;49m\u001b[43m)\u001b[49m\u001b[38;5;241;43m.\u001b[39;49m\u001b[43mflatten\u001b[49m\u001b[43m(\u001b[49m\u001b[43m)\u001b[49m\u001b[43m,\u001b[49m\n\u001b[0;32m    282\u001b[0m \u001b[43m    \u001b[49m\u001b[43m]\u001b[49m\u001b[43m,\u001b[49m\n\u001b[0;32m    283\u001b[0m \u001b[43m\u001b[49m\u001b[43m)\u001b[49m(locnet_y)\n\u001b[0;32m    284\u001b[0m localization_net \u001b[38;5;241m=\u001b[39m keras\u001b[38;5;241m.\u001b[39mmodels\u001b[38;5;241m.\u001b[39mModel(inputs\u001b[38;5;241m=\u001b[39mstn_input_layer, outputs\u001b[38;5;241m=\u001b[39mlocnet_y)\n\u001b[0;32m    285\u001b[0m x \u001b[38;5;241m=\u001b[39m keras\u001b[38;5;241m.\u001b[39mlayers\u001b[38;5;241m.\u001b[39mLambda(_transform, output_shape\u001b[38;5;241m=\u001b[39mstn_input_output_shape)(\n\u001b[0;32m    286\u001b[0m     [x, localization_net(x)]\n\u001b[0;32m    287\u001b[0m )\n",
      "File \u001b[1;32m~\\Desktop\\OCR\\librairies-test\\librairiestest\\Lib\\site-packages\\keras\\src\\layers\\core\\dense.py:86\u001b[0m, in \u001b[0;36mDense.__init__\u001b[1;34m(self, units, activation, use_bias, kernel_initializer, bias_initializer, kernel_regularizer, bias_regularizer, activity_regularizer, kernel_constraint, bias_constraint, lora_rank, **kwargs)\u001b[0m\n\u001b[0;32m     71\u001b[0m \u001b[38;5;28;01mdef\u001b[39;00m \u001b[38;5;21m__init__\u001b[39m(\n\u001b[0;32m     72\u001b[0m     \u001b[38;5;28mself\u001b[39m,\n\u001b[0;32m     73\u001b[0m     units,\n\u001b[1;32m   (...)\u001b[0m\n\u001b[0;32m     84\u001b[0m     \u001b[38;5;241m*\u001b[39m\u001b[38;5;241m*\u001b[39mkwargs,\n\u001b[0;32m     85\u001b[0m ):\n\u001b[1;32m---> 86\u001b[0m     \u001b[38;5;28;43msuper\u001b[39;49m\u001b[43m(\u001b[49m\u001b[43m)\u001b[49m\u001b[38;5;241;43m.\u001b[39;49m\u001b[38;5;21;43m__init__\u001b[39;49m\u001b[43m(\u001b[49m\u001b[43mactivity_regularizer\u001b[49m\u001b[38;5;241;43m=\u001b[39;49m\u001b[43mactivity_regularizer\u001b[49m\u001b[43m,\u001b[49m\u001b[43m \u001b[49m\u001b[38;5;241;43m*\u001b[39;49m\u001b[38;5;241;43m*\u001b[39;49m\u001b[43mkwargs\u001b[49m\u001b[43m)\u001b[49m\n\u001b[0;32m     87\u001b[0m     \u001b[38;5;28mself\u001b[39m\u001b[38;5;241m.\u001b[39munits \u001b[38;5;241m=\u001b[39m units\n\u001b[0;32m     88\u001b[0m     \u001b[38;5;28mself\u001b[39m\u001b[38;5;241m.\u001b[39mactivation \u001b[38;5;241m=\u001b[39m activations\u001b[38;5;241m.\u001b[39mget(activation)\n",
      "File \u001b[1;32m~\\Desktop\\OCR\\librairies-test\\librairiestest\\Lib\\site-packages\\keras\\src\\layers\\layer.py:263\u001b[0m, in \u001b[0;36mLayer.__init__\u001b[1;34m(self, activity_regularizer, trainable, dtype, autocast, name, **kwargs)\u001b[0m\n\u001b[0;32m    261\u001b[0m     \u001b[38;5;28mself\u001b[39m\u001b[38;5;241m.\u001b[39m_input_shape_arg \u001b[38;5;241m=\u001b[39m input_shape_arg\n\u001b[0;32m    262\u001b[0m \u001b[38;5;28;01mif\u001b[39;00m kwargs:\n\u001b[1;32m--> 263\u001b[0m     \u001b[38;5;28;01mraise\u001b[39;00m \u001b[38;5;167;01mValueError\u001b[39;00m(\n\u001b[0;32m    264\u001b[0m         \u001b[38;5;124m\"\u001b[39m\u001b[38;5;124mUnrecognized keyword arguments \u001b[39m\u001b[38;5;124m\"\u001b[39m\n\u001b[0;32m    265\u001b[0m         \u001b[38;5;124mf\u001b[39m\u001b[38;5;124m\"\u001b[39m\u001b[38;5;124mpassed to \u001b[39m\u001b[38;5;132;01m{\u001b[39;00m\u001b[38;5;28mself\u001b[39m\u001b[38;5;241m.\u001b[39m\u001b[38;5;18m__class__\u001b[39m\u001b[38;5;241m.\u001b[39m\u001b[38;5;18m__name__\u001b[39m\u001b[38;5;132;01m}\u001b[39;00m\u001b[38;5;124m: \u001b[39m\u001b[38;5;132;01m{\u001b[39;00mkwargs\u001b[38;5;132;01m}\u001b[39;00m\u001b[38;5;124m\"\u001b[39m\n\u001b[0;32m    266\u001b[0m     )\n\u001b[0;32m    268\u001b[0m \u001b[38;5;28mself\u001b[39m\u001b[38;5;241m.\u001b[39mbuilt \u001b[38;5;241m=\u001b[39m \u001b[38;5;28;01mFalse\u001b[39;00m\n\u001b[0;32m    269\u001b[0m \u001b[38;5;28mself\u001b[39m\u001b[38;5;241m.\u001b[39mautocast \u001b[38;5;241m=\u001b[39m autocast\n",
      "\u001b[1;31mValueError\u001b[0m: Unrecognized keyword arguments passed to Dense: {'weights': [array([[0., 0., 0., 0., 0., 0.],\n       [0., 0., 0., 0., 0., 0.],\n       [0., 0., 0., 0., 0., 0.],\n       [0., 0., 0., 0., 0., 0.],\n       [0., 0., 0., 0., 0., 0.],\n       [0., 0., 0., 0., 0., 0.],\n       [0., 0., 0., 0., 0., 0.],\n       [0., 0., 0., 0., 0., 0.],\n       [0., 0., 0., 0., 0., 0.],\n       [0., 0., 0., 0., 0., 0.],\n       [0., 0., 0., 0., 0., 0.],\n       [0., 0., 0., 0., 0., 0.],\n       [0., 0., 0., 0., 0., 0.],\n       [0., 0., 0., 0., 0., 0.],\n       [0., 0., 0., 0., 0., 0.],\n       [0., 0., 0., 0., 0., 0.],\n       [0., 0., 0., 0., 0., 0.],\n       [0., 0., 0., 0., 0., 0.],\n       [0., 0., 0., 0., 0., 0.],\n       [0., 0., 0., 0., 0., 0.],\n       [0., 0., 0., 0., 0., 0.],\n       [0., 0., 0., 0., 0., 0.],\n       [0., 0., 0., 0., 0., 0.],\n       [0., 0., 0., 0., 0., 0.],\n       [0., 0., 0., 0., 0., 0.],\n       [0., 0., 0., 0., 0., 0.],\n       [0., 0., 0., 0., 0., 0.],\n       [0., 0., 0., 0., 0., 0.],\n       [0., 0., 0., 0., 0., 0.],\n       [0., 0., 0., 0., 0., 0.],\n       [0., 0., 0., 0., 0., 0.],\n       [0., 0., 0., 0., 0., 0.],\n       [0., 0., 0., 0., 0., 0.],\n       [0., 0., 0., 0., 0., 0.],\n       [0., 0., 0., 0., 0., 0.],\n       [0., 0., 0., 0., 0., 0.],\n       [0., 0., 0., 0., 0., 0.],\n       [0., 0., 0., 0., 0., 0.],\n       [0., 0., 0., 0., 0., 0.],\n       [0., 0., 0., 0., 0., 0.],\n       [0., 0., 0., 0., 0., 0.],\n       [0., 0., 0., 0., 0., 0.],\n       [0., 0., 0., 0., 0., 0.],\n       [0., 0., 0., 0., 0., 0.],\n       [0., 0., 0., 0., 0., 0.],\n       [0., 0., 0., 0., 0., 0.],\n       [0., 0., 0., 0., 0., 0.],\n       [0., 0., 0., 0., 0., 0.],\n       [0., 0., 0., 0., 0., 0.],\n       [0., 0., 0., 0., 0., 0.],\n       [0., 0., 0., 0., 0., 0.],\n       [0., 0., 0., 0., 0., 0.],\n       [0., 0., 0., 0., 0., 0.],\n       [0., 0., 0., 0., 0., 0.],\n       [0., 0., 0., 0., 0., 0.],\n       [0., 0., 0., 0., 0., 0.],\n       [0., 0., 0., 0., 0., 0.],\n       [0., 0., 0., 0., 0., 0.],\n       [0., 0., 0., 0., 0., 0.],\n       [0., 0., 0., 0., 0., 0.],\n       [0., 0., 0., 0., 0., 0.],\n       [0., 0., 0., 0., 0., 0.],\n       [0., 0., 0., 0., 0., 0.],\n       [0., 0., 0., 0., 0., 0.]], dtype=float32), array([1., 0., 0., 0., 1., 0.], dtype=float32)]}"
     ]
    }
   ],
   "source": [
    "#Importing the library\n",
    "import matplotlib.pyplot as plt\n",
    "import keras_ocr\n",
    "\n",
    "# keras-ocr will automatically download pretrained\n",
    "# weights for the detector and recognizer.\n",
    "pipeline = keras_ocr.pipeline.Pipeline()\n",
    "\n",
    "# Get a set of three example images\n",
    "images = [\n",
    "    keras_ocr.tools.read(url) for url in [\n",
    "        'https://upload.wikimedia.org/wikipedia/commons/b/bd/Army_Reserves_Recruitment_Banner_MOD_45156284.jpg',\n",
    "        'https://upload.wikimedia.org/wikipedia/commons/e/e8/FseeG2QeLXo.jpg',\n",
    "        'https://upload.wikimedia.org/wikipedia/commons/b/b4/EUBanana-500x112.jpg'\n",
    "    ]\n",
    "]\n",
    "\n",
    "# Each list of predictions in prediction_groups is a list of\n",
    "# (word, box) tuples.\n",
    "prediction_groups = pipeline.recognize(images)\n",
    "\n",
    "# Plot the predictions\n",
    "fig, axs = plt.subplots(nrows=len(images), figsize=(20, 20))\n",
    "for ax, image, predictions in zip(axs, images, prediction_groups):\n",
    "    keras_ocr.tools.drawAnnotations(image=image, predictions=predictions, ax=ax)\n",
    "    "
   ]
  },
  {
   "cell_type": "code",
   "execution_count": 3,
   "id": "24fb660d-aad6-4476-a09e-304557ebefbc",
   "metadata": {},
   "outputs": [
    {
     "name": "stdout",
     "output_type": "stream",
     "text": [
      "Collecting poppler-utils\n",
      "  Downloading poppler_utils-0.1.0-py3-none-any.whl.metadata (883 bytes)\n",
      "Requirement already satisfied: Click>=7.0 in c:\\users\\yassi\\anaconda3\\lib\\site-packages (from poppler-utils) (8.1.7)\n",
      "Requirement already satisfied: colorama in c:\\users\\yassi\\anaconda3\\lib\\site-packages (from Click>=7.0->poppler-utils) (0.4.6)\n",
      "Downloading poppler_utils-0.1.0-py3-none-any.whl (9.2 kB)\n",
      "Installing collected packages: poppler-utils\n",
      "Successfully installed poppler-utils-0.1.0\n",
      "Note: you may need to restart the kernel to use updated packages.\n"
     ]
    }
   ],
   "source": [
    "pip install poppler-utils"
   ]
  },
  {
   "cell_type": "code",
   "execution_count": 7,
   "id": "97f35628-c544-4265-b7dc-3d41f3c1e7d7",
   "metadata": {},
   "outputs": [
    {
     "name": "stdout",
     "output_type": "stream",
     "text": [
      "Collecting pdftotext\n",
      "  Downloading pdftotext-2.2.2.tar.gz (113 kB)\n",
      "     -------------------------------------- 113.9/113.9 kB 3.2 MB/s eta 0:00:00\n",
      "  Preparing metadata (setup.py): started\n",
      "  Preparing metadata (setup.py): finished with status 'done'\n",
      "Building wheels for collected packages: pdftotext\n",
      "  Building wheel for pdftotext (setup.py): started\n",
      "  Building wheel for pdftotext (setup.py): finished with status 'error'\n",
      "  Running setup.py clean for pdftotext\n",
      "Failed to build pdftotext\n",
      "Installing collected packages: pdftotext\n",
      "  Running setup.py install for pdftotext: started\n",
      "  Running setup.py install for pdftotext: finished with status 'error'\n"
     ]
    },
    {
     "name": "stderr",
     "output_type": "stream",
     "text": [
      "  error: subprocess-exited-with-error\n",
      "  \n",
      "  python setup.py bdist_wheel did not run successfully.\n",
      "  exit code: 1\n",
      "  \n",
      "  [70 lines of output]\n",
      "  WARNING: pkg-config not found--guessing at poppler version.\n",
      "           If the build fails, install pkg-config and try again.\n",
      "  WARNING: pkg-config not found--guessing at poppler version.\n",
      "           If the build fails, install pkg-config and try again.\n",
      "  WARNING: pkg-config not found--guessing at poppler version.\n",
      "           If the build fails, install pkg-config and try again.\n",
      "  running bdist_wheel\n",
      "  running build\n",
      "  running build_ext\n",
      "  building 'pdftotext' extension\n",
      "  creating build\n",
      "  creating build\\temp.win-amd64-cpython-311\n",
      "  creating build\\temp.win-amd64-cpython-311\\Release\n",
      "  \"C:\\Program Files\\Microsoft Visual Studio\\2022\\Community\\VC\\Tools\\MSVC\\14.39.33519\\bin\\HostX86\\x64\\cl.exe\" /c /nologo /O2 /W3 /GL /DNDEBUG /MD -DPOPPLER_CPP_AT_LEAST_0_30_0=1 -DPOPPLER_CPP_AT_LEAST_0_58_0=1 -DPOPPLER_CPP_AT_LEAST_0_88_0=1 -IC:\\Users\\yassi\\Desktop\\OCR\\librairies-test\\librairiestest\\include -IC:\\Users\\yassi\\AppData\\Local\\Programs\\Python\\Python311\\include -IC:\\Users\\yassi\\AppData\\Local\\Programs\\Python\\Python311\\Include \"-IC:\\Program Files\\Microsoft Visual Studio\\2022\\Community\\VC\\Tools\\MSVC\\14.39.33519\\include\" \"-IC:\\Program Files\\Microsoft Visual Studio\\2022\\Community\\VC\\Tools\\MSVC\\14.39.33519\\ATLMFC\\include\" \"-IC:\\Program Files\\Microsoft Visual Studio\\2022\\Community\\VC\\Auxiliary\\VS\\include\" \"-IC:\\Program Files (x86)\\Windows Kits\\10\\include\\10.0.22621.0\\ucrt\" \"-IC:\\Program Files (x86)\\Windows Kits\\10\\\\include\\10.0.22621.0\\\\um\" \"-IC:\\Program Files (x86)\\Windows Kits\\10\\\\include\\10.0.22621.0\\\\shared\" \"-IC:\\Program Files (x86)\\Windows Kits\\10\\\\include\\10.0.22621.0\\\\winrt\" \"-IC:\\Program Files (x86)\\Windows Kits\\10\\\\include\\10.0.22621.0\\\\cppwinrt\" \"-IC:\\Program Files (x86)\\Windows Kits\\NETFXSDK\\4.8\\include\\um\" /EHsc /Tppdftotext.cpp /Fobuild\\temp.win-amd64-cpython-311\\Release\\pdftotext.obj -Wall\n",
      "  pdftotext.cpp\n",
      "  C:\\Users\\yassi\\AppData\\Local\\Programs\\Python\\Python311\\include\\object.h(231): warning C4820: '<unnamed-tag>'ÿ: '4' octets de remplissage ajout‚s aprŠs donn‚es membres '<unnamed-tag>::slot'\n",
      "  C:\\Users\\yassi\\AppData\\Local\\Programs\\Python\\Python311\\include\\object.h(239): warning C4820: '<unnamed-tag>'ÿ: '4' octets de remplissage ajout‚s aprŠs donn‚es membres '<unnamed-tag>::flags'\n",
      "  C:\\Users\\yassi\\AppData\\Local\\Programs\\Python\\Python311\\include\\cpython/object.h(183): warning C4820: '_typeobject'ÿ: '4' octets de remplissage ajout‚s aprŠs donn‚es membres '_typeobject::tp_flags'\n",
      "  C:\\Users\\yassi\\AppData\\Local\\Programs\\Python\\Python311\\include\\cpython/object.h(228): warning C4820: '_typeobject'ÿ: '4' octets de remplissage ajout‚s aprŠs donn‚es membres '_typeobject::tp_version_tag'\n",
      "  C:\\Users\\yassi\\AppData\\Local\\Programs\\Python\\Python311\\include\\cpython/bytesobject.h(15): warning C4820: '<unnamed-tag>'ÿ: '7' octets de remplissage ajout‚s aprŠs donn‚es membres '<unnamed-tag>::ob_sval'\n",
      "  C:\\Users\\yassi\\AppData\\Local\\Programs\\Python\\Python311\\include\\cpython/bytesobject.h(80): warning C4820: '<unnamed-tag>'ÿ: '4' octets de remplissage ajout‚s aprŠs donn‚es membres '<unnamed-tag>::small_buffer'\n",
      "  C:\\Users\\yassi\\AppData\\Local\\Programs\\Python\\Python311\\include\\cpython/unicodeobject.h(205): warning C4820: '<unnamed-tag>'ÿ: '4' octets de remplissage ajout‚s aprŠs donn‚es membres '<unnamed-tag>::state'\n",
      "  C:\\Users\\yassi\\AppData\\Local\\Programs\\Python\\Python311\\include\\cpython/unicodeobject.h(423): warning C4365: '='ÿ: conversion de 'unsigned int' en 'int', incompatibilit‚ signed/unsigned\n",
      "  C:\\Users\\yassi\\AppData\\Local\\Programs\\Python\\Python311\\include\\cpython/unicodeobject.h(450): warning C4365: '='ÿ: conversion de 'unsigned int' en 'int', incompatibilit‚ signed/unsigned\n",
      "  C:\\Users\\yassi\\AppData\\Local\\Programs\\Python\\Python311\\include\\cpython/unicodeobject.h(738): warning C4820: '<unnamed-tag>'ÿ: '2' octets de remplissage ajout‚s aprŠs donn‚es membres '<unnamed-tag>::readonly'\n",
      "  C:\\Users\\yassi\\AppData\\Local\\Programs\\Python\\Python311\\include\\cpython/longintrepr.h(85): warning C4820: '_longobject'ÿ: '4' octets de remplissage ajout‚s aprŠs donn‚es membres '_longobject::ob_digit'\n",
      "  C:\\Users\\yassi\\AppData\\Local\\Programs\\Python\\Python311\\include\\memoryobject.h(45): warning C4820: '<unnamed-tag>'ÿ: '4' octets de remplissage ajout‚s aprŠs donn‚es membres '<unnamed-tag>::flags'\n",
      "  C:\\Users\\yassi\\AppData\\Local\\Programs\\Python\\Python311\\include\\memoryobject.h(62): warning C4820: '<unnamed-tag>'ÿ: '4' octets de remplissage ajout‚s aprŠs donn‚es membres '<unnamed-tag>::flags'\n",
      "  C:\\Users\\yassi\\AppData\\Local\\Programs\\Python\\Python311\\include\\methodobject.h(59): warning C4820: 'PyMethodDef'ÿ: '4' octets de remplissage ajout‚s aprŠs donn‚es membres 'PyMethodDef::ml_flags'\n",
      "  C:\\Users\\yassi\\AppData\\Local\\Programs\\Python\\Python311\\include\\moduleobject.h(62): warning C4820: 'PyModuleDef_Slot'ÿ: '4' octets de remplissage ajout‚s aprŠs donn‚es membres 'PyModuleDef_Slot::slot'\n",
      "  C:\\Users\\yassi\\AppData\\Local\\Programs\\Python\\Python311\\include\\cpython/funcobject.h(59): warning C4820: '<unnamed-tag>'ÿ: '4' octets de remplissage ajout‚s aprŠs donn‚es membres '<unnamed-tag>::func_version'\n",
      "  C:\\Users\\yassi\\AppData\\Local\\Programs\\Python\\Python311\\include\\cpython/code.h(103): warning C4820: 'PyCodeObject'ÿ: '4' octets de remplissage ajout‚s aprŠs donn‚es membres 'PyCodeObject::_co_firsttraceable'\n",
      "  C:\\Users\\yassi\\AppData\\Local\\Programs\\Python\\Python311\\include\\cpython/code.h(103): warning C4820: 'PyCodeObject'ÿ: '7' octets de remplissage ajout‚s aprŠs donn‚es membres 'PyCodeObject::co_code_adaptive'\n",
      "  C:\\Users\\yassi\\AppData\\Local\\Programs\\Python\\Python311\\include\\cpython/code.h(175): warning C4820: '_opaque'ÿ: '4' octets de remplissage ajout‚s aprŠs donn‚es membres '_opaque::computed_line'\n",
      "  C:\\Users\\yassi\\AppData\\Local\\Programs\\Python\\Python311\\include\\cpython/code.h(183): warning C4820: '_line_offsets'ÿ: '4' octets de remplissage ajout‚s aprŠs donn‚es membres '_line_offsets::ar_line'\n",
      "  C:\\Users\\yassi\\AppData\\Local\\Programs\\Python\\Python311\\include\\cpython/initconfig.h(16): warning C4820: '<unnamed-tag>'ÿ: '4' octets de remplissage ajout‚s aprŠs donn‚es membres '<unnamed-tag>::_type'\n",
      "  C:\\Users\\yassi\\AppData\\Local\\Programs\\Python\\Python311\\include\\cpython/initconfig.h(19): warning C4820: '<unnamed-tag>'ÿ: '4' octets de remplissage ajout‚s aprŠs donn‚es membres '<unnamed-tag>::exitcode'\n",
      "  C:\\Users\\yassi\\AppData\\Local\\Programs\\Python\\Python311\\include\\cpython/initconfig.h(149): warning C4820: 'PyConfig'ÿ: '4' octets de remplissage ajout‚s aprŠs donn‚es membres 'PyConfig::dump_refs'\n",
      "  C:\\Users\\yassi\\AppData\\Local\\Programs\\Python\\Python311\\include\\cpython/initconfig.h(151): warning C4820: 'PyConfig'ÿ: '4' octets de remplissage ajout‚s aprŠs donn‚es membres 'PyConfig::malloc_stats'\n",
      "  C:\\Users\\yassi\\AppData\\Local\\Programs\\Python\\Python311\\include\\cpython/initconfig.h(155): warning C4820: 'PyConfig'ÿ: '4' octets de remplissage ajout‚s aprŠs donn‚es membres 'PyConfig::parse_argv'\n",
      "  C:\\Users\\yassi\\AppData\\Local\\Programs\\Python\\Python311\\include\\cpython/initconfig.h(172): warning C4820: 'PyConfig'ÿ: '4' octets de remplissage ajout‚s aprŠs donn‚es membres 'PyConfig::buffered_stdio'\n",
      "  C:\\Users\\yassi\\AppData\\Local\\Programs\\Python\\Python311\\include\\cpython/initconfig.h(177): warning C4820: 'PyConfig'ÿ: '4' octets de remplissage ajout‚s aprŠs donn‚es membres 'PyConfig::legacy_windows_stdio'\n",
      "  C:\\Users\\yassi\\AppData\\Local\\Programs\\Python\\Python311\\include\\cpython/initconfig.h(183): warning C4820: 'PyConfig'ÿ: '4' octets de remplissage ajout‚s aprŠs donn‚es membres 'PyConfig::pathconfig_warnings'\n",
      "  C:\\Users\\yassi\\AppData\\Local\\Programs\\Python\\Python311\\include\\cpython/initconfig.h(190): warning C4820: 'PyConfig'ÿ: '4' octets de remplissage ajout‚s aprŠs donn‚es membres 'PyConfig::module_search_paths_set'\n",
      "  C:\\Users\\yassi\\AppData\\Local\\Programs\\Python\\Python311\\include\\cpython/initconfig.h(201): warning C4820: 'PyConfig'ÿ: '4' octets de remplissage ajout‚s aprŠs donn‚es membres 'PyConfig::skip_source_first_line'\n",
      "  C:\\Users\\yassi\\AppData\\Local\\Programs\\Python\\Python311\\include\\cpython/pystate.h(51): warning C4820: '_PyCFrame'ÿ: '7' octets de remplissage ajout‚s aprŠs donn‚es membres '_PyCFrame::use_tracing'\n",
      "  C:\\Users\\yassi\\AppData\\Local\\Programs\\Python\\Python311\\include\\cpython/pystate.h(110): warning C4820: '_ts'ÿ: '4' octets de remplissage ajout‚s aprŠs donn‚es membres '_ts::tracing_what'\n",
      "  C:\\Users\\yassi\\AppData\\Local\\Programs\\Python\\Python311\\include\\cpython/pystate.h(131): warning C4820: '_ts'ÿ: '4' octets de remplissage ajout‚s aprŠs donn‚es membres '_ts::gilstate_counter'\n",
      "  C:\\Users\\yassi\\AppData\\Local\\Programs\\Python\\Python311\\include\\cpython/pystate.h(141): warning C4820: '_ts'ÿ: '4' octets de remplissage ajout‚s aprŠs donn‚es membres '_ts::trash_delete_nesting'\n",
      "  C:\\Users\\yassi\\AppData\\Local\\Programs\\Python\\Python311\\include\\cpython/pystate.h(171): warning C4820: '_ts'ÿ: '4' octets de remplissage ajout‚s aprŠs donn‚es membres '_ts::coroutine_origin_tracking_depth'\n",
      "  C:\\Users\\yassi\\AppData\\Local\\Programs\\Python\\Python311\\include\\cpython/genobject.h(35): warning C4820: '<unnamed-tag>'ÿ: '4' octets de remplissage ajout‚s aprŠs donn‚es membres '<unnamed-tag>::gi_frame_state'\n",
      "  C:\\Users\\yassi\\AppData\\Local\\Programs\\Python\\Python311\\include\\cpython/genobject.h(54): warning C4820: '<unnamed-tag>'ÿ: '4' octets de remplissage ajout‚s aprŠs donn‚es membres '<unnamed-tag>::cr_frame_state'\n",
      "  C:\\Users\\yassi\\AppData\\Local\\Programs\\Python\\Python311\\include\\cpython/genobject.h(68): warning C4820: '<unnamed-tag>'ÿ: '4' octets de remplissage ajout‚s aprŠs donn‚es membres '<unnamed-tag>::ag_frame_state'\n",
      "  C:\\Users\\yassi\\AppData\\Local\\Programs\\Python\\Python311\\include\\cpython/descrobject.h(14): warning C4820: 'wrapperbase'ÿ: '4' octets de remplissage ajout‚s aprŠs donn‚es membres 'wrapperbase::offset'\n",
      "  C:\\Users\\yassi\\AppData\\Local\\Programs\\Python\\Python311\\include\\cpython/descrobject.h(18): warning C4820: 'wrapperbase'ÿ: '4' octets de remplissage ajout‚s aprŠs donn‚es membres 'wrapperbase::flags'\n",
      "  C:\\Users\\yassi\\AppData\\Local\\Programs\\Python\\Python311\\include\\structseq.h(20): warning C4820: 'PyStructSequence_Desc'ÿ: '4' octets de remplissage ajout‚s aprŠs donn‚es membres 'PyStructSequence_Desc::n_in_sequence'\n",
      "  C:\\Users\\yassi\\AppData\\Local\\Programs\\Python\\Python311\\include\\cpython/pyerrors.h(15): warning C4820: '<unnamed-tag>'ÿ: '7' octets de remplissage ajout‚s aprŠs donn‚es membres '<unnamed-tag>::suppress_context'\n",
      "  C:\\Users\\yassi\\AppData\\Local\\Programs\\Python\\Python311\\include\\cpython/pyerrors.h(19): warning C4820: '<unnamed-tag>'ÿ: '7' octets de remplissage ajout‚s aprŠs donn‚es membres '<unnamed-tag>::suppress_context'\n",
      "  C:\\Users\\yassi\\AppData\\Local\\Programs\\Python\\Python311\\include\\cpython/pyerrors.h(25): warning C4820: '<unnamed-tag>'ÿ: '7' octets de remplissage ajout‚s aprŠs donn‚es membres '<unnamed-tag>::suppress_context'\n",
      "  C:\\Users\\yassi\\AppData\\Local\\Programs\\Python\\Python311\\include\\cpython/pyerrors.h(37): warning C4820: '<unnamed-tag>'ÿ: '7' octets de remplissage ajout‚s aprŠs donn‚es membres '<unnamed-tag>::suppress_context'\n",
      "  C:\\Users\\yassi\\AppData\\Local\\Programs\\Python\\Python311\\include\\cpython/pyerrors.h(44): warning C4820: '<unnamed-tag>'ÿ: '7' octets de remplissage ajout‚s aprŠs donn‚es membres '<unnamed-tag>::suppress_context'\n",
      "  C:\\Users\\yassi\\AppData\\Local\\Programs\\Python\\Python311\\include\\cpython/pyerrors.h(53): warning C4820: '<unnamed-tag>'ÿ: '7' octets de remplissage ajout‚s aprŠs donn‚es membres '<unnamed-tag>::suppress_context'\n",
      "  C:\\Users\\yassi\\AppData\\Local\\Programs\\Python\\Python311\\include\\cpython/pyerrors.h(58): warning C4820: '<unnamed-tag>'ÿ: '7' octets de remplissage ajout‚s aprŠs donn‚es membres '<unnamed-tag>::suppress_context'\n",
      "  C:\\Users\\yassi\\AppData\\Local\\Programs\\Python\\Python311\\include\\cpython/pyerrors.h(70): warning C4820: '<unnamed-tag>'ÿ: '7' octets de remplissage ajout‚s aprŠs donn‚es membres '<unnamed-tag>::suppress_context'\n",
      "  C:\\Users\\yassi\\AppData\\Local\\Programs\\Python\\Python311\\include\\cpython/pyerrors.h(75): warning C4820: '<unnamed-tag>'ÿ: '7' octets de remplissage ajout‚s aprŠs donn‚es membres '<unnamed-tag>::suppress_context'\n",
      "  C:\\Users\\yassi\\AppData\\Local\\Programs\\Python\\Python311\\include\\cpython/pyerrors.h(80): warning C4820: '<unnamed-tag>'ÿ: '7' octets de remplissage ajout‚s aprŠs donn‚es membres '<unnamed-tag>::suppress_context'\n",
      "  C:\\Users\\yassi\\AppData\\Local\\Programs\\Python\\Python311\\include\\cpython/modsupport.h(59): warning C4820: '_PyArg_Parser'ÿ: '4' octets de remplissage ajout‚s aprŠs donn‚es membres '_PyArg_Parser::max'\n",
      "  C:\\Users\\yassi\\AppData\\Local\\Programs\\Python\\Python311\\include\\cpython/abstract.h(59): warning C4365: 'return'ÿ: conversion de 'size_t' en 'Py_ssize_t', incompatibilit‚ signed/unsigned\n",
      "  pdftotext.cpp(3): fatal error C1083: Impossible d'ouvrir le fichier includeÿ: 'poppler/cpp/poppler-document.h'ÿ: No such file or directory\n",
      "  error: command 'C:\\\\Program Files\\\\Microsoft Visual Studio\\\\2022\\\\Community\\\\VC\\\\Tools\\\\MSVC\\\\14.39.33519\\\\bin\\\\HostX86\\\\x64\\\\cl.exe' failed with exit code 2\n",
      "  [end of output]\n",
      "  \n",
      "  note: This error originates from a subprocess, and is likely not a problem with pip.\n",
      "  ERROR: Failed building wheel for pdftotext\n",
      "  error: subprocess-exited-with-error\n",
      "  \n",
      "  Running setup.py install for pdftotext did not run successfully.\n",
      "  exit code: 1\n",
      "  \n",
      "  [72 lines of output]\n",
      "  WARNING: pkg-config not found--guessing at poppler version.\n",
      "           If the build fails, install pkg-config and try again.\n",
      "  WARNING: pkg-config not found--guessing at poppler version.\n",
      "           If the build fails, install pkg-config and try again.\n",
      "  WARNING: pkg-config not found--guessing at poppler version.\n",
      "           If the build fails, install pkg-config and try again.\n",
      "  running install\n",
      "  C:\\Users\\yassi\\Desktop\\OCR\\librairies-test\\librairiestest\\Lib\\site-packages\\setuptools\\command\\install.py:34: SetuptoolsDeprecationWarning: setup.py install is deprecated. Use build and pip and other standards-based tools.\n",
      "    warnings.warn(\n",
      "  running build\n",
      "  running build_ext\n",
      "  building 'pdftotext' extension\n",
      "  creating build\n",
      "  creating build\\temp.win-amd64-cpython-311\n",
      "  creating build\\temp.win-amd64-cpython-311\\Release\n",
      "  \"C:\\Program Files\\Microsoft Visual Studio\\2022\\Community\\VC\\Tools\\MSVC\\14.39.33519\\bin\\HostX86\\x64\\cl.exe\" /c /nologo /O2 /W3 /GL /DNDEBUG /MD -DPOPPLER_CPP_AT_LEAST_0_30_0=1 -DPOPPLER_CPP_AT_LEAST_0_58_0=1 -DPOPPLER_CPP_AT_LEAST_0_88_0=1 -IC:\\Users\\yassi\\Desktop\\OCR\\librairies-test\\librairiestest\\include -IC:\\Users\\yassi\\AppData\\Local\\Programs\\Python\\Python311\\include -IC:\\Users\\yassi\\AppData\\Local\\Programs\\Python\\Python311\\Include \"-IC:\\Program Files\\Microsoft Visual Studio\\2022\\Community\\VC\\Tools\\MSVC\\14.39.33519\\include\" \"-IC:\\Program Files\\Microsoft Visual Studio\\2022\\Community\\VC\\Tools\\MSVC\\14.39.33519\\ATLMFC\\include\" \"-IC:\\Program Files\\Microsoft Visual Studio\\2022\\Community\\VC\\Auxiliary\\VS\\include\" \"-IC:\\Program Files (x86)\\Windows Kits\\10\\include\\10.0.22621.0\\ucrt\" \"-IC:\\Program Files (x86)\\Windows Kits\\10\\\\include\\10.0.22621.0\\\\um\" \"-IC:\\Program Files (x86)\\Windows Kits\\10\\\\include\\10.0.22621.0\\\\shared\" \"-IC:\\Program Files (x86)\\Windows Kits\\10\\\\include\\10.0.22621.0\\\\winrt\" \"-IC:\\Program Files (x86)\\Windows Kits\\10\\\\include\\10.0.22621.0\\\\cppwinrt\" \"-IC:\\Program Files (x86)\\Windows Kits\\NETFXSDK\\4.8\\include\\um\" /EHsc /Tppdftotext.cpp /Fobuild\\temp.win-amd64-cpython-311\\Release\\pdftotext.obj -Wall\n",
      "  pdftotext.cpp\n",
      "  C:\\Users\\yassi\\AppData\\Local\\Programs\\Python\\Python311\\include\\object.h(231): warning C4820: '<unnamed-tag>'ÿ: '4' octets de remplissage ajout‚s aprŠs donn‚es membres '<unnamed-tag>::slot'\n",
      "  C:\\Users\\yassi\\AppData\\Local\\Programs\\Python\\Python311\\include\\object.h(239): warning C4820: '<unnamed-tag>'ÿ: '4' octets de remplissage ajout‚s aprŠs donn‚es membres '<unnamed-tag>::flags'\n",
      "  C:\\Users\\yassi\\AppData\\Local\\Programs\\Python\\Python311\\include\\cpython/object.h(183): warning C4820: '_typeobject'ÿ: '4' octets de remplissage ajout‚s aprŠs donn‚es membres '_typeobject::tp_flags'\n",
      "  C:\\Users\\yassi\\AppData\\Local\\Programs\\Python\\Python311\\include\\cpython/object.h(228): warning C4820: '_typeobject'ÿ: '4' octets de remplissage ajout‚s aprŠs donn‚es membres '_typeobject::tp_version_tag'\n",
      "  C:\\Users\\yassi\\AppData\\Local\\Programs\\Python\\Python311\\include\\cpython/bytesobject.h(15): warning C4820: '<unnamed-tag>'ÿ: '7' octets de remplissage ajout‚s aprŠs donn‚es membres '<unnamed-tag>::ob_sval'\n",
      "  C:\\Users\\yassi\\AppData\\Local\\Programs\\Python\\Python311\\include\\cpython/bytesobject.h(80): warning C4820: '<unnamed-tag>'ÿ: '4' octets de remplissage ajout‚s aprŠs donn‚es membres '<unnamed-tag>::small_buffer'\n",
      "  C:\\Users\\yassi\\AppData\\Local\\Programs\\Python\\Python311\\include\\cpython/unicodeobject.h(205): warning C4820: '<unnamed-tag>'ÿ: '4' octets de remplissage ajout‚s aprŠs donn‚es membres '<unnamed-tag>::state'\n",
      "  C:\\Users\\yassi\\AppData\\Local\\Programs\\Python\\Python311\\include\\cpython/unicodeobject.h(423): warning C4365: '='ÿ: conversion de 'unsigned int' en 'int', incompatibilit‚ signed/unsigned\n",
      "  C:\\Users\\yassi\\AppData\\Local\\Programs\\Python\\Python311\\include\\cpython/unicodeobject.h(450): warning C4365: '='ÿ: conversion de 'unsigned int' en 'int', incompatibilit‚ signed/unsigned\n",
      "  C:\\Users\\yassi\\AppData\\Local\\Programs\\Python\\Python311\\include\\cpython/unicodeobject.h(738): warning C4820: '<unnamed-tag>'ÿ: '2' octets de remplissage ajout‚s aprŠs donn‚es membres '<unnamed-tag>::readonly'\n",
      "  C:\\Users\\yassi\\AppData\\Local\\Programs\\Python\\Python311\\include\\cpython/longintrepr.h(85): warning C4820: '_longobject'ÿ: '4' octets de remplissage ajout‚s aprŠs donn‚es membres '_longobject::ob_digit'\n",
      "  C:\\Users\\yassi\\AppData\\Local\\Programs\\Python\\Python311\\include\\memoryobject.h(45): warning C4820: '<unnamed-tag>'ÿ: '4' octets de remplissage ajout‚s aprŠs donn‚es membres '<unnamed-tag>::flags'\n",
      "  C:\\Users\\yassi\\AppData\\Local\\Programs\\Python\\Python311\\include\\memoryobject.h(62): warning C4820: '<unnamed-tag>'ÿ: '4' octets de remplissage ajout‚s aprŠs donn‚es membres '<unnamed-tag>::flags'\n",
      "  C:\\Users\\yassi\\AppData\\Local\\Programs\\Python\\Python311\\include\\methodobject.h(59): warning C4820: 'PyMethodDef'ÿ: '4' octets de remplissage ajout‚s aprŠs donn‚es membres 'PyMethodDef::ml_flags'\n",
      "  C:\\Users\\yassi\\AppData\\Local\\Programs\\Python\\Python311\\include\\moduleobject.h(62): warning C4820: 'PyModuleDef_Slot'ÿ: '4' octets de remplissage ajout‚s aprŠs donn‚es membres 'PyModuleDef_Slot::slot'\n",
      "  C:\\Users\\yassi\\AppData\\Local\\Programs\\Python\\Python311\\include\\cpython/funcobject.h(59): warning C4820: '<unnamed-tag>'ÿ: '4' octets de remplissage ajout‚s aprŠs donn‚es membres '<unnamed-tag>::func_version'\n",
      "  C:\\Users\\yassi\\AppData\\Local\\Programs\\Python\\Python311\\include\\cpython/code.h(103): warning C4820: 'PyCodeObject'ÿ: '4' octets de remplissage ajout‚s aprŠs donn‚es membres 'PyCodeObject::_co_firsttraceable'\n",
      "  C:\\Users\\yassi\\AppData\\Local\\Programs\\Python\\Python311\\include\\cpython/code.h(103): warning C4820: 'PyCodeObject'ÿ: '7' octets de remplissage ajout‚s aprŠs donn‚es membres 'PyCodeObject::co_code_adaptive'\n",
      "  C:\\Users\\yassi\\AppData\\Local\\Programs\\Python\\Python311\\include\\cpython/code.h(175): warning C4820: '_opaque'ÿ: '4' octets de remplissage ajout‚s aprŠs donn‚es membres '_opaque::computed_line'\n",
      "  C:\\Users\\yassi\\AppData\\Local\\Programs\\Python\\Python311\\include\\cpython/code.h(183): warning C4820: '_line_offsets'ÿ: '4' octets de remplissage ajout‚s aprŠs donn‚es membres '_line_offsets::ar_line'\n",
      "  C:\\Users\\yassi\\AppData\\Local\\Programs\\Python\\Python311\\include\\cpython/initconfig.h(16): warning C4820: '<unnamed-tag>'ÿ: '4' octets de remplissage ajout‚s aprŠs donn‚es membres '<unnamed-tag>::_type'\n",
      "  C:\\Users\\yassi\\AppData\\Local\\Programs\\Python\\Python311\\include\\cpython/initconfig.h(19): warning C4820: '<unnamed-tag>'ÿ: '4' octets de remplissage ajout‚s aprŠs donn‚es membres '<unnamed-tag>::exitcode'\n",
      "  C:\\Users\\yassi\\AppData\\Local\\Programs\\Python\\Python311\\include\\cpython/initconfig.h(149): warning C4820: 'PyConfig'ÿ: '4' octets de remplissage ajout‚s aprŠs donn‚es membres 'PyConfig::dump_refs'\n",
      "  C:\\Users\\yassi\\AppData\\Local\\Programs\\Python\\Python311\\include\\cpython/initconfig.h(151): warning C4820: 'PyConfig'ÿ: '4' octets de remplissage ajout‚s aprŠs donn‚es membres 'PyConfig::malloc_stats'\n",
      "  C:\\Users\\yassi\\AppData\\Local\\Programs\\Python\\Python311\\include\\cpython/initconfig.h(155): warning C4820: 'PyConfig'ÿ: '4' octets de remplissage ajout‚s aprŠs donn‚es membres 'PyConfig::parse_argv'\n",
      "  C:\\Users\\yassi\\AppData\\Local\\Programs\\Python\\Python311\\include\\cpython/initconfig.h(172): warning C4820: 'PyConfig'ÿ: '4' octets de remplissage ajout‚s aprŠs donn‚es membres 'PyConfig::buffered_stdio'\n",
      "  C:\\Users\\yassi\\AppData\\Local\\Programs\\Python\\Python311\\include\\cpython/initconfig.h(177): warning C4820: 'PyConfig'ÿ: '4' octets de remplissage ajout‚s aprŠs donn‚es membres 'PyConfig::legacy_windows_stdio'\n",
      "  C:\\Users\\yassi\\AppData\\Local\\Programs\\Python\\Python311\\include\\cpython/initconfig.h(183): warning C4820: 'PyConfig'ÿ: '4' octets de remplissage ajout‚s aprŠs donn‚es membres 'PyConfig::pathconfig_warnings'\n",
      "  C:\\Users\\yassi\\AppData\\Local\\Programs\\Python\\Python311\\include\\cpython/initconfig.h(190): warning C4820: 'PyConfig'ÿ: '4' octets de remplissage ajout‚s aprŠs donn‚es membres 'PyConfig::module_search_paths_set'\n",
      "  C:\\Users\\yassi\\AppData\\Local\\Programs\\Python\\Python311\\include\\cpython/initconfig.h(201): warning C4820: 'PyConfig'ÿ: '4' octets de remplissage ajout‚s aprŠs donn‚es membres 'PyConfig::skip_source_first_line'\n",
      "  C:\\Users\\yassi\\AppData\\Local\\Programs\\Python\\Python311\\include\\cpython/pystate.h(51): warning C4820: '_PyCFrame'ÿ: '7' octets de remplissage ajout‚s aprŠs donn‚es membres '_PyCFrame::use_tracing'\n",
      "  C:\\Users\\yassi\\AppData\\Local\\Programs\\Python\\Python311\\include\\cpython/pystate.h(110): warning C4820: '_ts'ÿ: '4' octets de remplissage ajout‚s aprŠs donn‚es membres '_ts::tracing_what'\n",
      "  C:\\Users\\yassi\\AppData\\Local\\Programs\\Python\\Python311\\include\\cpython/pystate.h(131): warning C4820: '_ts'ÿ: '4' octets de remplissage ajout‚s aprŠs donn‚es membres '_ts::gilstate_counter'\n",
      "  C:\\Users\\yassi\\AppData\\Local\\Programs\\Python\\Python311\\include\\cpython/pystate.h(141): warning C4820: '_ts'ÿ: '4' octets de remplissage ajout‚s aprŠs donn‚es membres '_ts::trash_delete_nesting'\n",
      "  C:\\Users\\yassi\\AppData\\Local\\Programs\\Python\\Python311\\include\\cpython/pystate.h(171): warning C4820: '_ts'ÿ: '4' octets de remplissage ajout‚s aprŠs donn‚es membres '_ts::coroutine_origin_tracking_depth'\n",
      "  C:\\Users\\yassi\\AppData\\Local\\Programs\\Python\\Python311\\include\\cpython/genobject.h(35): warning C4820: '<unnamed-tag>'ÿ: '4' octets de remplissage ajout‚s aprŠs donn‚es membres '<unnamed-tag>::gi_frame_state'\n",
      "  C:\\Users\\yassi\\AppData\\Local\\Programs\\Python\\Python311\\include\\cpython/genobject.h(54): warning C4820: '<unnamed-tag>'ÿ: '4' octets de remplissage ajout‚s aprŠs donn‚es membres '<unnamed-tag>::cr_frame_state'\n",
      "  C:\\Users\\yassi\\AppData\\Local\\Programs\\Python\\Python311\\include\\cpython/genobject.h(68): warning C4820: '<unnamed-tag>'ÿ: '4' octets de remplissage ajout‚s aprŠs donn‚es membres '<unnamed-tag>::ag_frame_state'\n",
      "  C:\\Users\\yassi\\AppData\\Local\\Programs\\Python\\Python311\\include\\cpython/descrobject.h(14): warning C4820: 'wrapperbase'ÿ: '4' octets de remplissage ajout‚s aprŠs donn‚es membres 'wrapperbase::offset'\n",
      "  C:\\Users\\yassi\\AppData\\Local\\Programs\\Python\\Python311\\include\\cpython/descrobject.h(18): warning C4820: 'wrapperbase'ÿ: '4' octets de remplissage ajout‚s aprŠs donn‚es membres 'wrapperbase::flags'\n",
      "  C:\\Users\\yassi\\AppData\\Local\\Programs\\Python\\Python311\\include\\structseq.h(20): warning C4820: 'PyStructSequence_Desc'ÿ: '4' octets de remplissage ajout‚s aprŠs donn‚es membres 'PyStructSequence_Desc::n_in_sequence'\n",
      "  C:\\Users\\yassi\\AppData\\Local\\Programs\\Python\\Python311\\include\\cpython/pyerrors.h(15): warning C4820: '<unnamed-tag>'ÿ: '7' octets de remplissage ajout‚s aprŠs donn‚es membres '<unnamed-tag>::suppress_context'\n",
      "  C:\\Users\\yassi\\AppData\\Local\\Programs\\Python\\Python311\\include\\cpython/pyerrors.h(19): warning C4820: '<unnamed-tag>'ÿ: '7' octets de remplissage ajout‚s aprŠs donn‚es membres '<unnamed-tag>::suppress_context'\n",
      "  C:\\Users\\yassi\\AppData\\Local\\Programs\\Python\\Python311\\include\\cpython/pyerrors.h(25): warning C4820: '<unnamed-tag>'ÿ: '7' octets de remplissage ajout‚s aprŠs donn‚es membres '<unnamed-tag>::suppress_context'\n",
      "  C:\\Users\\yassi\\AppData\\Local\\Programs\\Python\\Python311\\include\\cpython/pyerrors.h(37): warning C4820: '<unnamed-tag>'ÿ: '7' octets de remplissage ajout‚s aprŠs donn‚es membres '<unnamed-tag>::suppress_context'\n",
      "  C:\\Users\\yassi\\AppData\\Local\\Programs\\Python\\Python311\\include\\cpython/pyerrors.h(44): warning C4820: '<unnamed-tag>'ÿ: '7' octets de remplissage ajout‚s aprŠs donn‚es membres '<unnamed-tag>::suppress_context'\n",
      "  C:\\Users\\yassi\\AppData\\Local\\Programs\\Python\\Python311\\include\\cpython/pyerrors.h(53): warning C4820: '<unnamed-tag>'ÿ: '7' octets de remplissage ajout‚s aprŠs donn‚es membres '<unnamed-tag>::suppress_context'\n",
      "  C:\\Users\\yassi\\AppData\\Local\\Programs\\Python\\Python311\\include\\cpython/pyerrors.h(58): warning C4820: '<unnamed-tag>'ÿ: '7' octets de remplissage ajout‚s aprŠs donn‚es membres '<unnamed-tag>::suppress_context'\n",
      "  C:\\Users\\yassi\\AppData\\Local\\Programs\\Python\\Python311\\include\\cpython/pyerrors.h(70): warning C4820: '<unnamed-tag>'ÿ: '7' octets de remplissage ajout‚s aprŠs donn‚es membres '<unnamed-tag>::suppress_context'\n",
      "  C:\\Users\\yassi\\AppData\\Local\\Programs\\Python\\Python311\\include\\cpython/pyerrors.h(75): warning C4820: '<unnamed-tag>'ÿ: '7' octets de remplissage ajout‚s aprŠs donn‚es membres '<unnamed-tag>::suppress_context'\n",
      "  C:\\Users\\yassi\\AppData\\Local\\Programs\\Python\\Python311\\include\\cpython/pyerrors.h(80): warning C4820: '<unnamed-tag>'ÿ: '7' octets de remplissage ajout‚s aprŠs donn‚es membres '<unnamed-tag>::suppress_context'\n",
      "  C:\\Users\\yassi\\AppData\\Local\\Programs\\Python\\Python311\\include\\cpython/modsupport.h(59): warning C4820: '_PyArg_Parser'ÿ: '4' octets de remplissage ajout‚s aprŠs donn‚es membres '_PyArg_Parser::max'\n",
      "  C:\\Users\\yassi\\AppData\\Local\\Programs\\Python\\Python311\\include\\cpython/abstract.h(59): warning C4365: 'return'ÿ: conversion de 'size_t' en 'Py_ssize_t', incompatibilit‚ signed/unsigned\n",
      "  pdftotext.cpp(3): fatal error C1083: Impossible d'ouvrir le fichier includeÿ: 'poppler/cpp/poppler-document.h'ÿ: No such file or directory\n",
      "  error: command 'C:\\\\Program Files\\\\Microsoft Visual Studio\\\\2022\\\\Community\\\\VC\\\\Tools\\\\MSVC\\\\14.39.33519\\\\bin\\\\HostX86\\\\x64\\\\cl.exe' failed with exit code 2\n",
      "  [end of output]\n",
      "  \n",
      "  note: This error originates from a subprocess, and is likely not a problem with pip.\n",
      "error: legacy-install-failure\n",
      "\n",
      "Encountered error while trying to install package.\n",
      "\n",
      "pdftotext\n",
      "\n",
      "note: This is an issue with the package mentioned above, not pip.\n",
      "hint: See above for output from the failure.\n",
      "\n",
      "[notice] A new release of pip available: 22.3.1 -> 24.0\n",
      "[notice] To update, run: python.exe -m pip install --upgrade pip\n"
     ]
    }
   ],
   "source": [
    "!pip install pdftotext"
   ]
  },
  {
   "cell_type": "code",
   "execution_count": 7,
   "id": "b9d20c92-99e7-4f26-9676-ddabfe0dec13",
   "metadata": {},
   "outputs": [
    {
     "name": "stdout",
     "output_type": "stream",
     "text": [
      "Note: you may need to restart the kernel to use updated packages.\n"
     ]
    },
    {
     "name": "stderr",
     "output_type": "stream",
     "text": [
      "ERROR: Could not find a version that satisfies the requirement poppler (from versions: none)\n",
      "ERROR: No matching distribution found for poppler\n"
     ]
    }
   ],
   "source": [
    " pip install poppler"
   ]
  },
  {
   "cell_type": "code",
   "execution_count": 5,
   "id": "30db83b8-adaa-48d5-b25a-92398e62347d",
   "metadata": {},
   "outputs": [
    {
     "ename": "ModuleNotFoundError",
     "evalue": "No module named 'pdftotext'",
     "output_type": "error",
     "traceback": [
      "\u001b[1;31m------------------------------------------------------------------------\u001b[0m",
      "\u001b[1;31mModuleNotFoundError\u001b[0m                    Traceback (most recent call last)",
      "Cell \u001b[1;32mIn[5], line 2\u001b[0m\n\u001b[0;32m      1\u001b[0m \u001b[38;5;28;01mimport\u001b[39;00m \u001b[38;5;21;01mglob\u001b[39;00m\n\u001b[1;32m----> 2\u001b[0m \u001b[38;5;28;01mimport\u001b[39;00m \u001b[38;5;21;01mpdftotext\u001b[39;00m\n\u001b[0;32m      4\u001b[0m \u001b[38;5;66;03m# Get all PDF files in the invoices folder\u001b[39;00m\n\u001b[0;32m      5\u001b[0m files \u001b[38;5;241m=\u001b[39m glob\u001b[38;5;241m.\u001b[39mglob(\u001b[38;5;124m'\u001b[39m\u001b[38;5;124mlibrairies-test/*.pdf\u001b[39m\u001b[38;5;124m'\u001b[39m)\n",
      "\u001b[1;31mModuleNotFoundError\u001b[0m: No module named 'pdftotext'"
     ]
    }
   ],
   "source": [
    "import glob\n",
    "import pdftotext\n",
    " \n",
    "# Get all PDF files in the invoices folder\n",
    "files = glob.glob('librairies-test/*.pdf')\n",
    " \n",
    "for i, file in enumerate(files):\n",
    "    with open(file, 'rb') as f:\n",
    "        # Raw=True is needed to get text grouped together\n",
    "        #   which improves the accuracy\n",
    "        pdf = pdftotext.PDF(f, raw=True)\n",
    "        text = '\\n\\n'.join(pdf)\n",
    "        print(text)"
   ]
  },
  {
   "cell_type": "code",
   "execution_count": 4,
   "id": "59913f21-ae19-44bf-84be-2b290c67bbc3",
   "metadata": {},
   "outputs": [
    {
     "name": "stdout",
     "output_type": "stream",
     "text": [
      "Requirement already satisfied: pillow in c:\\users\\yassi\\desktop\\ocr\\librairies-test\\librairiestest\\lib\\site-packages (10.3.0)\n"
     ]
    },
    {
     "name": "stderr",
     "output_type": "stream",
     "text": [
      "\n",
      "[notice] A new release of pip available: 22.3.1 -> 24.0\n",
      "[notice] To update, run: python.exe -m pip install --upgrade pip\n"
     ]
    }
   ],
   "source": [
    "!pip install pillow "
   ]
  },
  {
   "cell_type": "code",
   "execution_count": 5,
   "id": "7b0715cf-60f1-4324-8290-0d39c4c2c37f",
   "metadata": {},
   "outputs": [
    {
     "name": "stdout",
     "output_type": "stream",
     "text": [
      "Requirement already satisfied: opencv-python in c:\\users\\yassi\\desktop\\ocr\\librairies-test\\librairiestest\\lib\\site-packages (4.9.0.80)\n",
      "Requirement already satisfied: numpy>=1.21.2 in c:\\users\\yassi\\desktop\\ocr\\librairies-test\\librairiestest\\lib\\site-packages (from opencv-python) (1.26.4)\n"
     ]
    },
    {
     "name": "stderr",
     "output_type": "stream",
     "text": [
      "\n",
      "[notice] A new release of pip available: 22.3.1 -> 24.0\n",
      "[notice] To update, run: python.exe -m pip install --upgrade pip\n"
     ]
    }
   ],
   "source": [
    "!pip install opencv-python"
   ]
  },
  {
   "cell_type": "code",
   "execution_count": 6,
   "id": "ffb89493-8c77-4587-b117-0dce5106f1c2",
   "metadata": {
    "scrolled": true
   },
   "outputs": [
    {
     "name": "stdout",
     "output_type": "stream",
     "text": [
      "Requirement already satisfied: pytesseract in c:\\users\\yassi\\desktop\\ocr\\librairies-test\\librairiestest\\lib\\site-packages (0.3.10)\n",
      "Requirement already satisfied: packaging>=21.3 in c:\\users\\yassi\\desktop\\ocr\\librairies-test\\librairiestest\\lib\\site-packages (from pytesseract) (24.0)\n",
      "Requirement already satisfied: Pillow>=8.0.0 in c:\\users\\yassi\\desktop\\ocr\\librairies-test\\librairiestest\\lib\\site-packages (from pytesseract) (10.3.0)\n"
     ]
    },
    {
     "name": "stderr",
     "output_type": "stream",
     "text": [
      "\n",
      "[notice] A new release of pip available: 22.3.1 -> 24.0\n",
      "[notice] To update, run: python.exe -m pip install --upgrade pip\n"
     ]
    }
   ],
   "source": [
    "!pip install pytesseract"
   ]
  },
  {
   "cell_type": "code",
   "execution_count": 8,
   "id": "dfff6ce8-3326-475d-b0d7-0d4fca2f5311",
   "metadata": {},
   "outputs": [
    {
     "name": "stdout",
     "output_type": "stream",
     "text": [
      "Requirement already satisfied: pillow in c:\\users\\yassi\\desktop\\ocr\\librairies-test\\librairiestest\\lib\\site-packages (10.3.0)\n"
     ]
    },
    {
     "name": "stderr",
     "output_type": "stream",
     "text": [
      "\n",
      "[notice] A new release of pip available: 22.3.1 -> 24.0\n",
      "[notice] To update, run: python.exe -m pip install --upgrade pip\n"
     ]
    }
   ],
   "source": [
    "!pip install pillow"
   ]
  },
  {
   "cell_type": "code",
   "execution_count": 10,
   "id": "9db005db-681c-4130-a921-917c0dfca1a3",
   "metadata": {},
   "outputs": [
    {
     "name": "stdout",
     "output_type": "stream",
     "text": [
      "Requirement already satisfied: pytesseract in c:\\users\\yassi\\desktop\\ocr\\librairies-test\\librairiestest\\lib\\site-packages (0.3.10)\n",
      "Requirement already satisfied: packaging>=21.3 in c:\\users\\yassi\\desktop\\ocr\\librairies-test\\librairiestest\\lib\\site-packages (from pytesseract) (24.0)\n",
      "Requirement already satisfied: Pillow>=8.0.0 in c:\\users\\yassi\\desktop\\ocr\\librairies-test\\librairiestest\\lib\\site-packages (from pytesseract) (10.3.0)\n"
     ]
    },
    {
     "name": "stderr",
     "output_type": "stream",
     "text": [
      "\n",
      "[notice] A new release of pip available: 22.3.1 -> 24.0\n",
      "[notice] To update, run: python.exe -m pip install --upgrade pip\n"
     ]
    }
   ],
   "source": [
    "!python -m pip install pytesseract"
   ]
  },
  {
   "cell_type": "code",
   "execution_count": 36,
   "id": "9b444ccd-b482-419d-b404-7649d482eeb7",
   "metadata": {},
   "outputs": [],
   "source": [
    "import pytesseract\n",
    "from PIL import Image"
   ]
  },
  {
   "cell_type": "code",
   "execution_count": 37,
   "id": "56de77f3-72cb-4f47-9034-3be037a148f7",
   "metadata": {},
   "outputs": [],
   "source": [
    "pytesseract.pytesseract.tesseract_cmd=r'C:\\Users\\yassi\\AppData\\Local\\Tesseract-OCR\\tesseract.exe'"
   ]
  },
  {
   "cell_type": "code",
   "execution_count": 38,
   "id": "08536b34-aad7-4443-874d-bf4c78c4c458",
   "metadata": {},
   "outputs": [],
   "source": [
    "img_file = \"let.jpg\""
   ]
  },
  {
   "cell_type": "code",
   "execution_count": 39,
   "id": "85710433-4322-4894-8c30-dc2cfd389f4e",
   "metadata": {},
   "outputs": [],
   "source": [
    "img = Image.open(img_file)"
   ]
  },
  {
   "cell_type": "code",
   "execution_count": 7,
   "id": "10facae2-6b13-4ef4-b7f0-4dc06f9bc835",
   "metadata": {},
   "outputs": [],
   "source": [
    "text = pytesseract.image_to_string(img)"
   ]
  },
  {
   "cell_type": "code",
   "execution_count": 8,
   "id": "cced8a14-6f23-42d6-b15f-b61514eb1ff2",
   "metadata": {},
   "outputs": [
    {
     "name": "stdout",
     "output_type": "stream",
     "text": [
      "NOM et Prénom\n",
      "Adresse\n",
      "\n",
      "Code Postal, Ville\n",
      "Numéro de téléphone\n",
      "Adresse email\n",
      "\n",
      "Nom de lentreprise\n",
      "Nom du destinataire ou service\n",
      "Adresse de I'entreprise\n",
      "\n",
      "Code postal, Ville\n",
      "\n",
      "Lieu et date de rédaction\n",
      "\n",
      "Objet de la lettre de motivation\n",
      "\n",
      "Madame, Monsieur,\n",
      "\n",
      "Lorem ipsum dolor sit amet, consectetur adipiscing elit. Cras efficitur tincidunt velit. Etiam rhoncus\n",
      "lacinia mauris, non feugiat mauris. Phasellus porttitor quis lectus quis interdum. Nunc in laoreet velit.\n",
      "Donec vitae mi facilisis, luctus odio eget, consequat elit. Sed tempor sed dui id congue. Praesent eget\n",
      "consequat ex.\n",
      "\n",
      "Proin vel dolor neque. Aenean nunc ante, bibendum a dolor vel, suscipit facilisis libero. Pellentesque\n",
      "congue rhoncus justo eget laoreet. Suspendisse potenti. Fusce id lectus velit. Curabitur pharetra,\n",
      "lorem eu egestas rhoncus, metus lorem pellentesque urna, non gravida lacus felis eu diam.\n",
      "\n",
      "Sed at felis magna. Curabitur mi purus, porttitor eu dui sed, maximus imperdiet mauris. Pellentesque\n",
      "habitant morbi tristique senectus et netus et malesuada fames ac turpis egestas. Vivamus blandit\n",
      "vestibulum purus eget lobortis. Morbi sed venenatis elit. Nunc gravida sed turpis at pharetra.\n",
      "\n",
      "Dans I'attente d’une réponse de votre part, je vous prie Madame, Monsieur de bien vouloir recevoir\n",
      "mes plus respectueuses salutations.\n",
      "\n",
      "Prénom et NOM\n",
      "\n",
      "Signature\n",
      "\f",
      "\n"
     ]
    }
   ],
   "source": [
    "print(text)"
   ]
  },
  {
   "cell_type": "code",
   "execution_count": 9,
   "id": "dbb8a9dd-ba19-4883-a896-d019f928f7b3",
   "metadata": {},
   "outputs": [],
   "source": [
    "import cv2"
   ]
  },
  {
   "cell_type": "code",
   "execution_count": 10,
   "id": "f3c34ac6-962b-47ee-a543-48c3f2fa1b1d",
   "metadata": {},
   "outputs": [],
   "source": [
    "img_to_stuctured = cv2.imread(img_file)"
   ]
  },
  {
   "cell_type": "code",
   "execution_count": 11,
   "id": "f852228f-3839-4573-af10-75bacb9e99bc",
   "metadata": {},
   "outputs": [],
   "source": [
    "gray = cv2.cvtColor(img_to_stuctured, cv2.COLOR_BGR2GRAY)"
   ]
  },
  {
   "cell_type": "code",
   "execution_count": 12,
   "id": "2185055e-6de4-4847-ac8c-fa0bfe981798",
   "metadata": {},
   "outputs": [
    {
     "data": {
      "text/plain": [
       "True"
      ]
     },
     "execution_count": 12,
     "metadata": {},
     "output_type": "execute_result"
    }
   ],
   "source": [
    "cv2.imwrite(\"index_gray.png\", gray)"
   ]
  },
  {
   "cell_type": "code",
   "execution_count": 13,
   "id": "985c3761-39cf-483d-b9fb-088907acfc98",
   "metadata": {},
   "outputs": [],
   "source": [
    "blur = cv2.GaussianBlur(gray, (7,7), 0)"
   ]
  },
  {
   "cell_type": "code",
   "execution_count": 14,
   "id": "aea1d333-c028-4117-8293-4ef847ebb483",
   "metadata": {},
   "outputs": [
    {
     "data": {
      "text/plain": [
       "True"
      ]
     },
     "execution_count": 14,
     "metadata": {},
     "output_type": "execute_result"
    }
   ],
   "source": [
    "cv2.imwrite(\"index_blur.png\", blur)"
   ]
  },
  {
   "cell_type": "code",
   "execution_count": 15,
   "id": "203b1320-0c27-44b3-a81f-42d4a09790c8",
   "metadata": {},
   "outputs": [],
   "source": [
    "thresh = cv2.threshold(blur, 0, 255, cv2.THRESH_BINARY_INV + cv2.THRESH_OTSU)[1]"
   ]
  },
  {
   "cell_type": "code",
   "execution_count": 20,
   "id": "8e95281a-7b2f-4026-852f-8d3722173ead",
   "metadata": {},
   "outputs": [
    {
     "data": {
      "text/plain": [
       "True"
      ]
     },
     "execution_count": 20,
     "metadata": {},
     "output_type": "execute_result"
    }
   ],
   "source": [
    "cv2.imwrite(\"index_thresh.png\", thresh)"
   ]
  },
  {
   "cell_type": "code",
   "execution_count": 17,
   "id": "5f7ac92d-ca06-426f-b83a-ef58de3fbb02",
   "metadata": {},
   "outputs": [],
   "source": [
    "kernal = cv2.getStructuringElement(cv2.MORPH_RECT,(3,13))"
   ]
  },
  {
   "cell_type": "code",
   "execution_count": 19,
   "id": "9fa5164d-25a0-4996-84b7-fdc44dfbac32",
   "metadata": {},
   "outputs": [
    {
     "data": {
      "text/plain": [
       "True"
      ]
     },
     "execution_count": 19,
     "metadata": {},
     "output_type": "execute_result"
    }
   ],
   "source": [
    "cv2.imwrite(\"index_kernal.png\", kernal)"
   ]
  },
  {
   "cell_type": "code",
   "execution_count": 21,
   "id": "cefd95d6-6abd-41d8-a3c2-e4bafe4c8f7a",
   "metadata": {},
   "outputs": [],
   "source": [
    "dilate = cv2.dilate(thresh, kernal, iterations = 1)"
   ]
  },
  {
   "cell_type": "code",
   "execution_count": 22,
   "id": "773e4a19-a7a8-44bd-a88e-2236c8333f29",
   "metadata": {},
   "outputs": [
    {
     "data": {
      "text/plain": [
       "True"
      ]
     },
     "execution_count": 22,
     "metadata": {},
     "output_type": "execute_result"
    }
   ],
   "source": [
    "cv2.imwrite(\"index_dilate.png\", dilate)"
   ]
  },
  {
   "cell_type": "code",
   "execution_count": 23,
   "id": "90e59685-62dc-4ec5-95e0-be8b3eea75b7",
   "metadata": {},
   "outputs": [],
   "source": [
    "cnts = cv2.findContours(dilate, cv2.RETR_EXTERNAL, cv2.CHAIN_APPROX_SIMPLE)"
   ]
  },
  {
   "cell_type": "code",
   "execution_count": 26,
   "id": "2a29bb81-8d2a-4554-8a95-0ec1e1d27b94",
   "metadata": {},
   "outputs": [],
   "source": [
    "cnts = cnts[0] if len(cnts) == 2 else cnts[1]"
   ]
  },
  {
   "cell_type": "code",
   "execution_count": 29,
   "id": "fcac27f9-7ccf-4d19-a7b5-d264ccaaa5eb",
   "metadata": {},
   "outputs": [],
   "source": [
    "cnts = sorted(cnts, key=lambda x: cv2.boundingRect(x)[0])"
   ]
  },
  {
   "cell_type": "code",
   "execution_count": 41,
   "id": "be8afa84-bbe6-4120-8aca-b5d9116ae1bf",
   "metadata": {},
   "outputs": [
    {
     "data": {
      "text/plain": [
       "True"
      ]
     },
     "execution_count": 41,
     "metadata": {},
     "output_type": "execute_result"
    }
   ],
   "source": [
    "for c in cnts: \n",
    "    x,y,w,h = cv2.boundingRect(c)\n",
    "    cv2.rectangle(img_to_stuctured, (x,y), (x+w, y+h), (36, 255, 12), 2)\n",
    "cv2.imwrite(\"index_bbox.png\", img_to_stuctured)"
   ]
  },
  {
   "cell_type": "code",
   "execution_count": null,
   "id": "766a140f-77d8-4976-944b-61f9287292b5",
   "metadata": {},
   "outputs": [],
   "source": []
  }
 ],
 "metadata": {
  "kernelspec": {
   "display_name": "librairiestest",
   "language": "python",
   "name": "librairiestest"
  },
  "language_info": {
   "codemirror_mode": {
    "name": "ipython",
    "version": 3
   },
   "file_extension": ".py",
   "mimetype": "text/x-python",
   "name": "python",
   "nbconvert_exporter": "python",
   "pygments_lexer": "ipython3",
   "version": "3.11.3"
  }
 },
 "nbformat": 4,
 "nbformat_minor": 5
}
