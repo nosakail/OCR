import easyocr
import cv2
import time


# Charger l'image
image = cv2.imread('DOTL.jpg')

# Initialiser EasyOCR avec la langue française
reader = easyocr.Reader(['en'], gpu=False)
start_time = time.time()# Start of timing
result = reader.readtext('DOTL.jpg')
end_time = time.time()# end of timing
processing_time = end_time - start_time


print(f"Processing and analysis time : {processing_time:.2f} seconds")


start_time1 = time.time()# Start of timing
for detection in result:
    bbox = detection[0]
    cv2.rectangle(image, (bbox[0][0], bbox[0][1]), (bbox[2][0], bbox[2][1]), (0, 255, 0), 2)
end_time1 = time.time()# end of timing
# Enregistrer l'image avec les rectangles dessinés
cv2.imwrite('text_detection_output.jpg', image)
processing_time1 = end_time1 - start_time1


print(processing_time1)


print(result)


for r in result:
    print(r)



