import easyocr
from PIL import Image, ImageDraw
import time


# download model
reader = easyocr.Reader(['en'], gpu=False)

im = Image.open("ant.png")


start_time = time.time()# Start of timing
bounds = reader.readtext('ant.png')#analyse
end_time = time.time()# end of timing
processing_time = end_time - start_time



print(f"Processing and analysis time : {processing_time:.2f} seconds")


def draw_boxes(image, bounds, color=(0, 255, 0), width=2):
    draw = ImageDraw.Draw(image)
    for bound in bounds:
        p0, p1, p2, p3 = bound[0]
        draw.line([tuple(p0), tuple(p1), tuple(p2), tuple(p3), tuple(p0)], fill=color, width=width)
    return image


start_time1 = time.time()# Start of timing
result_image = draw_boxes(im, bounds)
end_time1 = time.time()# end of timing
processing_time1 = end_time1 - start_time1

result_image.save("result.png")
result_image.show()

print(f"Processing and analysis time : {processing_time1:.2f} seconds")


for bound in bounds:
    print(bound[1])



