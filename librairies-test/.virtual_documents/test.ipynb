!pip install pillow 


!pip install opencv-python


!pip install pytesseract


!pip install pillow


!python -m pip install pytesseract


import pytesseract
from PIL import Image


pytesseract.pytesseract.tesseract_cmd=r'C:\Users\yassi\AppData\Local\Tesseract-OCR\tesseract.exe'


img_file = "DOTL.jpg"


img = Image.open(img_file)


text = pytesseract.image_to_string(img)


print(text)


import cv2


img_to_stuctured = cv2.imread(img_file)
base_image = img_to_stuctured.copy()


gray = cv2.cvtColor(img_to_stuctured, cv2.COLOR_BGR2GRAY)


cv2.imwrite("DOTL_gray.png", gray)


blur = cv2.GaussianBlur(gray, (7,7), 0)


cv2.imwrite("DOTL_blur.png", blur)


thresh = cv2.threshold(blur, 0, 255, cv2.THRESH_BINARY_INV + cv2.THRESH_OTSU)[1]


cv2.imwrite("DOTL_thresh.png", thresh)


kernal = cv2.getStructuringElement(cv2.MORPH_RECT,(3,13))


cv2.imwrite("DOTL_kernal.png", kernal)


dilate = cv2.dilate(thresh, kernal, iterations = 1)


cv2.imwrite("DOTL_dilate.png", dilate)


cnts = cv2.findContours(dilate, cv2.RETR_EXTERNAL, cv2.CHAIN_APPROX_SIMPLE)


cnts = cnts[0] if len(cnts) == 2 else cnts[1]


cnts = sorted(cnts, key=lambda x: cv2.boundingRect(x)[0])


results = []
for c in cnts: 
    x,y,w,h = cv2.boundingRect(c)
    if h > 200 and w > 20:
        roi = img_to_stuctured[y:y+h, x:x+h]
        cv2.imwrite("DOTL_roi.png", roi)
        cv2.rectangle(img_to_stuctured, (x,y), (x+w, y+h), (36, 255, 12), 2)
        ocr_result = pytesseract.image_to_string(roi)
        ocr_result = ocr_result.split("\n")
        #for item in ocr_rµesult : 
            #item = item.strip()
            #item = item.split(" ")[0]
            #print(item)
        for item in ocr_result:
            results.append(item)
cv2.imwrite("DOTL_bbox_new.png", img_to_stuctured)


print(results)


entities = []
for item in results:
    item = item.strip().replace("\n","")
    item = item.split(" ")[0]
    if len(item) > 2:
        #if item[0].isupper():
        if item[0] == "A": #and "-" not in item:
            item = item.split(".")[0].replace(",","").replace(";","")
            print(item)
            entities.append(item)


print (entities)


entities = list(set(entities))


print (entities)


entities.sort()


print(entities)



