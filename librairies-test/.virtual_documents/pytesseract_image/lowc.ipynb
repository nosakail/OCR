from PIL import Image
import pytesseract
import time
pytesseract.pytesseract.tesseract_cmd=r'C:\Users\yassi\AppData\Local\Tesseract-OCR\tesseract.exe'


# List of available languages
print(pytesseract.get_languages(config=''))


start_time = time.time()# Start of timing
# Simple image to string
print(pytesseract.image_to_string('lowc.jpg'))
end_time = time.time()# end of timing
processing_time = end_time - start_time


print(processing_time)


# Get bounding box estimates
#print(pytesseract.image_to_boxes('ant.png'))


from PIL import Image, ImageDraw
import pytesseract
import time

# Configuration de Tesseract
pytesseract.pytesseract.tesseract_cmd = r'C:\Users\yassi\AppData\Local\Tesseract-OCR\tesseract.exe'

# Charger l'image
im = Image.open("lowc.jpg")

start_time = time.time()
boxes = pytesseract.image_to_boxes(im)
end_time = time.time()
processing_time = end_time - start_time

# Dessiner les boîtes englobantes sur l'image
draw = ImageDraw.Draw(im)
width, height = im.size

for b in boxes.splitlines():
    b = b.split(' ')
    x1, y2, x2, y1 = int(b[1]), height - int(b[2]), int(b[3]), height - int(b[4])
    draw.rectangle([x1, y1, x2, y2], outline=(0, 255, 0), width=2)

# Enregistrer l'image résultante
im.save("result_lowc.png")

# Afficher l'image
im.show()

# Imprimer le temps de traitement et d'analyse
print(f"Temps de traitement et d'analyse : {processing_time:.2f} secondes")



# Imprimer le temps de traitement et d'analyse
print(f"{processing_time:.2f} seconds")



