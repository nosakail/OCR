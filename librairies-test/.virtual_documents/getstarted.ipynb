pip install keras_ocr


#Importing the library
import matplotlib.pyplot as plt
import keras_ocr

# keras-ocr will automatically download pretrained
# weights for the detector and recognizer.
pipeline = keras_ocr.pipeline.Pipeline()

# Get a set of three example images
images = [
    keras_ocr.tools.read(url) for url in [
        'https://upload.wikimedia.org/wikipedia/commons/b/bd/Army_Reserves_Recruitment_Banner_MOD_45156284.jpg',
        'https://upload.wikimedia.org/wikipedia/commons/e/e8/FseeG2QeLXo.jpg',
        'https://upload.wikimedia.org/wikipedia/commons/b/b4/EUBanana-500x112.jpg'
    ]
]

# Each list of predictions in prediction_groups is a list of
# (word, box) tuples.
prediction_groups = pipeline.recognize(images)

# Plot the predictions
fig, axs = plt.subplots(nrows=len(images), figsize=(20, 20))
for ax, image, predictions in zip(axs, images, prediction_groups):
    keras_ocr.tools.drawAnnotations(image=image, predictions=predictions, ax=ax)
    


pip install poppler-utils


pip install pdftotext


pip install --force-reinstall pdftotext


 pip install poppler


import glob
import pdftotext
 
# Get all PDF files in the invoices folder
files = glob.glob('librairies-test/*.pdf')
 
for i, file in enumerate(files):
    with open(file, 'rb') as f:
        # Raw=True is needed to get text grouped together
        #   which improves the accuracy
        pdf = pdftotext.PDF(f, raw=True)
        text = '\n\n'.join(pdf)
        print(text)



