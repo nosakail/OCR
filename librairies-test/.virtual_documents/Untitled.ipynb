!pip install -q keras-ocr


import keras_ocr
import matplotlib.pyplot as plt


!pip install --upgrade keras-ocr


pip install --upgrade requests-oauthlib


!pip uninstall tweepy requests-oauthlib
!pip install tweepy requests-oauthlib


!pip install --force-reinstall -v "tensorflow==2.15.1"


pipeline = keras_ocr.pipeline.Pipeline()



