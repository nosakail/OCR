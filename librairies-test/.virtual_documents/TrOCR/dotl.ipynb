from transformers import TrOCRProcessor, VisionEncoderDecoderModel
from PIL import Image
import time

model_version = "microsoft/trocr-base-printed"
processor = TrOCRProcessor.from_pretrained(model_version)
model = VisionEncoderDecoderModel.from_pretrained(model_version)


image = Image.open("DOTL.jpg").convert("RGB")
pixel_values = processor(image, return_tensors="pt").pixel_values
start_time = time.time()  
generated_ids = model.generate(pixel_values)
end_time = time.time()  
extract_text = processor.batch_decode(generated_ids, skip_special_tokens=True)[0]
processing_time = end_time - start_time
print('output: ',extract_text)


print(processing_time)


crp_image = Image.open("DOTL_crop.jpg")


pixel_values = processor(crp_image, return_tensors="pt").pixel_values
start_time = time.time()  # Démarrer le chronomètre
generated_ids = model.generate(pixel_values)
end_time = time.time()  # Arrêter le chronomètre
extract_text = processor.batch_decode(generated_ids, skip_special_tokens=True)[0]
processing_time1 = end_time - start_time
print('Output from cropped image:', extract_text)


print(processing_time1)


from transformers import TrOCRProcessor, VisionEncoderDecoderModel
from PIL import Image, ImageDraw
import pytesseract

# Configuration de Tesseract
pytesseract.pytesseract.tesseract_cmd = r'C:\Users\yassi\AppData\Local\Tesseract-OCR\tesseract.exe'

# Chargement du modèle TrOCR
model_version = "microsoft/trocr-base-printed"
processor = TrOCRProcessor.from_pretrained(model_version)
model = VisionEncoderDecoderModel.from_pretrained(model_version)

# Fonction pour dessiner les boîtes englobantes avec pytesseract
def draw_boxes(image_path, output_path):
    image = Image.open(image_path).convert("RGB")
    draw = ImageDraw.Draw(image)
    width, height = image.size
    
    # Obtenir les boîtes englobantes des caractères avec pytesseract
    boxes = pytesseract.image_to_boxes(image)
    for b in boxes.splitlines():
        b = b.split(' ')
        x1, y2, x2, y1 = int(b[1]), height - int(b[2]), int(b[3]), height - int(b[4])
        draw.rectangle([x1, y1, x2, y2], outline=(0, 255, 0), width=2)
    
    image.save(output_path)
    image.show()

# Analyser et extraire le texte avec TrOCR
image_path = "DOTL.jpg"
image = Image.open(image_path).convert("RGB")
pixel_values = processor(image, return_tensors="pt").pixel_values
start_time = time.time() 
generated_ids = model.generate(pixel_values)
extract_text = processor.batch_decode(generated_ids, skip_special_tokens=True)[0]
#print('Output:', extract_text)

# Dessiner les boîtes englobantes sur l'image originale
draw_boxes(image_path, "DOTL_result_with_boxes.png")
end_time = time.time()
processing_time = end_time - start_time
# Analyser et extraire le texte à partir de l'image recadrée avec TrOCR
crp_image_path = "DOTL_crop.jpg"
crp_image = Image.open(crp_image_path).convert("RGB")
pixel_values = processor(crp_image, return_tensors="pt").pixel_values
start_time1 = time.time() 
generated_ids = model.generate(pixel_values)
extract_text = processor.batch_decode(generated_ids, skip_special_tokens=True)[0]
#print('Output from cropped image:', extract_text)

# Dessiner les boîtes englobantes sur l'image recadrée
draw_boxes(crp_image_path, "DOTL_result_crop_with_boxes.png")
end_time1 = time.time()
processing_time1 = end_time1 - start_time1


print(processing_time)


print(processing_time1)



