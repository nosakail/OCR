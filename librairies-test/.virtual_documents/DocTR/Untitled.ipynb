from doctr.io import DocumentFile
from doctr.models import ocr_predictor


model = ocr_predictor(det_arch = 'db_resnet50',
                      reco_arch = 'crnn_vgg16_bn',
                      pretrained = True
                     )
                     


from PIL import Image
# read file
img = Image.open("DOTL.jpg")

# use pre-trained model
result = model(img)

# export the result as a nested dict
extract_info = result.export()






