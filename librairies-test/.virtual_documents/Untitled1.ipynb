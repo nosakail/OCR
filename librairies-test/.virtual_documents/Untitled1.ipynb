!pip install easyocr
import cv2


!pip3 install torch torchvision torchaudio



import easyocr



